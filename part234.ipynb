{
 "cells": [
  {
   "cell_type": "markdown",
   "id": "456f81ed",
   "metadata": {},
   "source": [
    "# Import Library"
   ]
  },
  {
   "cell_type": "code",
   "execution_count": 1,
   "id": "3a2c77e0",
   "metadata": {},
   "outputs": [
    {
     "name": "stderr",
     "output_type": "stream",
     "text": [
      "WARNING: Using incubator modules: jdk.incubator.vector\n",
      "Using Spark's default log4j profile: org/apache/spark/log4j2-defaults.properties\n",
      "25/09/18 13:41:07 WARN Utils: Your hostname, xuzhengs-MacBook-Pro-2.local, resolves to a loopback address: 127.0.0.1; using 10.5.82.157 instead (on interface en0)\n",
      "25/09/18 13:41:07 WARN Utils: Set SPARK_LOCAL_IP if you need to bind to another address\n",
      "Using Spark's default log4j profile: org/apache/spark/log4j2-defaults.properties\n",
      "Setting default log level to \"WARN\".\n",
      "To adjust logging level use sc.setLogLevel(newLevel). For SparkR, use setLogLevel(newLevel).\n",
      "25/09/18 13:41:07 WARN NativeCodeLoader: Unable to load native-hadoop library for your platform... using builtin-java classes where applicable\n"
     ]
    }
   ],
   "source": [
    "# Pandas\n",
    "import pandas as pd\n",
    "import matplotlib.pyplot as plt\n",
    "import numpy as np\n",
    "import seaborn as sns\n",
    "\n",
    "# PySpark\n",
    "from pyspark.sql import SparkSession\n",
    "from pyspark.sql.functions import col, countDistinct, to_date, to_timestamp, when, expr, date_trunc, count, avg\n",
    "from pyspark.sql.functions import explode, split, trim\n",
    "from pyspark.sql import functions as F\n",
    "from pyspark.sql.types import ArrayType, StringType\n",
    "from pyspark.sql.functions import count as Fcount\n",
    "from pyspark.sql.window import Window \n",
    "import geopandas as gpd\n",
    "\n",
    "spark = SparkSession.builder \\\n",
    "    .appName(\"BNPL_Part234_Data\") \\\n",
    "    .config(\"spark.driver.memory\", \"6g\") \\\n",
    "    .getOrCreate()"
   ]
  },
  {
   "cell_type": "markdown",
   "id": "294b78d9",
   "metadata": {},
   "source": []
  },
  {
   "cell_type": "markdown",
   "id": "daa2fcb7",
   "metadata": {},
   "source": [
    "# Data Check - Part 2 & 3 & 4"
   ]
  },
  {
   "cell_type": "code",
   "execution_count": 2,
   "id": "d78655f9",
   "metadata": {},
   "outputs": [
    {
     "name": "stderr",
     "output_type": "stream",
     "text": [
      "                                                                                \r"
     ]
    }
   ],
   "source": [
    "p2_path = \"part2_data/transaction2021A\"\n",
    "p2_df = spark.read.parquet(p2_path)\n",
    "\n",
    "p3_path = \"part3_data/transaction2021B\"\n",
    "p3_df = spark.read.parquet(p3_path)\n",
    "\n",
    "p4_path = \"part4_data/transaction2022A\"\n",
    "p4_df = spark.read.parquet(p4_path)\n",
    "\n",
    "new_tbl_consumer = (\n",
    "    spark.read\n",
    "         .option(\"header\", True)   \n",
    "         .option(\"inferSchema\", True)\n",
    "         .csv(\"part1_data/new_tbl_consumer.csv\")\n",
    ")\n",
    "consumer_details = spark.read.parquet(\"part1_data/consumer_user_details.parquet\")\n",
    "\n",
    "### 赵航宇数据\n",
    "#preprocessed_data = spark.read.parquet(\"preprocessed_data.parquet\")\n",
    "\n",
    "crime_df = (\n",
    "    spark.read\n",
    "        .option(\"header\", True)   \n",
    "        .option(\"inferSchema\", True)\n",
    "        .csv(\"external_data/comprehensive_crime_rate.csv\")\n",
    ")\n",
    "\n",
    "# income\n",
    "income_df = (\n",
    "    spark.read\n",
    "        .option(\"header\", True)   \n",
    "        .option(\"inferSchema\", True)\n",
    "        .csv(\"external_data/income.csv\")\n",
    ")\n",
    "\n",
    "# employed rate\n",
    "employed_rate = (\n",
    "    spark.read\n",
    "        .option(\"header\", True)   \n",
    "        .option(\"inferSchema\", True)\n",
    "        .csv(\"external_data/employed_rate.csv\")\n",
    ")\n",
    "\n",
    "\n",
    "# consumer_file\n",
    "consumer_level = spark.read.parquet(\"part1_data/consumer_profile.parquet\")\n",
    "\n",
    "# merchant file\n",
    "merchant_level = spark.read.parquet(\"part1_data/merchant_profile.parquet\")\n",
    "\n",
    "# SA3_Map\n",
    "gdf = gpd.read_file(\"external_data/State_Map/State_Map.shp\")"
   ]
  },
  {
   "cell_type": "code",
   "execution_count": 3,
   "id": "2d302208",
   "metadata": {},
   "outputs": [
    {
     "name": "stdout",
     "output_type": "stream",
     "text": [
      "+-------+------------+------------------+--------------------+--------------+\n",
      "|user_id|merchant_abn|      dollar_value|            order_id|order_datetime|\n",
      "+-------+------------+------------------+--------------------+--------------+\n",
      "|  18478| 62191208634|63.255848959735246|949a63c8-29f7-4ab...|    2021-08-20|\n",
      "|      2| 15549624934| 130.3505283105634|6a84c3cf-612a-457...|    2021-08-20|\n",
      "|  18479| 64403598239|120.15860593212783|b10dcc33-e53f-425...|    2021-08-20|\n",
      "|      3| 60956456424| 136.6785200286976|0f09c5a5-784e-447...|    2021-08-20|\n",
      "|  18479| 94493496784| 72.96316578355305|f6c78c1a-4600-4c5...|    2021-08-20|\n",
      "|      3| 76819856970|  448.529684285612|5ace6a24-cdf0-4aa...|    2021-08-20|\n",
      "|  18479| 67609108741|  86.4040605836911|d0e180f0-cb06-42a...|    2021-08-20|\n",
      "|      3| 34096466752| 301.5793450525113|6fb1ff48-24bb-4f9...|    2021-08-20|\n",
      "|  18482| 70501974849| 68.75486276223054|8505fb33-b69a-412...|    2021-08-20|\n",
      "|      4| 49891706470| 48.89796461900801|ed11e477-b09f-4ae...|    2021-08-20|\n",
      "+-------+------------+------------------+--------------------+--------------+\n",
      "only showing top 10 rows\n"
     ]
    },
    {
     "data": {
      "text/plain": [
       "3643266"
      ]
     },
     "execution_count": 3,
     "metadata": {},
     "output_type": "execute_result"
    }
   ],
   "source": [
    "p2_df.show(10)\n",
    "p2_df.count()"
   ]
  },
  {
   "cell_type": "code",
   "execution_count": 4,
   "id": "8e4e5829",
   "metadata": {},
   "outputs": [
    {
     "name": "stdout",
     "output_type": "stream",
     "text": [
      "+-------+------------+------------------+--------------------+--------------+\n",
      "|user_id|merchant_abn|      dollar_value|            order_id|order_datetime|\n",
      "+-------+------------+------------------+--------------------+--------------+\n",
      "|  14935| 79417999332|136.06570809815838|23acbb7b-cf98-458...|    2021-11-26|\n",
      "|      1| 46451548968| 72.61581642788431|76bab304-fa2d-400...|    2021-11-26|\n",
      "|  14936| 89518629617|3.0783487174439297|a2ae446a-2959-41c...|    2021-11-26|\n",
      "|      1| 49167531725| 51.58228625503599|7080c274-17f7-4cc...|    2021-11-26|\n",
      "|  14936| 31101120643|25.228114942417797|8e301c0f-06ab-45c...|    2021-11-26|\n",
      "|      2| 67978471888| 691.5028234458998|0380e9ad-b0e8-420...|    2021-11-26|\n",
      "|  14936| 60956456424|102.13952056640888|5ac3da9c-5147-452...|    2021-11-26|\n",
      "|      2| 47644196714| 644.5220654863093|4e368e44-86f8-4de...|    2021-11-26|\n",
      "|  14938| 39649557865|209.12780951421405|4d78cd01-4bab-494...|    2021-11-26|\n",
      "|      3| 88402174457| 141.0387993699113|c50c957d-ecfc-430...|    2021-11-26|\n",
      "+-------+------------+------------------+--------------------+--------------+\n",
      "only showing top 10 rows\n"
     ]
    },
    {
     "data": {
      "text/plain": [
       "4508106"
      ]
     },
     "execution_count": 4,
     "metadata": {},
     "output_type": "execute_result"
    }
   ],
   "source": [
    "p3_df.show(10)\n",
    "p3_df.count()"
   ]
  },
  {
   "cell_type": "code",
   "execution_count": 5,
   "id": "a1b0a5d9",
   "metadata": {},
   "outputs": [
    {
     "name": "stdout",
     "output_type": "stream",
     "text": [
      "+-------+------------+------------------+--------------------+--------------+\n",
      "|user_id|merchant_abn|      dollar_value|            order_id|order_datetime|\n",
      "+-------+------------+------------------+--------------------+--------------+\n",
      "|  11139| 96152467973|16.213590228273233|785b0080-9e4b-471...|    2022-08-20|\n",
      "|      1| 98973094975| 86.97955945703498|2560f7b0-ee5d-4b3...|    2022-08-20|\n",
      "|  11139| 56762458844|31.513502323509194|0311717b-8b5b-410...|    2022-08-20|\n",
      "|      1| 89502033586|124.18468694868491|f8891626-f098-45b...|    2022-08-20|\n",
      "|  11139| 96161808980|61.620445567668966|d90a421f-f1da-4bf...|    2022-08-20|\n",
      "|      2| 72472909171| 32.26524985312485|523e0403-b677-450...|    2022-08-20|\n",
      "|  11139| 91923722701|11.331586767322225|f45a842b-0366-41d...|    2022-08-20|\n",
      "|      3| 46380096952|119.80011239189334|58d0f423-037c-43f...|    2022-08-20|\n",
      "|  11140| 79283124876|198.13027742225435|60b12d41-41d6-4c1...|    2022-08-20|\n",
      "|      4| 67202032418|206.20865323560022|64a05a23-a078-481...|    2022-08-20|\n",
      "+-------+------------+------------------+--------------------+--------------+\n",
      "only showing top 10 rows\n"
     ]
    },
    {
     "data": {
      "text/plain": [
       "6044133"
      ]
     },
     "execution_count": 5,
     "metadata": {},
     "output_type": "execute_result"
    }
   ],
   "source": [
    "p4_df.show(10)\n",
    "p4_df.count() "
   ]
  },
  {
   "cell_type": "code",
   "execution_count": 6,
   "id": "af96397d",
   "metadata": {},
   "outputs": [
    {
     "name": "stdout",
     "output_type": "stream",
     "text": [
      "+-----------------+-----------------------------+-----+--------+------+-----------+\n",
      "|name             |address                      |state|postcode|gender|consumer_id|\n",
      "+-----------------+-----------------------------+-----+--------+------+-----------+\n",
      "|Yolanda Williams |413 Haney Gardens Apt. 742   |WA   |6935    |Female|1195503    |\n",
      "|Mary Smith       |3764 Amber Oval              |NSW  |2782    |Female|179208     |\n",
      "|Jill Jones MD    |40693 Henry Greens           |NT   |862     |Female|1194530    |\n",
      "|Lindsay Jimenez  |00653 Davenport Crossroad    |NSW  |2780    |Female|154128     |\n",
      "|Rebecca Blanchard|9271 Michael Manors Suite 651|WA   |6355    |Female|712975     |\n",
      "+-----------------+-----------------------------+-----+--------+------+-----------+\n",
      "only showing top 5 rows\n"
     ]
    }
   ],
   "source": [
    "new_tbl_consumer.show(5, truncate=False)"
   ]
  },
  {
   "cell_type": "code",
   "execution_count": 7,
   "id": "7c89216a",
   "metadata": {},
   "outputs": [
    {
     "name": "stdout",
     "output_type": "stream",
     "text": [
      "+--------+---------------+------------------+----------------+\n",
      "|POSTCODE|2021 Population|Median ($) 2021-22|Mean ($) 2021-22|\n",
      "+--------+---------------+------------------+----------------+\n",
      "|     800|        28507.0|           69920.0|         83232.0|\n",
      "|     810|        57630.0|           66937.0|         76136.0|\n",
      "|     812|        57630.0|           66937.0|         76136.0|\n",
      "|     820|        43068.5|           68428.5|         79684.0|\n",
      "|     822|        26735.0|           56840.4|         67317.8|\n",
      "+--------+---------------+------------------+----------------+\n",
      "only showing top 5 rows\n"
     ]
    }
   ],
   "source": [
    "income_df.show(5)\n"
   ]
  },
  {
   "cell_type": "code",
   "execution_count": 8,
   "id": "2ef72a96",
   "metadata": {},
   "outputs": [
    {
     "name": "stdout",
     "output_type": "stream",
     "text": [
      "+-------------------+------+------+------+------+------+------+------+------+\n",
      "|              Month|   NSW|   VIC|   QLD|    SA|    WA|   TAS|    NT|   ACT|\n",
      "+-------------------+------+------+------+------+------+------+------+------+\n",
      "|2021-01-01 00:00:00|60.988|62.132|61.688| 57.76|63.254|57.538|69.138|67.904|\n",
      "|2021-02-01 00:00:00|61.466|62.325|61.868|57.832|62.932|58.095|69.698|68.784|\n",
      "|2021-03-01 00:00:00|61.896|62.467|62.284|57.852|64.531|58.045|69.062|68.194|\n",
      "|2021-04-01 00:00:00|61.469|62.511|62.173|58.808|64.168|57.768|69.624|68.718|\n",
      "|2021-05-01 00:00:00| 62.28|62.927|62.583|59.194|64.375|57.936|70.001|68.845|\n",
      "+-------------------+------+------+------+------+------+------+------+------+\n",
      "only showing top 5 rows\n"
     ]
    }
   ],
   "source": [
    "employed_rate.show(5)"
   ]
  },
  {
   "cell_type": "code",
   "execution_count": 9,
   "id": "f5158916",
   "metadata": {},
   "outputs": [
    {
     "name": "stdout",
     "output_type": "stream",
     "text": [
      "+-----+----+-------+--------+----------+--------------+-----------+\n",
      "|State|Year|Assault|Homicide|Kidnapping|Sexual assault|Crime_Index|\n",
      "+-----+----+-------+--------+----------+--------------+-----------+\n",
      "|  ACT|2021|  511.4|     2.7|       0.0|          75.4|      271.3|\n",
      "|  ACT|2022|  538.7|     2.0|       0.7|          71.2|      284.1|\n",
      "|  NSW|2021|  798.9|     1.0|       2.6|         141.8|      428.3|\n",
      "|  NSW|2022|  852.0|     1.0|       2.6|         152.2|      456.9|\n",
      "|   NT|2021| 3648.6|     5.2|       0.0|         143.1|     1854.0|\n",
      "|   NT|2022| 4159.1|     6.0|       2.0|         144.4|     2109.8|\n",
      "|  QLD|2021|    0.0|     1.6|       0.5|         132.1|       26.8|\n",
      "|  QLD|2022|  983.3|     2.1|       0.8|         139.5|      520.0|\n",
      "|   SA|2021| 1008.2|     1.9|       2.3|          98.9|      524.5|\n",
      "|   SA|2022| 1083.8|     1.6|       2.3|          99.7|      562.4|\n",
      "+-----+----+-------+--------+----------+--------------+-----------+\n",
      "only showing top 10 rows\n"
     ]
    }
   ],
   "source": [
    "crime_df.show(10)"
   ]
  },
  {
   "cell_type": "markdown",
   "id": "0bf12ede",
   "metadata": {},
   "source": [
    "# Data Preprocessing"
   ]
  },
  {
   "cell_type": "code",
   "execution_count": 10,
   "id": "4c321c05",
   "metadata": {},
   "outputs": [],
   "source": [
    "# %%\n",
    "# Import dependencies\n",
    "import pandas as pd\n",
    "import pyarrow\n",
    "from tqdm.auto import tqdm\n",
    "import glob\n",
    "import json\n",
    "import warnings\n",
    "warnings.filterwarnings(\"ignore\")\n",
    "import matplotlib.pyplot as plt\n",
    "import seaborn as sns\n"
   ]
  },
  {
   "cell_type": "code",
   "execution_count": 11,
   "id": "21350a15",
   "metadata": {},
   "outputs": [
    {
     "name": "stdout",
     "output_type": "stream",
     "text": [
      "root\n",
      " |-- user_id: long (nullable = true)\n",
      " |-- merchant_abn: long (nullable = true)\n",
      " |-- dollar_value: double (nullable = true)\n",
      " |-- order_id: string (nullable = true)\n",
      " |-- order_datetime: date (nullable = true)\n",
      "\n",
      "Total rows: 14195505\n",
      "+-------+------------+------------------+------------------------------------+--------------+\n",
      "|user_id|merchant_abn|dollar_value      |order_id                            |order_datetime|\n",
      "+-------+------------+------------------+------------------------------------+--------------+\n",
      "|18478  |62191208634 |63.255848959735246|949a63c8-29f7-4ab0-ada4-99ac50a88952|2021-08-20    |\n",
      "|2      |15549624934 |130.3505283105634 |6a84c3cf-612a-4574-835b-144a47353eff|2021-08-20    |\n",
      "|18479  |64403598239 |120.15860593212783|b10dcc33-e53f-4254-863c-de5266810cbc|2021-08-20    |\n",
      "|3      |60956456424 |136.6785200286976 |0f09c5a5-784e-4477-b049-8ee4dd069b7b|2021-08-20    |\n",
      "|18479  |94493496784 |72.96316578355305 |f6c78c1a-4600-4c5f-8e97-6e9eb534b586|2021-08-20    |\n",
      "|3      |76819856970 |448.529684285612  |5ace6a24-cdf0-4aa3-b571-1d9406b352b5|2021-08-20    |\n",
      "|18479  |67609108741 |86.4040605836911  |d0e180f0-cb06-42a3-bd1a-c47dca15bc55|2021-08-20    |\n",
      "|3      |34096466752 |301.5793450525113 |6fb1ff48-24bb-4f97-9a96-d2e8ca009bda|2021-08-20    |\n",
      "|18482  |70501974849 |68.75486276223054 |8505fb33-b69a-412a-a8e1-827983a66577|2021-08-20    |\n",
      "|4      |49891706470 |48.89796461900801 |ed11e477-b09f-4ae0-84fb-74531ce8c30c|2021-08-20    |\n",
      "+-------+------------+------------------+------------------------------------+--------------+\n",
      "only showing top 10 rows\n"
     ]
    }
   ],
   "source": [
    "# Step 1: 合并三个 DataFrame\n",
    "transactions_df = (\n",
    "    p2_df.unionByName(p3_df)\n",
    "         .unionByName(p4_df)\n",
    ")\n",
    "\n",
    "# Step 2: 检查结果 \n",
    "transactions_df.printSchema()\n",
    "print(f\"Total rows: {transactions_df.count()}\")  \n",
    "transactions_df.show(10, truncate=False)"
   ]
  },
  {
   "cell_type": "code",
   "execution_count": 12,
   "id": "b3b63378",
   "metadata": {},
   "outputs": [
    {
     "name": "stdout",
     "output_type": "stream",
     "text": [
      "Column examples: ['user_id', 'merchant_abn', 'dollar_value', 'order_id', 'order_datetime']\n",
      "Time list candidates: ['order_datetime']\n",
      "Use the time column: order_datetime\n",
      "daily head:\n",
      "+--------------+-----------+\n",
      "|order_datetime|order_count|\n",
      "+--------------+-----------+\n",
      "|2021-02-28    |17107      |\n",
      "|2021-03-01    |15170      |\n",
      "|2021-03-02    |15417      |\n",
      "|2021-03-03    |16093      |\n",
      "|2021-03-04    |16988      |\n",
      "|2021-03-05    |17697      |\n",
      "|2021-03-06    |16924      |\n",
      "|2021-03-07    |16798      |\n",
      "|2021-03-08    |16262      |\n",
      "|2021-03-09    |15972      |\n",
      "+--------------+-----------+\n",
      "only showing top 10 rows\n"
     ]
    }
   ],
   "source": [
    "# Step 3: 在 Spark DataFrame 里做分布检查（不用转 Pandas）\n",
    "\n",
    "# 时间分布（如果有 order_date 列）\n",
    "if \"order_date\" in transactions_df.columns:\n",
    "    daily_counts = (\n",
    "        transactions_df.groupBy(\"order_date\")\n",
    "        .count()\n",
    "        .orderBy(\"order_date\")\n",
    "    )\n",
    "    daily_counts.show(10, truncate=False)\n",
    "\n",
    "# 金额分布（找价格相关列）\n",
    "price_cols = [c for c in transactions_df.columns if \"price\" in c or \"amount\" in c or \"total\" in c]\n",
    "if price_cols:\n",
    "    transactions_df.select(price_cols[0]).describe().show()\n",
    "\n",
    "# Step 4: 标准化列名\n",
    "def normalize_columns_spark(df):\n",
    "    for c in df.columns:\n",
    "        new_name = c.strip().lower().replace(\" \", \"_\")\n",
    "        df = df.withColumnRenamed(c, new_name)\n",
    "    return df\n",
    "\n",
    "transactions_df = normalize_columns_spark(transactions_df)\n",
    "print(\"Column examples:\", transactions_df.columns[:40])\n",
    "\n",
    "# Step 5: 识别时间列\n",
    "time_candidates = [c for c in transactions_df.columns if \"order\" in c and (\"time\" in c or \"date\" in c or \"datetime\" in c)]\n",
    "if not time_candidates:\n",
    "    time_candidates = [c for c in transactions_df.columns if c in (\"created_at\",\"created\",\"timestamp\",\"ts\",\"date\",\"datetime\")]\n",
    "\n",
    "print(\"Time list candidates:\", time_candidates)\n",
    "time_col = time_candidates[0] if time_candidates else None\n",
    "print(\"Use the time column:\", time_col)\n",
    "\n",
    "# Step 6: 每日订单统计并保存\n",
    "if time_col:\n",
    "    daily = (\n",
    "        transactions_df.groupBy(time_col)\n",
    "        .count()\n",
    "        .withColumnRenamed(\"count\", \"order_count\")\n",
    "        .orderBy(time_col)\n",
    "    )\n",
    "\n",
    "    print(\"daily head:\")\n",
    "    daily.show(10, truncate=False)\n"
   ]
  },
  {
   "cell_type": "markdown",
   "id": "dbb9fce0",
   "metadata": {},
   "source": [
    "# Final Data Merge (External Data)"
   ]
  },
  {
   "cell_type": "code",
   "execution_count": 13,
   "id": "712e5c55",
   "metadata": {},
   "outputs": [
    {
     "name": "stderr",
     "output_type": "stream",
     "text": [
      "[Stage 41:=================================================>      (23 + 3) / 26]\r"
     ]
    },
    {
     "name": "stdout",
     "output_type": "stream",
     "text": [
      "+------------------------------------+-------+------------+------------------+--------------+------------------+\n",
      "|order_id                            |user_id|merchant_abn|dollar_value      |order_datetime|order_datetime_ref|\n",
      "+------------------------------------+-------+------------+------------------+--------------+------------------+\n",
      "|01d968a6-dde1-48cf-96dc-5f504aa47177|14935  |72472909171 |52.973387548612614|2021-12-01    |2021-12-01        |\n",
      "|0371006a-d7a1-487d-b6cd-d726d0888488|22286  |17945458645 |125.48815344185114|2022-08-15    |2022-08-15        |\n",
      "|066d9342-9bc7-4be2-80a0-3fad03dabc56|11139  |45466221547 |0.8459119362003027|2022-07-12    |2022-07-12        |\n",
      "|3077e589-1629-4af0-9d72-f6af9c54a589|14942  |24852446429 |17.276891684035274|2021-09-09    |2021-09-09        |\n",
      "|3dba1ecb-1d9e-415f-9924-f86b6bc50119|18482  |47529937246 |110.27705449024003|2021-05-24    |2021-05-24        |\n",
      "|4b0819d9-f52a-457d-ade9-b5375780eaf7|22283  |96491286698 |206.28273891130056|2022-08-15    |2022-08-15        |\n",
      "|4ca543cb-9add-4fd5-9fda-edf47e6be1b9|6      |32176774610 |108.48371923275148|2022-07-13    |2022-07-13        |\n",
      "|523e0403-b677-4505-a8b8-fb9bce781127|2      |72472909171 |32.26524985312485 |2022-08-20    |2022-08-20        |\n",
      "|633b19a9-b587-4f77-8373-5378826d6d52|11143  |29362189014 |34.91649326852078 |2022-07-13    |2022-07-13        |\n",
      "|6a84c3cf-612a-4574-835b-144a47353eff|2      |15549624934 |130.3505283105634 |2021-08-20    |2021-08-20        |\n",
      "+------------------------------------+-------+------------+------------------+--------------+------------------+\n",
      "only showing top 10 rows\n"
     ]
    },
    {
     "name": "stderr",
     "output_type": "stream",
     "text": [
      "                                                                                \r"
     ]
    }
   ],
   "source": [
    "from pyspark.sql.functions import col\n",
    "\n",
    "# Step 1: 给右边的列改名，避免重复\n",
    "trans_dates = transactions_df.select(\"order_id\", col(\"order_datetime\").alias(\"order_datetime_ref\"))\n",
    "\n",
    "# Step 2: join\n",
    "preprocessed_data = (\n",
    "    transactions_df\n",
    "    .join(trans_dates, on=\"order_id\", how=\"left\")\n",
    ")\n",
    "\n",
    "# Step 3: 检查\n",
    "preprocessed_data.show(10, truncate=False)\n"
   ]
  },
  {
   "cell_type": "code",
   "execution_count": 14,
   "id": "03926434",
   "metadata": {},
   "outputs": [
    {
     "name": "stderr",
     "output_type": "stream",
     "text": [
      "[Stage 51:>                                                         (0 + 8) / 9]\r"
     ]
    },
    {
     "name": "stdout",
     "output_type": "stream",
     "text": [
      "+-------+-----------+------------+------------------------------------+------------------+-----+--------+------+--------------+\n",
      "|user_id|consumer_id|merchant_abn|order_id                            |dollar_value      |state|postcode|gender|order_datetime|\n",
      "+-------+-----------+------------+------------------------------------+------------------+-----+--------+------+--------------+\n",
      "|14937  |4932       |20985347699 |0bed3901-f0a8-4aa9-b286-2126cf021021|11.197796935848178|NSW  |2530    |Female|2021-09-09    |\n",
      "|14937  |4932       |48534649627 |16733b8a-d91a-436e-abce-02f27b990d1d|214.89416304714123|NSW  |2530    |Female|2022-02-07    |\n",
      "|11139  |505718     |45466221547 |066d9342-9bc7-4be2-80a0-3fad03dabc56|0.8459119362003027|NSW  |2281    |Female|2022-07-12    |\n",
      "|11139  |505718     |28687004922 |3948f702-0668-4cff-bae1-393868859cfc|19.65330763420652 |NSW  |2281    |Female|2022-07-08    |\n",
      "|11139  |505718     |56762458844 |0311717b-8b5b-410b-89f3-f6e984b54a30|31.513502323509194|NSW  |2281    |Female|2022-08-20    |\n",
      "|9      |650435     |38523562929 |09508e97-7b34-440c-a8ee-9ae7e138421c|152.81277878633023|NSW  |2482    |Female|2021-04-07    |\n",
      "|22290  |948149     |66626020312 |5285029c-7923-471a-9d6a-26c956b0a7bb|41.024562352241276|SA   |5139    |Male  |2022-07-08    |\n",
      "|11141  |1027466    |24070342853 |3a2da1f2-0c6d-4819-b922-6fcf6acfe499|132.81801174930692|VIC  |3202    |Female|2022-07-08    |\n",
      "|14946  |1111029    |49482116099 |3b5f5e08-a733-482e-9e7f-0a4ef647e78b|393.20347229745465|QLD  |4551    |Male  |2022-01-14    |\n",
      "|18480  |1398491    |26001500989 |498544c8-035b-49e9-a8ab-2019dac5fc21|92.85491376081134 |QLD  |4887    |Male  |2021-07-26    |\n",
      "+-------+-----------+------------+------------------------------------+------------------+-----+--------+------+--------------+\n",
      "only showing top 10 rows\n"
     ]
    },
    {
     "name": "stderr",
     "output_type": "stream",
     "text": [
      "                                                                                \r"
     ]
    }
   ],
   "source": [
    "### Add the coloumn of postcode/state/gender\n",
    "# Join user_id with consumer_id to enrich transaction data\n",
    "df_with_consumer = (\n",
    "    preprocessed_data\n",
    "    .join(consumer_details, on=\"user_id\", how=\"left\")\n",
    ")\n",
    "\n",
    "# Join consumer_id with the cleaned consumer demographic table\n",
    "df_enriched = (\n",
    "    df_with_consumer\n",
    "    .join(new_tbl_consumer, on=\"consumer_id\", how=\"left\")\n",
    ")\n",
    "\n",
    "# Select only the required fields for the final dataset\n",
    "df_enriched_selected = df_enriched.select(\n",
    "    \"user_id\",\n",
    "    \"consumer_id\",\n",
    "    \"merchant_abn\",\n",
    "    \"order_id\",\n",
    "    \"dollar_value\",\n",
    "    \"state\",\n",
    "    \"postcode\",\n",
    "    \"gender\",\n",
    "    \"order_datetime\"\n",
    ")\n",
    "\n",
    "# Preview first 10 rows of the enriched dataset \n",
    "df_enriched_selected.show(10, truncate=False)"
   ]
  },
  {
   "cell_type": "code",
   "execution_count": 15,
   "id": "02811f47",
   "metadata": {},
   "outputs": [
    {
     "name": "stderr",
     "output_type": "stream",
     "text": [
      "[Stage 69:===================================================>      (8 + 1) / 9]\r"
     ]
    },
    {
     "name": "stdout",
     "output_type": "stream",
     "text": [
      "+----------+-----+-------+-----------+------------+------------------------------------+------------------+--------+-----------+--------------+-------------+\n",
      "|year_month|state|user_id|consumer_id|merchant_abn|order_id                            |dollar_value      |postcode|gender     |order_datetime|employed_rate|\n",
      "+----------+-----+-------+-----------+------------+------------------------------------+------------------+--------+-----------+--------------+-------------+\n",
      "|2021-09   |NSW  |14937  |4932       |20985347699 |0bed3901-f0a8-4aa9-b286-2126cf021021|11.197796935848178|2530    |Female     |2021-09-09    |58.681       |\n",
      "|2022-02   |NSW  |14937  |4932       |48534649627 |16733b8a-d91a-436e-abce-02f27b990d1d|214.89416304714123|2530    |Female     |2022-02-07    |62.468       |\n",
      "|2022-07   |VIC  |11     |428325     |88279777843 |3cd13626-cf47-44c0-94f7-b4105f6403bf|604.9188592638876 |3063    |Undisclosed|2022-07-13    |64.182       |\n",
      "|2022-02   |VIC  |11     |428325     |81761494572 |0521c481-dc6c-49d1-ad05-1ed936589723|94.46673670566445 |3063    |Undisclosed|2022-02-07    |64.067       |\n",
      "|2022-07   |NSW  |11139  |505718     |45466221547 |066d9342-9bc7-4be2-80a0-3fad03dabc56|0.8459119362003027|2281    |Female     |2022-07-12    |63.403       |\n",
      "|2022-07   |NSW  |11139  |505718     |28687004922 |3948f702-0668-4cff-bae1-393868859cfc|19.65330763420652 |2281    |Female     |2022-07-08    |63.403       |\n",
      "|2022-08   |NSW  |11139  |505718     |56762458844 |0311717b-8b5b-410b-89f3-f6e984b54a30|31.513502323509194|2281    |Female     |2022-08-20    |63.492       |\n",
      "|2021-07   |NSW  |9      |650435     |16286338734 |244b1c3a-ff52-4ba0-b1ef-eade0bf2d295|98.72326527877455 |2482    |Female     |2021-07-26    |61.761       |\n",
      "|2021-04   |NSW  |9      |650435     |96161808980 |2931297e-d79c-4c08-b3c2-9ad6dd2ecbef|69.89893355791467 |2482    |Female     |2021-04-09    |61.469       |\n",
      "|2021-04   |NSW  |9      |650435     |38523562929 |09508e97-7b34-440c-a8ee-9ae7e138421c|152.81277878633023|2482    |Female     |2021-04-07    |61.469       |\n",
      "|2022-01   |NSW  |9      |650435     |83690644458 |3b1c8be0-1299-46a0-a16a-f7e4e876d037|131.93312373184511|2482    |Female     |2022-01-14    |61.884       |\n",
      "|2021-09   |NSW  |9      |650435     |94493496784 |1ce9db3e-71dd-49eb-948a-23196a75eb8e|73.81210300719256 |2482    |Female     |2021-09-09    |58.681       |\n",
      "|2021-12   |NSW  |9      |650435     |15560455575 |3b4adf21-b34e-4c99-a5a4-c29686b4a8da|174.26583175995654|2482    |Female     |2021-12-21    |61.831       |\n",
      "|2022-04   |NSW  |9      |650435     |64203420245 |3521da70-f851-4aa5-951b-82f7ba705272|21.114523671864145|2482    |Female     |2022-04-12    |62.71        |\n",
      "|2022-08   |SA   |22290  |948149     |24598653065 |549cba08-9ae5-47b8-a787-077b787b0bf5|153.15593430224752|5139    |Male       |2022-08-25    |60.607       |\n",
      "|2022-08   |VIC  |11141  |1027466    |86578477987 |39749f02-2687-4bfa-890d-f36538bd6e04|68.45470123518632 |3202    |Female     |2022-08-20    |64.268       |\n",
      "|2022-07   |VIC  |11141  |1027466    |24070342853 |3a2da1f2-0c6d-4819-b922-6fcf6acfe499|132.81801174930692|3202    |Female     |2022-07-08    |64.182       |\n",
      "|2022-07   |WA   |22301  |1195567    |43186523025 |31a40cc4-5788-4eb4-ad1f-4b67564b3618|29.065574435788996|6351    |Undisclosed|2022-07-08    |66.72        |\n",
      "|2021-04   |VIC  |18485  |1212819    |48534649627 |1fba8af7-1f29-4d52-af10-8dacd8d22a0f|104.13158185240643|3073    |Male       |2021-04-07    |62.511       |\n",
      "|2022-04   |SA   |11152  |316945     |24852446429 |213b11ee-15b6-4b00-a226-47187ea302e4|23.142726057722562|5309    |Female     |2022-04-12    |60.132       |\n",
      "+----------+-----+-------+-----------+------------+------------------------------------+------------------+--------+-----------+--------------+-------------+\n",
      "only showing top 20 rows\n"
     ]
    },
    {
     "name": "stderr",
     "output_type": "stream",
     "text": [
      "                                                                                \r"
     ]
    }
   ],
   "source": [
    "### Insert the column with employed rate\n",
    "\n",
    "# Step 1: reshape employed_rate from wide to long format\n",
    "employed_long = (\n",
    "    employed_rate\n",
    "    .selectExpr(\"Month\", \"stack(8, 'NSW', NSW, 'VIC', VIC, 'QLD', QLD, 'SA', SA, 'WA', WA, 'TAS', TAS, 'NT', NT, 'ACT', ACT) as (state, employed_rate)\")\n",
    ")\n",
    "\n",
    "# Step 2: 对交易数据生成 Year-Month\n",
    "df_enriched_selected = df_enriched_selected.withColumn(\n",
    "    \"year_month\",\n",
    "    F.date_format(\"order_datetime\", \"yyyy-MM\")\n",
    ")\n",
    "\n",
    "# Step 3: join\n",
    "df_with_employed = (\n",
    "    df_enriched_selected\n",
    "    .join(employed_long.withColumnRenamed(\"Month\", \"year_month\"), \n",
    "          on=[\"year_month\", \"state\"], how=\"left\")\n",
    ")\n",
    "\n",
    "# Step 4: 预览\n",
    "df_with_employed.show(20, truncate=False)\n"
   ]
  },
  {
   "cell_type": "code",
   "execution_count": 16,
   "id": "38799fed",
   "metadata": {},
   "outputs": [],
   "source": [
    "### Insert the column with income\n",
    "# 规范列名 + 类型（去掉空格/符号，转成小写）\n",
    "income_df = (\n",
    "    income_df\n",
    "    .withColumnRenamed(\"POSTCODE\", \"postcode\")\n",
    "    .withColumnRenamed(\"2021 Population\", \"pop\")\n",
    "    .withColumnRenamed(\"Median ($) 2021-22\", \"median_income\")\n",
    "    .withColumnRenamed(\"Mean ($) 2021-22\",   \"mean_income\")\n",
    "    # 如果读进来是字符串，做一次安全的数值转换（去逗号）\n",
    "    .withColumn(\"postcode\", F.regexp_replace(F.col(\"postcode\").cast(\"string\"), r\"\\s+\", \"\").cast(\"int\"))\n",
    "    .withColumn(\"pop\", F.regexp_replace(F.col(\"pop\").cast(\"string\"), r\"[,\\s]\", \"\").cast(\"double\"))\n",
    "    .withColumn(\"median_income\", F.regexp_replace(F.col(\"median_income\").cast(\"string\"), r\"[,\\s]\", \"\").cast(\"double\"))\n",
    "    .withColumn(\"mean_income\",   F.regexp_replace(F.col(\"mean_income\").cast(\"string\"), r\"[,\\s]\", \"\").cast(\"double\"))\n",
    "    .dropna(subset=[\"postcode\"])       # 必要时：去掉没有邮编的行\n",
    ")\n",
    "\n",
    "# 若同一邮编在文件中出现多行，取一个稳定聚合（这里取最大人口那行）\n",
    "w = F.row_number().over(Window.partitionBy(\"postcode\").orderBy(F.col(\"pop\").desc_nulls_last()))\n",
    "income_df = income_df.withColumn(\"rn\", w).filter(\"rn = 1\").drop(\"rn\")\n",
    "\n",
    "df_with_income = (\n",
    "    df_enriched_selected\n",
    "    .join(income_df, on=\"postcode\", how=\"left\")\n",
    ")"
   ]
  },
  {
   "cell_type": "code",
   "execution_count": 17,
   "id": "da024e92",
   "metadata": {},
   "outputs": [
    {
     "name": "stderr",
     "output_type": "stream",
     "text": [
      "[Stage 89:===================================================>      (8 + 1) / 9]\r"
     ]
    },
    {
     "name": "stdout",
     "output_type": "stream",
     "text": [
      "+--------+-------+-----------+------------+--------------------+------------------+-----+------+--------------+----------+--------+-------------+-----------+\n",
      "|postcode|user_id|consumer_id|merchant_abn|            order_id|      dollar_value|state|gender|order_datetime|year_month|     pop|median_income|mean_income|\n",
      "+--------+-------+-----------+------------+--------------------+------------------+-----+------+--------------+----------+--------+-------------+-----------+\n",
      "|    2530|  14937|       4932| 20985347699|0bed3901-f0a8-4aa...|11.197796935848178|  NSW|Female|    2021-09-09|   2021-09| 39938.0|      53068.0|    64132.0|\n",
      "|    2530|  14937|       4932| 48534649627|16733b8a-d91a-436...|214.89416304714123|  NSW|Female|    2022-02-07|   2022-02| 39938.0|      53068.0|    64132.0|\n",
      "|    2281|  11139|     505718| 45466221547|066d9342-9bc7-4be...|0.8459119362003027|  NSW|Female|    2022-07-12|   2022-07|126606.0|      55824.0|    69320.0|\n",
      "|    2281|  11139|     505718| 28687004922|3948f702-0668-4cf...| 19.65330763420652|  NSW|Female|    2022-07-08|   2022-07|126606.0|      55824.0|    69320.0|\n",
      "|    2281|  11139|     505718| 56762458844|0311717b-8b5b-410...|31.513502323509194|  NSW|Female|    2022-08-20|   2022-08|126606.0|      55824.0|    69320.0|\n",
      "|    2482|      9|     650435| 38523562929|09508e97-7b34-440...|152.81277878633023|  NSW|Female|    2021-04-07|   2021-04| 87664.0|      41768.0|    60033.0|\n",
      "|    5139|  22290|     948149| 66626020312|5285029c-7923-471...|41.024562352241276|   SA|  Male|    2022-07-08|   2022-07| 80493.0|      56483.0|    72104.0|\n",
      "|    3202|  11141|    1027466| 24070342853|3a2da1f2-0c6d-481...|132.81801174930692|  VIC|Female|    2022-07-08|   2022-07|123786.0|      62166.0|    77388.0|\n",
      "|    4551|  14946|    1111029| 49482116099|3b5f5e08-a733-482...|393.20347229745465|  QLD|  Male|    2022-01-14|   2022-01| 97297.0|      51144.0|    65505.0|\n",
      "|    4887|  18480|    1398491| 26001500989|498544c8-035b-49e...| 92.85491376081134|  QLD|  Male|    2021-07-26|   2021-07| 38204.0|      45305.5|    55504.0|\n",
      "+--------+-------+-----------+------------+--------------------+------------------+-----+------+--------------+----------+--------+-------------+-----------+\n",
      "only showing top 10 rows\n"
     ]
    },
    {
     "name": "stderr",
     "output_type": "stream",
     "text": [
      "                                                                                \r"
     ]
    }
   ],
   "source": [
    "df_with_income.show(10)"
   ]
  },
  {
   "cell_type": "code",
   "execution_count": 18,
   "id": "d849bbfa",
   "metadata": {},
   "outputs": [
    {
     "name": "stderr",
     "output_type": "stream",
     "text": [
      "[Stage 110:>                                                        (0 + 8) / 9]\r"
     ]
    },
    {
     "name": "stdout",
     "output_type": "stream",
     "text": [
      "+-----+----+--------+-------+-----------+------------+------------------------------------+------------------+------+--------------+----------+--------+-------------+-----------+-------+--------+----------+--------------+-----------+\n",
      "|state|year|postcode|user_id|consumer_id|merchant_abn|order_id                            |dollar_value      |gender|order_datetime|year_month|pop     |median_income|mean_income|Assault|Homicide|Kidnapping|Sexual assault|Crime_Index|\n",
      "+-----+----+--------+-------+-----------+------------+------------------------------------+------------------+------+--------------+----------+--------+-------------+-----------+-------+--------+----------+--------------+-----------+\n",
      "|NSW  |2021|2530    |14937  |4932       |20985347699 |0bed3901-f0a8-4aa9-b286-2126cf021021|11.197796935848178|Female|2021-09-09    |2021-09   |39938.0 |53068.0      |64132.0    |798.9  |1.0     |2.6       |141.8         |428.3      |\n",
      "|NSW  |2022|2530    |14937  |4932       |48534649627 |16733b8a-d91a-436e-abce-02f27b990d1d|214.89416304714123|Female|2022-02-07    |2022-02   |39938.0 |53068.0      |64132.0    |852.0  |1.0     |2.6       |152.2         |456.9      |\n",
      "|NSW  |2022|2281    |11139  |505718     |45466221547 |066d9342-9bc7-4be2-80a0-3fad03dabc56|0.8459119362003027|Female|2022-07-12    |2022-07   |126606.0|55824.0      |69320.0    |852.0  |1.0     |2.6       |152.2         |456.9      |\n",
      "|NSW  |2022|2281    |11139  |505718     |28687004922 |3948f702-0668-4cff-bae1-393868859cfc|19.65330763420652 |Female|2022-07-08    |2022-07   |126606.0|55824.0      |69320.0    |852.0  |1.0     |2.6       |152.2         |456.9      |\n",
      "|NSW  |2022|2281    |11139  |505718     |56762458844 |0311717b-8b5b-410b-89f3-f6e984b54a30|31.513502323509194|Female|2022-08-20    |2022-08   |126606.0|55824.0      |69320.0    |852.0  |1.0     |2.6       |152.2         |456.9      |\n",
      "|NSW  |2021|2482    |9      |650435     |38523562929 |09508e97-7b34-440c-a8ee-9ae7e138421c|152.81277878633023|Female|2021-04-07    |2021-04   |87664.0 |41768.0      |60033.0    |798.9  |1.0     |2.6       |141.8         |428.3      |\n",
      "|SA   |2022|5139    |22290  |948149     |66626020312 |5285029c-7923-471a-9d6a-26c956b0a7bb|41.024562352241276|Male  |2022-07-08    |2022-07   |80493.0 |56483.0      |72104.0    |1083.8 |1.6     |2.3       |99.7          |562.4      |\n",
      "|VIC  |2022|3202    |11141  |1027466    |24070342853 |3a2da1f2-0c6d-4819-b922-6fcf6acfe499|132.81801174930692|Female|2022-07-08    |2022-07   |123786.0|62166.0      |77388.0    |0.0    |1.3     |2.7       |100.9         |20.7       |\n",
      "|QLD  |2022|4551    |14946  |1111029    |49482116099 |3b5f5e08-a733-482e-9e7f-0a4ef647e78b|393.20347229745465|Male  |2022-01-14    |2022-01   |97297.0 |51144.0      |65505.0    |983.3  |2.1     |0.8       |139.5         |520.0      |\n",
      "|QLD  |2021|4887    |18480  |1398491    |26001500989 |498544c8-035b-49e9-a8ab-2019dac5fc21|92.85491376081134 |Male  |2021-07-26    |2021-07   |38204.0 |45305.5      |55504.0    |0.0    |1.6     |0.5       |132.1         |26.8       |\n",
      "+-----+----+--------+-------+-----------+------------+------------------------------------+------------------+------+--------------+----------+--------+-------------+-----------+-------+--------+----------+--------------+-----------+\n",
      "only showing top 10 rows\n"
     ]
    },
    {
     "name": "stderr",
     "output_type": "stream",
     "text": [
      "                                                                                \r"
     ]
    }
   ],
   "source": [
    "### Insert the column with crime rate\n",
    "# Step 1: 给交易数据加 year 字段\n",
    "df_with_income = df_with_income.withColumn(\n",
    "    \"year\", F.year(\"order_datetime\")\n",
    ")\n",
    "\n",
    "# Step 2: 统一 state 列名\n",
    "crime_df = crime_df.withColumnRenamed(\"State\", \"state\")\n",
    "\n",
    "# Step 3: join\n",
    "df_with_crime = (\n",
    "    df_with_income\n",
    "    .join(crime_df, on=[\"state\", \"year\"], how=\"left\")\n",
    ")\n",
    "\n",
    "# Step 4: 查看结果\n",
    "df_with_crime.show(10, truncate=False)"
   ]
  },
  {
   "cell_type": "markdown",
   "id": "ba0e2ca3",
   "metadata": {},
   "source": [
    "### Join with consumer_profile"
   ]
  },
  {
   "cell_type": "code",
   "execution_count": 19,
   "id": "2fead564",
   "metadata": {},
   "outputs": [],
   "source": [
    "# --- Join with Consumer Level ---\n",
    "df_with_consumer = (\n",
    "    df_with_crime\n",
    "    .join(consumer_level, on=\"consumer_id\", how=\"left\")\n",
    ")\n"
   ]
  },
  {
   "cell_type": "code",
   "execution_count": 20,
   "id": "db758ff0",
   "metadata": {},
   "outputs": [
    {
     "name": "stderr",
     "output_type": "stream",
     "text": [
      "[Stage 132:>                                                        (0 + 8) / 9]\r"
     ]
    },
    {
     "name": "stdout",
     "output_type": "stream",
     "text": [
      "+-----------+-----+----+--------+-------+------------+------------------------------------+------------------+------+--------------+----------+--------+-------------+-----------+-------+--------+----------+--------------+-----------+---------+------------------+-------+\n",
      "|consumer_id|state|year|postcode|user_id|merchant_abn|order_id                            |dollar_value      |gender|order_datetime|year_month|pop     |median_income|mean_income|Assault|Homicide|Kidnapping|Sexual assault|Crime_Index|c_user_id|c_fraud_prob      |c_state|\n",
      "+-----------+-----+----+--------+-------+------------+------------------------------------+------------------+------+--------------+----------+--------+-------------+-----------+-------+--------+----------+--------------+-----------+---------+------------------+-------+\n",
      "|4932       |NSW  |2021|2530    |14937  |20985347699 |0bed3901-f0a8-4aa9-b286-2126cf021021|11.197796935848178|Female|2021-09-09    |2021-09   |39938.0 |53068.0      |64132.0    |798.9  |1.0     |2.6       |141.8         |428.3      |14937    |9.52491706946706  |NSW    |\n",
      "|4932       |NSW  |2022|2530    |14937  |48534649627 |16733b8a-d91a-436e-abce-02f27b990d1d|214.89416304714123|Female|2022-02-07    |2022-02   |39938.0 |53068.0      |64132.0    |852.0  |1.0     |2.6       |152.2         |456.9      |14937    |9.52491706946706  |NSW    |\n",
      "|505718     |NSW  |2022|2281    |11139  |45466221547 |066d9342-9bc7-4be2-80a0-3fad03dabc56|0.8459119362003027|Female|2022-07-12    |2022-07   |126606.0|55824.0      |69320.0    |852.0  |1.0     |2.6       |152.2         |456.9      |11139    |17.769677285562437|NSW    |\n",
      "|505718     |NSW  |2022|2281    |11139  |28687004922 |3948f702-0668-4cff-bae1-393868859cfc|19.65330763420652 |Female|2022-07-08    |2022-07   |126606.0|55824.0      |69320.0    |852.0  |1.0     |2.6       |152.2         |456.9      |11139    |17.769677285562437|NSW    |\n",
      "|505718     |NSW  |2022|2281    |11139  |56762458844 |0311717b-8b5b-410b-89f3-f6e984b54a30|31.513502323509194|Female|2022-08-20    |2022-08   |126606.0|55824.0      |69320.0    |852.0  |1.0     |2.6       |152.2         |456.9      |11139    |17.769677285562437|NSW    |\n",
      "|650435     |NSW  |2021|2482    |9      |38523562929 |09508e97-7b34-440c-a8ee-9ae7e138421c|152.81277878633023|Female|2021-04-07    |2021-04   |87664.0 |41768.0      |60033.0    |798.9  |1.0     |2.6       |141.8         |428.3      |9        |10.58055311139687 |NSW    |\n",
      "|948149     |SA   |2022|5139    |22290  |66626020312 |5285029c-7923-471a-9d6a-26c956b0a7bb|41.024562352241276|Male  |2022-07-08    |2022-07   |80493.0 |56483.0      |72104.0    |1083.8 |1.6     |2.3       |99.7          |562.4      |22290    |8.848401761937838 |SA     |\n",
      "|1027466    |VIC  |2022|3202    |11141  |24070342853 |3a2da1f2-0c6d-4819-b922-6fcf6acfe499|132.81801174930692|Female|2022-07-08    |2022-07   |123786.0|62166.0      |77388.0    |0.0    |1.3     |2.7       |100.9         |20.7       |11141    |18.51900673047647 |VIC    |\n",
      "|1111029    |QLD  |2022|4551    |14946  |49482116099 |3b5f5e08-a733-482e-9e7f-0a4ef647e78b|393.20347229745465|Male  |2022-01-14    |2022-01   |97297.0 |51144.0      |65505.0    |983.3  |2.1     |0.8       |139.5         |520.0      |14946    |8.706572799265064 |QLD    |\n",
      "|1398491    |QLD  |2021|4887    |18480  |26001500989 |498544c8-035b-49e9-a8ab-2019dac5fc21|92.85491376081134 |Male  |2021-07-26    |2021-07   |38204.0 |45305.5      |55504.0    |0.0    |1.6     |0.5       |132.1         |26.8       |18480    |8.29986327056335  |QLD    |\n",
      "+-----------+-----+----+--------+-------+------------+------------------------------------+------------------+------+--------------+----------+--------+-------------+-----------+-------+--------+----------+--------------+-----------+---------+------------------+-------+\n",
      "only showing top 10 rows\n"
     ]
    },
    {
     "name": "stderr",
     "output_type": "stream",
     "text": [
      "                                                                                \r"
     ]
    }
   ],
   "source": [
    "# 预览\n",
    "df_with_consumer.show(10, truncate=False)"
   ]
  },
  {
   "cell_type": "markdown",
   "id": "007d1f05",
   "metadata": {},
   "source": [
    "### Join with merrcant_profile"
   ]
  },
  {
   "cell_type": "code",
   "execution_count": 21,
   "id": "0f3ab6d3",
   "metadata": {},
   "outputs": [],
   "source": [
    "# --- Join with Merchant Level ---\n",
    "df_with_merchant = (\n",
    "    df_with_consumer\n",
    "    .join(merchant_level, on=\"merchant_abn\", how=\"left\")\n",
    ")\n",
    "\n"
   ]
  },
  {
   "cell_type": "code",
   "execution_count": 22,
   "id": "b94dfc8e",
   "metadata": {},
   "outputs": [],
   "source": [
    "from pyspark.sql import functions as F\n",
    "\n",
    "# 合并两个 order_date 列\n",
    "df_final = (\n",
    "    df_with_merchant\n",
    "    .withColumn(\"order_date\", F.coalesce(F.col(\"order_date\"), F.col(\"order_datetime\")))\n",
    "    .drop(\"order_datetime\")   # 删除多余列，避免重复\n",
    ")\n",
    "\n"
   ]
  },
  {
   "cell_type": "code",
   "execution_count": 23,
   "id": "cf7fbb2d",
   "metadata": {},
   "outputs": [
    {
     "name": "stderr",
     "output_type": "stream",
     "text": [
      "25/09/18 13:41:36 WARN SparkStringUtils: Truncated the string representation of a plan since it was too large. This behavior can be adjusted by setting 'spark.sql.debug.maxToStringFields'.\n",
      "                                                                                \r"
     ]
    },
    {
     "name": "stdout",
     "output_type": "stream",
     "text": [
      "+------------+-----------+-----+----+--------+-------+------------------------------------+------------------+------+--------------+----------+--------+-------------+-----------+-------+--------+----------+--------------+-----------+---------+------------------+-------+----------+------------------+-----------------------------+-------------+\n",
      "|merchant_abn|consumer_id|state|year|postcode|user_id|order_id                            |dollar_value      |gender|order_datetime|year_month|pop     |median_income|mean_income|Assault|Homicide|Kidnapping|Sexual assault|Crime_Index|c_user_id|c_fraud_prob      |c_state|order_date|m_fraud_prob      |m_name                       |m_category   |\n",
      "+------------+-----------+-----+----+--------+-------+------------------------------------+------------------+------+--------------+----------+--------+-------------+-----------+-------+--------+----------+--------------+-----------+---------+------------------+-------+----------+------------------+-----------------------------+-------------+\n",
      "|20985347699 |4932       |NSW  |2021|2530    |14937  |0bed3901-f0a8-4aa9-b286-2126cf021021|11.197796935848178|Female|2021-09-09    |2021-09   |39938.0 |53068.0      |64132.0    |798.9  |1.0     |2.6       |141.8         |428.3      |14937    |9.52491706946706  |NSW    |NULL      |NULL              |Semper Tellus PC             |Other        |\n",
      "|48534649627 |4932       |NSW  |2022|2530    |14937  |16733b8a-d91a-436e-abce-02f27b990d1d|214.89416304714123|Female|2022-02-07    |2022-02   |39938.0 |53068.0      |64132.0    |852.0  |1.0     |2.6       |152.2         |456.9      |14937    |9.52491706946706  |NSW    |2021-11-26|29.005907009831038|Dignissim Maecenas Foundation|Other        |\n",
      "|48534649627 |4932       |NSW  |2022|2530    |14937  |16733b8a-d91a-436e-abce-02f27b990d1d|214.89416304714123|Female|2022-02-07    |2022-02   |39938.0 |53068.0      |64132.0    |852.0  |1.0     |2.6       |152.2         |456.9      |14937    |9.52491706946706  |NSW    |2021-11-29|28.36052168812278 |Dignissim Maecenas Foundation|Other        |\n",
      "|48534649627 |4932       |NSW  |2022|2530    |14937  |16733b8a-d91a-436e-abce-02f27b990d1d|214.89416304714123|Female|2022-02-07    |2022-02   |39938.0 |53068.0      |64132.0    |852.0  |1.0     |2.6       |152.2         |456.9      |14937    |9.52491706946706  |NSW    |2021-11-27|28.337370196230054|Dignissim Maecenas Foundation|Other        |\n",
      "|45466221547 |505718     |NSW  |2022|2281    |11139  |066d9342-9bc7-4be2-80a0-3fad03dabc56|0.8459119362003027|Female|2022-07-12    |2022-07   |126606.0|55824.0      |69320.0    |852.0  |1.0     |2.6       |152.2         |456.9      |11139    |17.769677285562437|NSW    |NULL      |NULL              |Eu LLC                       |Software & IT|\n",
      "|28687004922 |505718     |NSW  |2022|2281    |11139  |3948f702-0668-4cff-bae1-393868859cfc|19.65330763420652 |Female|2022-07-08    |2022-07   |126606.0|55824.0      |69320.0    |852.0  |1.0     |2.6       |152.2         |456.9      |11139    |17.769677285562437|NSW    |NULL      |NULL              |Eget Company                 |Software & IT|\n",
      "|56762458844 |505718     |NSW  |2022|2281    |11139  |0311717b-8b5b-410b-89f3-f6e984b54a30|31.513502323509194|Female|2022-08-20    |2022-08   |126606.0|55824.0      |69320.0    |852.0  |1.0     |2.6       |152.2         |456.9      |11139    |17.769677285562437|NSW    |NULL      |NULL              |In Inc.                      |Other        |\n",
      "|38523562929 |650435     |NSW  |2021|2482    |9      |09508e97-7b34-440c-a8ee-9ae7e138421c|152.81277878633023|Female|2021-04-07    |2021-04   |87664.0 |41768.0      |60033.0    |798.9  |1.0     |2.6       |141.8         |428.3      |9        |10.58055311139687 |NSW    |NULL      |NULL              |Sed Dictum Corp.             |Other        |\n",
      "|66626020312 |948149     |SA   |2022|5139    |22290  |5285029c-7923-471a-9d6a-26c956b0a7bb|41.024562352241276|Male  |2022-07-08    |2022-07   |80493.0 |56483.0      |72104.0    |1083.8 |1.6     |2.3       |99.7          |562.4      |22290    |8.848401761937838 |SA     |NULL      |NULL              |In Magna Incorporated        |Other        |\n",
      "|24070342853 |1027466    |VIC  |2022|3202    |11141  |3a2da1f2-0c6d-4819-b922-6fcf6acfe499|132.81801174930692|Female|2022-07-08    |2022-07   |123786.0|62166.0      |77388.0    |0.0    |1.3     |2.7       |100.9         |20.7       |11141    |18.51900673047647 |VIC    |NULL      |NULL              |Ligula Tortor PC             |Other        |\n",
      "+------------+-----------+-----+----+--------+-------+------------------------------------+------------------+------+--------------+----------+--------+-------------+-----------+-------+--------+----------+--------------+-----------+---------+------------------+-------+----------+------------------+-----------------------------+-------------+\n",
      "only showing top 10 rows\n"
     ]
    },
    {
     "name": "stderr",
     "output_type": "stream",
     "text": [
      "                                                                                \r"
     ]
    },
    {
     "name": "stdout",
     "output_type": "stream",
     "text": [
      "原始交易数量: 14195505\n"
     ]
    },
    {
     "name": "stderr",
     "output_type": "stream",
     "text": [
      "[Stage 206:>                                                        (0 + 8) / 9]\r"
     ]
    },
    {
     "name": "stdout",
     "output_type": "stream",
     "text": [
      "合并后交易数量: 14494630\n"
     ]
    },
    {
     "name": "stderr",
     "output_type": "stream",
     "text": [
      "                                                                                \r"
     ]
    }
   ],
   "source": [
    "# 预览\n",
    "df_with_merchant.show(10, truncate=False)\n",
    "\n",
    "print(\"原始交易数量:\", df_with_consumer.count())\n",
    "print(\"合并后交易数量:\", df_with_merchant.count())"
   ]
  },
  {
   "cell_type": "code",
   "execution_count": 24,
   "id": "69fe5fc9",
   "metadata": {},
   "outputs": [
    {
     "name": "stdout",
     "output_type": "stream",
     "text": [
      "root\n",
      " |-- merchant_abn: long (nullable = true)\n",
      " |-- consumer_id: long (nullable = true)\n",
      " |-- state: string (nullable = true)\n",
      " |-- year: integer (nullable = true)\n",
      " |-- postcode: integer (nullable = true)\n",
      " |-- user_id: long (nullable = true)\n",
      " |-- order_id: string (nullable = true)\n",
      " |-- dollar_value: double (nullable = true)\n",
      " |-- gender: string (nullable = true)\n",
      " |-- order_datetime: date (nullable = true)\n",
      " |-- year_month: string (nullable = true)\n",
      " |-- pop: double (nullable = true)\n",
      " |-- median_income: double (nullable = true)\n",
      " |-- mean_income: double (nullable = true)\n",
      " |-- assault: double (nullable = true)\n",
      " |-- homicide: double (nullable = true)\n",
      " |-- kidnapping: double (nullable = true)\n",
      " |-- sexual assault: double (nullable = true)\n",
      " |-- crime_index: double (nullable = true)\n",
      " |-- c_fraud_prob: double (nullable = true)\n",
      " |-- m_fraud_prob: double (nullable = true)\n",
      " |-- m_name: string (nullable = true)\n",
      " |-- m_category: string (nullable = true)\n",
      "\n"
     ]
    },
    {
     "name": "stderr",
     "output_type": "stream",
     "text": [
      "[Stage 225:==================================================>      (8 + 1) / 9]\r"
     ]
    },
    {
     "name": "stdout",
     "output_type": "stream",
     "text": [
      "+------------+-----------+-----+----+--------+-------+------------------------------------+------------------+------+--------------+----------+--------+-------------+-----------+-------+--------+----------+--------------+-----------+------------------+------------------+-----------------------------+-------------+\n",
      "|merchant_abn|consumer_id|state|year|postcode|user_id|order_id                            |dollar_value      |gender|order_datetime|year_month|pop     |median_income|mean_income|assault|homicide|kidnapping|sexual assault|crime_index|c_fraud_prob      |m_fraud_prob      |m_name                       |m_category   |\n",
      "+------------+-----------+-----+----+--------+-------+------------------------------------+------------------+------+--------------+----------+--------+-------------+-----------+-------+--------+----------+--------------+-----------+------------------+------------------+-----------------------------+-------------+\n",
      "|20985347699 |4932       |NSW  |2021|2530    |14937  |0bed3901-f0a8-4aa9-b286-2126cf021021|11.197796935848178|Female|2021-09-09    |2021-09   |39938.0 |53068.0      |64132.0    |798.9  |1.0     |2.6       |141.8         |428.3      |9.52491706946706  |NULL              |Semper Tellus PC             |Other        |\n",
      "|48534649627 |4932       |NSW  |2022|2530    |14937  |16733b8a-d91a-436e-abce-02f27b990d1d|214.89416304714123|Female|2022-02-07    |2022-02   |39938.0 |53068.0      |64132.0    |852.0  |1.0     |2.6       |152.2         |456.9      |9.52491706946706  |29.005907009831038|Dignissim Maecenas Foundation|Other        |\n",
      "|48534649627 |4932       |NSW  |2022|2530    |14937  |16733b8a-d91a-436e-abce-02f27b990d1d|214.89416304714123|Female|2022-02-07    |2022-02   |39938.0 |53068.0      |64132.0    |852.0  |1.0     |2.6       |152.2         |456.9      |9.52491706946706  |28.36052168812278 |Dignissim Maecenas Foundation|Other        |\n",
      "|48534649627 |4932       |NSW  |2022|2530    |14937  |16733b8a-d91a-436e-abce-02f27b990d1d|214.89416304714123|Female|2022-02-07    |2022-02   |39938.0 |53068.0      |64132.0    |852.0  |1.0     |2.6       |152.2         |456.9      |9.52491706946706  |28.337370196230054|Dignissim Maecenas Foundation|Other        |\n",
      "|45466221547 |505718     |NSW  |2022|2281    |11139  |066d9342-9bc7-4be2-80a0-3fad03dabc56|0.8459119362003027|Female|2022-07-12    |2022-07   |126606.0|55824.0      |69320.0    |852.0  |1.0     |2.6       |152.2         |456.9      |17.769677285562437|NULL              |Eu LLC                       |Software & IT|\n",
      "|28687004922 |505718     |NSW  |2022|2281    |11139  |3948f702-0668-4cff-bae1-393868859cfc|19.65330763420652 |Female|2022-07-08    |2022-07   |126606.0|55824.0      |69320.0    |852.0  |1.0     |2.6       |152.2         |456.9      |17.769677285562437|NULL              |Eget Company                 |Software & IT|\n",
      "|56762458844 |505718     |NSW  |2022|2281    |11139  |0311717b-8b5b-410b-89f3-f6e984b54a30|31.513502323509194|Female|2022-08-20    |2022-08   |126606.0|55824.0      |69320.0    |852.0  |1.0     |2.6       |152.2         |456.9      |17.769677285562437|NULL              |In Inc.                      |Other        |\n",
      "|38523562929 |650435     |NSW  |2021|2482    |9      |09508e97-7b34-440c-a8ee-9ae7e138421c|152.81277878633023|Female|2021-04-07    |2021-04   |87664.0 |41768.0      |60033.0    |798.9  |1.0     |2.6       |141.8         |428.3      |10.58055311139687 |NULL              |Sed Dictum Corp.             |Other        |\n",
      "|66626020312 |948149     |SA   |2022|5139    |22290  |5285029c-7923-471a-9d6a-26c956b0a7bb|41.024562352241276|Male  |2022-07-08    |2022-07   |80493.0 |56483.0      |72104.0    |1083.8 |1.6     |2.3       |99.7          |562.4      |8.848401761937838 |NULL              |In Magna Incorporated        |Other        |\n",
      "|24070342853 |1027466    |VIC  |2022|3202    |11141  |3a2da1f2-0c6d-4819-b922-6fcf6acfe499|132.81801174930692|Female|2022-07-08    |2022-07   |123786.0|62166.0      |77388.0    |0.0    |1.3     |2.7       |100.9         |20.7       |18.51900673047647 |NULL              |Ligula Tortor PC             |Other        |\n",
      "+------------+-----------+-----+----+--------+-------+------------------------------------+------------------+------+--------------+----------+--------+-------------+-----------+-------+--------+----------+--------------+-----------+------------------+------------------+-----------------------------+-------------+\n",
      "only showing top 10 rows\n"
     ]
    },
    {
     "name": "stderr",
     "output_type": "stream",
     "text": [
      "                                                                                \r"
     ]
    }
   ],
   "source": [
    "# 删除重复列\n",
    "df_cleaned = df_with_merchant.drop(\n",
    "    \"c_user_id\",     # 和 user_id 重复\n",
    "    \"c_gender\",      # 和 gender 重复\n",
    "    \"c_state\",       # 和 state 重复\n",
    "    \"c_postcode\",    # 和 postcode 重复\n",
    "    \"order_date\"     # 和 order_datetime 重复\n",
    ")\n",
    "\n",
    "# 将所有列名转为小写\n",
    "df_cleaned = df_cleaned.toDF(*[c.lower() for c in df_cleaned.columns])\n",
    "\n",
    "\n",
    "# 预览清理后的结果\n",
    "df_cleaned.printSchema()\n",
    "df_cleaned.show(10, truncate=False)"
   ]
  },
  {
   "cell_type": "code",
   "execution_count": 25,
   "id": "2df1ce8a",
   "metadata": {},
   "outputs": [
    {
     "name": "stderr",
     "output_type": "stream",
     "text": [
      "[Stage 253:====================================>                  (10 + 5) / 15]\r"
     ]
    },
    {
     "name": "stdout",
     "output_type": "stream",
     "text": [
      "Data saved as Parquet at initial_transaction.parquet\n"
     ]
    },
    {
     "name": "stderr",
     "output_type": "stream",
     "text": [
      "                                                                                \r"
     ]
    }
   ],
   "source": [
    "output_path = \"initial_transaction.parquet\"\n",
    "\n",
    "df_with_merchant.write.mode(\"overwrite\").parquet(output_path)\n",
    "\n",
    "print(f\"Data saved as Parquet at {output_path}\")"
   ]
  },
  {
   "cell_type": "code",
   "execution_count": 26,
   "id": "7622f508",
   "metadata": {},
   "outputs": [
    {
     "name": "stderr",
     "output_type": "stream",
     "text": [
      "[Stage 271:=============================>                          (8 + 7) / 15]\r"
     ]
    },
    {
     "name": "stdout",
     "output_type": "stream",
     "text": [
      "+------------+-----------+-----+----+--------+-------+--------+------------+------+--------------+----------+-------+-------------+-----------+-------+--------+----------+--------------+-----------+------------+------------+------+----------+\n",
      "|merchant_abn|consumer_id|state|year|postcode|user_id|order_id|dollar_value|gender|order_datetime|year_month|pop    |median_income|mean_income|assault|homicide|kidnapping|sexual assault|crime_index|c_fraud_prob|m_fraud_prob|m_name|m_category|\n",
      "+------------+-----------+-----+----+--------+-------+--------+------------+------+--------------+----------+-------+-------------+-----------+-------+--------+----------+--------------+-----------+------------+------------+------+----------+\n",
      "|0           |0          |0    |0   |0       |0      |0       |0           |0     |0             |0         |2404455|2404455      |2404455    |0      |0       |0         |0             |0          |2376259     |13611959    |580830|580830    |\n",
      "+------------+-----------+-----+----+--------+-------+--------+------------+------+--------------+----------+-------+-------------+-----------+-------+--------+----------+--------------+-----------+------------+------------+------+----------+\n",
      "\n"
     ]
    },
    {
     "name": "stderr",
     "output_type": "stream",
     "text": [
      "                                                                                \r"
     ]
    }
   ],
   "source": [
    "\n",
    "# 针对 df_cleaned 统计每个列的 NULL 数量\n",
    "null_counts = df_cleaned.select([\n",
    "    F.count(F.when(F.col(c).isNull(), c)).alias(c) for c in df_cleaned.columns\n",
    "])\n",
    "\n",
    "null_counts.show(truncate=False)"
   ]
  },
  {
   "cell_type": "code",
   "execution_count": 27,
   "id": "91a22ce5",
   "metadata": {},
   "outputs": [
    {
     "name": "stderr",
     "output_type": "stream",
     "text": [
      "                                                                                \r"
     ]
    },
    {
     "name": "stdout",
     "output_type": "stream",
     "text": [
      "+--------------+----------+----------+\n",
      "|column        |null_count|null_ratio|\n",
      "+--------------+----------+----------+\n",
      "|merchant_abn  |0         |0.0       |\n",
      "|consumer_id   |0         |0.0       |\n",
      "|state         |0         |0.0       |\n",
      "|year          |0         |0.0       |\n",
      "|postcode      |0         |0.0       |\n",
      "|user_id       |0         |0.0       |\n",
      "|order_id      |0         |0.0       |\n",
      "|dollar_value  |0         |0.0       |\n",
      "|gender        |0         |0.0       |\n",
      "|order_datetime|0         |0.0       |\n",
      "|year_month    |0         |0.0       |\n",
      "|pop           |2404455   |0.1659    |\n",
      "|median_income |2404455   |0.1659    |\n",
      "|mean_income   |2404455   |0.1659    |\n",
      "|assault       |0         |0.0       |\n",
      "|homicide      |0         |0.0       |\n",
      "|kidnapping    |0         |0.0       |\n",
      "|sexual assault|0         |0.0       |\n",
      "|crime_index   |0         |0.0       |\n",
      "|c_fraud_prob  |2376259   |0.1639    |\n",
      "|m_fraud_prob  |13611959  |0.9391    |\n",
      "|m_name        |580830    |0.0401    |\n",
      "|m_category    |580830    |0.0401    |\n",
      "+--------------+----------+----------+\n",
      "\n"
     ]
    }
   ],
   "source": [
    "\n",
    "# 总行数\n",
    "total_rows = df_cleaned.count()\n",
    "\n",
    "# 统计每列的 null 数量和占比\n",
    "null_summary = df_cleaned.select([\n",
    "    F.count(F.when(F.col(c).isNull(), c)).alias(c) for c in df_cleaned.columns\n",
    "]).collect()[0].asDict()\n",
    "\n",
    "# 转换成 DataFrame 展示更直观\n",
    "null_df = spark.createDataFrame([\n",
    "    (col, null_summary[col], round(null_summary[col]/total_rows, 4)) \n",
    "    for col in df_cleaned.columns\n",
    "], [\"column\", \"null_count\", \"null_ratio\"])\n",
    "\n",
    "null_df.show(30, truncate=False)"
   ]
  },
  {
   "cell_type": "code",
   "execution_count": 28,
   "id": "33f05b4b",
   "metadata": {},
   "outputs": [
    {
     "name": "stderr",
     "output_type": "stream",
     "text": [
      "                                                                                \r"
     ]
    },
    {
     "data": {
      "text/html": [
       "<div>\n",
       "<style scoped>\n",
       "    .dataframe tbody tr th:only-of-type {\n",
       "        vertical-align: middle;\n",
       "    }\n",
       "\n",
       "    .dataframe tbody tr th {\n",
       "        vertical-align: top;\n",
       "    }\n",
       "\n",
       "    .dataframe thead th {\n",
       "        text-align: right;\n",
       "    }\n",
       "</style>\n",
       "<table border=\"1\" class=\"dataframe\">\n",
       "  <thead>\n",
       "    <tr style=\"text-align: right;\">\n",
       "      <th></th>\n",
       "      <th>state</th>\n",
       "      <th>total_revenue</th>\n",
       "      <th>txn_count</th>\n",
       "      <th>avg_c_fraud_prob</th>\n",
       "    </tr>\n",
       "  </thead>\n",
       "  <tbody>\n",
       "    <tr>\n",
       "      <th>0</th>\n",
       "      <td>NT</td>\n",
       "      <td>3.903729e+07</td>\n",
       "      <td>206429</td>\n",
       "      <td>18.498764</td>\n",
       "    </tr>\n",
       "    <tr>\n",
       "      <th>1</th>\n",
       "      <td>ACT</td>\n",
       "      <td>2.462346e+07</td>\n",
       "      <td>133063</td>\n",
       "      <td>16.475724</td>\n",
       "    </tr>\n",
       "    <tr>\n",
       "      <th>2</th>\n",
       "      <td>SA</td>\n",
       "      <td>3.063562e+08</td>\n",
       "      <td>1646462</td>\n",
       "      <td>17.950016</td>\n",
       "    </tr>\n",
       "    <tr>\n",
       "      <th>3</th>\n",
       "      <td>TAS</td>\n",
       "      <td>1.015295e+08</td>\n",
       "      <td>536684</td>\n",
       "      <td>18.271513</td>\n",
       "    </tr>\n",
       "    <tr>\n",
       "      <th>4</th>\n",
       "      <td>WA</td>\n",
       "      <td>4.255546e+08</td>\n",
       "      <td>2294769</td>\n",
       "      <td>17.604475</td>\n",
       "    </tr>\n",
       "  </tbody>\n",
       "</table>\n",
       "</div>"
      ],
      "text/plain": [
       "  state  total_revenue  txn_count  avg_c_fraud_prob\n",
       "0    NT   3.903729e+07     206429         18.498764\n",
       "1   ACT   2.462346e+07     133063         16.475724\n",
       "2    SA   3.063562e+08    1646462         17.950016\n",
       "3   TAS   1.015295e+08     536684         18.271513\n",
       "4    WA   4.255546e+08    2294769         17.604475"
      ]
     },
     "execution_count": 28,
     "metadata": {},
     "output_type": "execute_result"
    }
   ],
   "source": [
    "from pyspark.sql import functions as F\n",
    "\n",
    "# 只取我们需要的列，避免额外数据干扰\n",
    "agg_spark = (\n",
    "    df_cleaned\n",
    "    .filter(F.col(\"state\").isNotNull())\n",
    "    .groupBy(\"state\")\n",
    "    .agg(\n",
    "        F.sum(\"dollar_value\").alias(\"total_revenue\"),\n",
    "        F.count(F.lit(1)).alias(\"txn_count\"),\n",
    "        F.avg(\"c_fraud_prob\").alias(\"avg_c_fraud_prob\")   # NOTE: 用 consumer fraud 概率做平均（m_fraud_prob 缺失较多）\n",
    "    )\n",
    ")\n",
    "\n",
    "# 转 pandas，给 geopandas merge 用\n",
    "agg_pd = agg_spark.toPandas()\n",
    "agg_pd.head()"
   ]
  },
  {
   "cell_type": "code",
   "execution_count": 29,
   "id": "5cfdc206",
   "metadata": {},
   "outputs": [
    {
     "data": {
      "text/html": [
       "<div>\n",
       "<style scoped>\n",
       "    .dataframe tbody tr th:only-of-type {\n",
       "        vertical-align: middle;\n",
       "    }\n",
       "\n",
       "    .dataframe tbody tr th {\n",
       "        vertical-align: top;\n",
       "    }\n",
       "\n",
       "    .dataframe thead th {\n",
       "        text-align: right;\n",
       "    }\n",
       "</style>\n",
       "<table border=\"1\" class=\"dataframe\">\n",
       "  <thead>\n",
       "    <tr style=\"text-align: right;\">\n",
       "      <th></th>\n",
       "      <th>state</th>\n",
       "      <th>geometry</th>\n",
       "    </tr>\n",
       "  </thead>\n",
       "  <tbody>\n",
       "    <tr>\n",
       "      <th>0</th>\n",
       "      <td>NSW</td>\n",
       "      <td>MULTIPOLYGON (((159.0623 -31.50886, 159.06218 ...</td>\n",
       "    </tr>\n",
       "    <tr>\n",
       "      <th>1</th>\n",
       "      <td>VIC</td>\n",
       "      <td>MULTIPOLYGON (((146.29286 -39.15778, 146.29341...</td>\n",
       "    </tr>\n",
       "    <tr>\n",
       "      <th>2</th>\n",
       "      <td>QLD</td>\n",
       "      <td>MULTIPOLYGON (((142.5314 -10.68301, 142.53072 ...</td>\n",
       "    </tr>\n",
       "    <tr>\n",
       "      <th>3</th>\n",
       "      <td>SA</td>\n",
       "      <td>MULTIPOLYGON (((140.66025 -38.06256, 140.66006...</td>\n",
       "    </tr>\n",
       "    <tr>\n",
       "      <th>4</th>\n",
       "      <td>WA</td>\n",
       "      <td>MULTIPOLYGON (((117.86953 -35.19108, 117.86961...</td>\n",
       "    </tr>\n",
       "  </tbody>\n",
       "</table>\n",
       "</div>"
      ],
      "text/plain": [
       "  state                                           geometry\n",
       "0   NSW  MULTIPOLYGON (((159.0623 -31.50886, 159.06218 ...\n",
       "1   VIC  MULTIPOLYGON (((146.29286 -39.15778, 146.29341...\n",
       "2   QLD  MULTIPOLYGON (((142.5314 -10.68301, 142.53072 ...\n",
       "3    SA  MULTIPOLYGON (((140.66025 -38.06256, 140.66006...\n",
       "4    WA  MULTIPOLYGON (((117.86953 -35.19108, 117.86961..."
      ]
     },
     "execution_count": 29,
     "metadata": {},
     "output_type": "execute_result"
    }
   ],
   "source": [
    "# 尝试自动找一个像“州名/缩写”的列\n",
    "candidates = [c for c in gdf.columns if c.lower() in {\n",
    "    \"state\",\"state_name\",\"statename\",\"ste_name\",\"ste_name16\",\"ste_name21\",\n",
    "    \"state_abbr\",\"abbr\",\"ste_code\",\"ste\",\"jurisdiction\"\n",
    "}]\n",
    "\n",
    "# 如果 shapefile 是州全名，我们转为缩写；若本来就是缩写，直接用\n",
    "name_to_abbr = {\n",
    "    \"new south wales\":\"NSW\", \"victoria\":\"VIC\", \"queensland\":\"QLD\",\n",
    "    \"south australia\":\"SA\", \"western australia\":\"WA\", \"tasmania\":\"TAS\",\n",
    "    \"northern territory\":\"NT\", \"australian capital territory\":\"ACT\",\n",
    "    # 兼容常见简写/变体\n",
    "    \"nsw\":\"NSW\",\"vic\":\"VIC\",\"qld\":\"QLD\",\"sa\":\"SA\",\"wa\":\"WA\",\"tas\":\"TAS\",\"nt\":\"NT\",\"act\":\"ACT\"\n",
    "}\n",
    "\n",
    "def ensure_state_abbr(row_string:str):\n",
    "    if pd.isna(row_string): \n",
    "        return None\n",
    "    s = str(row_string).strip().lower()\n",
    "    return name_to_abbr.get(s, s.upper())   # 找不到就当作已经是缩写\n",
    "\n",
    "if len(candidates) == 0:\n",
    "    raise ValueError(f\"在 shapefile 里没找到可用的州名列，先 print(gdf.columns) 看看有哪些列可用于州名/缩写\")\n",
    "\n",
    "state_col = candidates[0]  # 用第一个候选列\n",
    "gdf = gdf.copy()\n",
    "gdf[\"state\"] = gdf[state_col].apply(ensure_state_abbr)\n",
    "\n",
    "# 只保留州边界 + state 键\n",
    "gdf = gdf[[\"state\", \"geometry\"]]\n",
    "gdf.head()"
   ]
  },
  {
   "cell_type": "code",
   "execution_count": 30,
   "id": "086a885e",
   "metadata": {},
   "outputs": [
    {
     "data": {
      "image/png": "[encoded data removed]",
      "text/plain": [
       "<Figure size 2520x700 with 6 Axes>"
      ]
     },
     "metadata": {},
     "output_type": "display_data"
    }
   ],
   "source": [
    "import matplotlib.pyplot as plt\n",
    "import matplotlib as mpl\n",
    "\n",
    "# 合并\n",
    "gdf_plot = gdf.merge(agg_pd, on=\"state\", how=\"left\")\n",
    "\n",
    "# 统一地图显示样式\n",
    "mpl.rcParams[\"figure.dpi\"] = 140\n",
    "\n",
    "fig, axes = plt.subplots(1, 3, figsize=(18, 5), constrained_layout=True)\n",
    "\n",
    "# 1) 总交易额\n",
    "gdf_plot.plot(\n",
    "    column=\"total_revenue\",\n",
    "    ax=axes[0],\n",
    "    cmap=\"Blues\",\n",
    "    legend=True,\n",
    "    legend_kwds={\"label\": \"Total Revenue (AUD)\", \"shrink\": 0.7},\n",
    "    missing_kwds={\"color\":\"lightgrey\",\"hatch\":\"///\",\"label\":\"No data\"}\n",
    ")\n",
    "axes[0].set_title(\"Total Transaction Value by State\")\n",
    "axes[0].axis(\"off\")\n",
    "\n",
    "# 2) 交易笔数\n",
    "gdf_plot.plot(\n",
    "    column=\"txn_count\",\n",
    "    ax=axes[1],\n",
    "    cmap=\"Greens\",\n",
    "    legend=True,\n",
    "    legend_kwds={\"label\": \"Transaction Count\", \"shrink\": 0.7},\n",
    "    missing_kwds={\"color\":\"lightgrey\",\"hatch\":\"///\",\"label\":\"No data\"}\n",
    ")\n",
    "axes[1].set_title(\"Transaction Count by State\")\n",
    "axes[1].axis(\"off\")\n",
    "\n",
    "# 3) 平均消费者 fraud 概率\n",
    "gdf_plot.plot(\n",
    "    column=\"avg_c_fraud_prob\",\n",
    "    ax=axes[2],\n",
    "    cmap=\"OrRd\",\n",
    "    legend=True,\n",
    "    legend_kwds={\"label\": \"Avg Consumer Fraud Probability\", \"shrink\": 0.7},\n",
    "    missing_kwds={\"color\":\"lightgrey\",\"hatch\":\"///\",\"label\":\"No data\"}\n",
    ")\n",
    "axes[2].set_title(\"Average Consumer Fraud Probability by State\")\n",
    "axes[2].axis(\"off\")\n",
    "\n",
    "# 统一图例中“no data”说明（仅当确实有缺失时才会显示）\n",
    "handles, labels = axes[2].get_legend_handles_labels()\n",
    "if \"No data\" in labels:\n",
    "    fig.legend(handles, labels, loc=\"lower center\", ncols=4, frameon=False)\n",
    "\n",
    "plt.show()"
   ]
  }
 ],
 "metadata": {
  "kernelspec": {
   "display_name": "base",
   "language": "python",
   "name": "python3"
  },
  "language_info": {
   "codemirror_mode": {
    "name": "ipython",
    "version": 3
   },
   "file_extension": ".py",
   "mimetype": "text/x-python",
   "name": "python",
   "nbconvert_exporter": "python",
   "pygments_lexer": "ipython3",
   "version": "3.11.7"
  }
 },
 "nbformat": 4,
 "nbformat_minor": 5
}
