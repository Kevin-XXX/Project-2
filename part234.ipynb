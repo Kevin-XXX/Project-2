{
 "cells": [
  {
   "cell_type": "markdown",
   "id": "456f81ed",
   "metadata": {},
   "source": [
    "# Import Library"
   ]
  },
  {
   "cell_type": "code",
   "execution_count": 1,
   "id": "3a2c77e0",
   "metadata": {},
   "outputs": [
    {
     "name": "stderr",
     "output_type": "stream",
     "text": [
      "WARNING: Using incubator modules: jdk.incubator.vector\n",
      "Using Spark's default log4j profile: org/apache/spark/log4j2-defaults.properties\n",
      "25/09/12 15:02:45 WARN Utils: Your hostname, xuzhengs-MacBook-Pro-2.local, resolves to a loopback address: 127.0.0.1; using 192.168.112.60 instead (on interface en0)\n",
      "25/09/12 15:02:45 WARN Utils: Set SPARK_LOCAL_IP if you need to bind to another address\n",
      "Using Spark's default log4j profile: org/apache/spark/log4j2-defaults.properties\n",
      "Setting default log level to \"WARN\".\n",
      "To adjust logging level use sc.setLogLevel(newLevel). For SparkR, use setLogLevel(newLevel).\n",
      "25/09/12 15:02:45 WARN NativeCodeLoader: Unable to load native-hadoop library for your platform... using builtin-java classes where applicable\n",
      "25/09/12 15:02:45 WARN Utils: Service 'SparkUI' could not bind on port 4040. Attempting port 4041.\n"
     ]
    }
   ],
   "source": [
    "# Pandas\n",
    "import pandas as pd\n",
    "import matplotlib.pyplot as plt\n",
    "import numpy as np\n",
    "import seaborn as sns\n",
    "\n",
    "# PySpark\n",
    "from pyspark.sql import SparkSession\n",
    "from pyspark.sql.functions import col, countDistinct, to_date, to_timestamp, when, expr, date_trunc, count, avg\n",
    "from pyspark.sql.functions import explode, split, trim\n",
    "from pyspark.sql import functions as F\n",
    "from pyspark.sql.types import ArrayType, StringType\n",
    "from pyspark.sql.functions import count as Fcount\n",
    "from pyspark.sql.window import Window \n",
    "\n",
    "spark = SparkSession.builder \\\n",
    "    .appName(\"BNPL_Part1_Data\") \\\n",
    "    .config(\"spark.driver.memory\", \"6g\") \\\n",
    "    .getOrCreate()"
   ]
  },
  {
   "cell_type": "markdown",
   "id": "daa2fcb7",
   "metadata": {},
   "source": [
    "# Data Check - Part 2 & 3 & 4"
   ]
  },
  {
   "cell_type": "code",
   "execution_count": 2,
   "id": "d78655f9",
   "metadata": {},
   "outputs": [
    {
     "name": "stderr",
     "output_type": "stream",
     "text": [
      "                                                                                \r"
     ]
    }
   ],
   "source": [
    "p2_path = \"part2_data/transaction2021A\"\n",
    "p2_df = spark.read.parquet(p2_path)\n",
    "\n",
    "p3_path = \"part3_data/transaction2021B\"\n",
    "p3_df = spark.read.parquet(p3_path)\n",
    "\n",
    "p4_path = \"part4_data/transaction2022A\"\n",
    "p4_df = spark.read.parquet(p4_path)\n",
    "\n",
    "new_tbl_consumer = (\n",
    "    spark.read\n",
    "         .option(\"header\", True)   \n",
    "         .option(\"inferSchema\", True)\n",
    "         .csv(\"part1_data/new_tbl_consumer.csv\")\n",
    ")\n",
    "consumer_details = spark.read.parquet(\"part1_data/consumer_user_details.parquet\")\n",
    "\n",
    "### 赵航宇数据\n",
    "preprocessed_data = spark.read.parquet(\"preprocessed_data.parquet\")\n",
    "\n",
    "crime_df = (\n",
    "    spark.read\n",
    "        .option(\"header\", True)   \n",
    "        .option(\"inferSchema\", True)\n",
    "        .csv(\"external_data/comprehensive_crime_rate.csv\")\n",
    ")\n",
    "\n",
    "# income\n",
    "income_df = (\n",
    "    spark.read\n",
    "        .option(\"header\", True)   \n",
    "        .option(\"inferSchema\", True)\n",
    "        .csv(\"external_data/income.csv\")\n",
    ")\n",
    "\n",
    "# employed rate\n",
    "employed_rate = (\n",
    "    spark.read\n",
    "        .option(\"header\", True)   \n",
    "        .option(\"inferSchema\", True)\n",
    "        .csv(\"external_data/employed_rate.csv\")\n",
    ")\n",
    "\n",
    "\n",
    "# consumer_file\n",
    "consumer_level = spark.read.parquet(\"part1_data/consumer_profile.parquet\")\n",
    "\n",
    "# merchant file\n",
    "merchant_level = spark.read.parquet(\"part1_data/merchant_profile.parquet\")"
   ]
  },
  {
   "cell_type": "code",
   "execution_count": 3,
   "id": "2d302208",
   "metadata": {},
   "outputs": [
    {
     "name": "stdout",
     "output_type": "stream",
     "text": [
      "+-------+------------+------------------+--------------------+--------------+\n",
      "|user_id|merchant_abn|      dollar_value|            order_id|order_datetime|\n",
      "+-------+------------+------------------+--------------------+--------------+\n",
      "|  18478| 62191208634|63.255848959735246|949a63c8-29f7-4ab...|    2021-08-20|\n",
      "|      2| 15549624934| 130.3505283105634|6a84c3cf-612a-457...|    2021-08-20|\n",
      "|  18479| 64403598239|120.15860593212783|b10dcc33-e53f-425...|    2021-08-20|\n",
      "|      3| 60956456424| 136.6785200286976|0f09c5a5-784e-447...|    2021-08-20|\n",
      "|  18479| 94493496784| 72.96316578355305|f6c78c1a-4600-4c5...|    2021-08-20|\n",
      "|      3| 76819856970|  448.529684285612|5ace6a24-cdf0-4aa...|    2021-08-20|\n",
      "|  18479| 67609108741|  86.4040605836911|d0e180f0-cb06-42a...|    2021-08-20|\n",
      "|      3| 34096466752| 301.5793450525113|6fb1ff48-24bb-4f9...|    2021-08-20|\n",
      "|  18482| 70501974849| 68.75486276223054|8505fb33-b69a-412...|    2021-08-20|\n",
      "|      4| 49891706470| 48.89796461900801|ed11e477-b09f-4ae...|    2021-08-20|\n",
      "+-------+------------+------------------+--------------------+--------------+\n",
      "only showing top 10 rows\n"
     ]
    },
    {
     "data": {
      "text/plain": [
       "3643266"
      ]
     },
     "execution_count": 3,
     "metadata": {},
     "output_type": "execute_result"
    }
   ],
   "source": [
    "p2_df.show(10)\n",
    "p2_df.count()"
   ]
  },
  {
   "cell_type": "code",
   "execution_count": 4,
   "id": "8e4e5829",
   "metadata": {},
   "outputs": [
    {
     "name": "stdout",
     "output_type": "stream",
     "text": [
      "+-------+------------+------------------+--------------------+--------------+\n",
      "|user_id|merchant_abn|      dollar_value|            order_id|order_datetime|\n",
      "+-------+------------+------------------+--------------------+--------------+\n",
      "|  14935| 79417999332|136.06570809815838|23acbb7b-cf98-458...|    2021-11-26|\n",
      "|      1| 46451548968| 72.61581642788431|76bab304-fa2d-400...|    2021-11-26|\n",
      "|  14936| 89518629617|3.0783487174439297|a2ae446a-2959-41c...|    2021-11-26|\n",
      "|      1| 49167531725| 51.58228625503599|7080c274-17f7-4cc...|    2021-11-26|\n",
      "|  14936| 31101120643|25.228114942417797|8e301c0f-06ab-45c...|    2021-11-26|\n",
      "|      2| 67978471888| 691.5028234458998|0380e9ad-b0e8-420...|    2021-11-26|\n",
      "|  14936| 60956456424|102.13952056640888|5ac3da9c-5147-452...|    2021-11-26|\n",
      "|      2| 47644196714| 644.5220654863093|4e368e44-86f8-4de...|    2021-11-26|\n",
      "|  14938| 39649557865|209.12780951421405|4d78cd01-4bab-494...|    2021-11-26|\n",
      "|      3| 88402174457| 141.0387993699113|c50c957d-ecfc-430...|    2021-11-26|\n",
      "+-------+------------+------------------+--------------------+--------------+\n",
      "only showing top 10 rows\n"
     ]
    },
    {
     "data": {
      "text/plain": [
       "4508106"
      ]
     },
     "execution_count": 4,
     "metadata": {},
     "output_type": "execute_result"
    }
   ],
   "source": [
    "p3_df.show(10)\n",
    "p3_df.count()"
   ]
  },
  {
   "cell_type": "code",
   "execution_count": 5,
   "id": "a1b0a5d9",
   "metadata": {},
   "outputs": [
    {
     "name": "stdout",
     "output_type": "stream",
     "text": [
      "+-------+------------+------------------+--------------------+--------------+\n",
      "|user_id|merchant_abn|      dollar_value|            order_id|order_datetime|\n",
      "+-------+------------+------------------+--------------------+--------------+\n",
      "|  11139| 96152467973|16.213590228273233|785b0080-9e4b-471...|    2022-08-20|\n",
      "|      1| 98973094975| 86.97955945703498|2560f7b0-ee5d-4b3...|    2022-08-20|\n",
      "|  11139| 56762458844|31.513502323509194|0311717b-8b5b-410...|    2022-08-20|\n",
      "|      1| 89502033586|124.18468694868491|f8891626-f098-45b...|    2022-08-20|\n",
      "|  11139| 96161808980|61.620445567668966|d90a421f-f1da-4bf...|    2022-08-20|\n",
      "|      2| 72472909171| 32.26524985312485|523e0403-b677-450...|    2022-08-20|\n",
      "|  11139| 91923722701|11.331586767322225|f45a842b-0366-41d...|    2022-08-20|\n",
      "|      3| 46380096952|119.80011239189334|58d0f423-037c-43f...|    2022-08-20|\n",
      "|  11140| 79283124876|198.13027742225435|60b12d41-41d6-4c1...|    2022-08-20|\n",
      "|      4| 67202032418|206.20865323560022|64a05a23-a078-481...|    2022-08-20|\n",
      "+-------+------------+------------------+--------------------+--------------+\n",
      "only showing top 10 rows\n"
     ]
    },
    {
     "data": {
      "text/plain": [
       "6044133"
      ]
     },
     "execution_count": 5,
     "metadata": {},
     "output_type": "execute_result"
    }
   ],
   "source": [
    "p4_df.show(10)\n",
    "p4_df.count() "
   ]
  },
  {
   "cell_type": "code",
   "execution_count": 6,
   "id": "af96397d",
   "metadata": {},
   "outputs": [
    {
     "name": "stdout",
     "output_type": "stream",
     "text": [
      "+-----------------+-----------------------------+-----+--------+------+-----------+\n",
      "|name             |address                      |state|postcode|gender|consumer_id|\n",
      "+-----------------+-----------------------------+-----+--------+------+-----------+\n",
      "|Yolanda Williams |413 Haney Gardens Apt. 742   |WA   |6935    |Female|1195503    |\n",
      "|Mary Smith       |3764 Amber Oval              |NSW  |2782    |Female|179208     |\n",
      "|Jill Jones MD    |40693 Henry Greens           |NT   |862     |Female|1194530    |\n",
      "|Lindsay Jimenez  |00653 Davenport Crossroad    |NSW  |2780    |Female|154128     |\n",
      "|Rebecca Blanchard|9271 Michael Manors Suite 651|WA   |6355    |Female|712975     |\n",
      "+-----------------+-----------------------------+-----+--------+------+-----------+\n",
      "only showing top 5 rows\n"
     ]
    }
   ],
   "source": [
    "new_tbl_consumer.show(5, truncate=False)"
   ]
  },
  {
   "cell_type": "code",
   "execution_count": 7,
   "id": "6dd7ee35",
   "metadata": {},
   "outputs": [
    {
     "name": "stdout",
     "output_type": "stream",
     "text": [
      "+-------+------------+------------------+--------------------+\n",
      "|user_id|merchant_abn|      dollar_value|            order_id|\n",
      "+-------+------------+------------------+--------------------+\n",
      "|      1| 28000487688|133.22689421562643|0c37b3f7-c7f1-48c...|\n",
      "|  18485| 62191208634| 79.13140006851712|9e18b913-0465-4fd...|\n",
      "|      1| 83690644458|30.441348317517228|40a2ff69-ea34-465...|\n",
      "|  18488| 39649557865| 962.8133405407585|f4c1a5ae-5b76-40d...|\n",
      "|      2| 80779820715| 48.12397733548124|cd09bdd6-f56d-489...|\n",
      "|  18489| 43186523025| 98.14878546968934|9008a98e-1b02-4de...|\n",
      "|      3| 29566626791| 46.33087226118639|26b7574e-81c2-455...|\n",
      "|  18490| 93558142492|232.83335268750145|2bda0665-796f-4f2...|\n",
      "|      3| 32361057556| 87.34942171371054|633a7656-2fcc-4b8...|\n",
      "|  18491| 64974914166|130.12601873970038|4bc15338-83eb-43d...|\n",
      "+-------+------------+------------------+--------------------+\n",
      "only showing top 10 rows\n"
     ]
    }
   ],
   "source": [
    "preprocessed_data.show(10)"
   ]
  },
  {
   "cell_type": "code",
   "execution_count": 8,
   "id": "7c89216a",
   "metadata": {},
   "outputs": [
    {
     "name": "stdout",
     "output_type": "stream",
     "text": [
      "+--------+---------------+------------------+----------------+\n",
      "|POSTCODE|2021 Population|Median ($) 2021-22|Mean ($) 2021-22|\n",
      "+--------+---------------+------------------+----------------+\n",
      "|     800|        28507.0|           69920.0|         83232.0|\n",
      "|     810|        57630.0|           66937.0|         76136.0|\n",
      "|     812|        57630.0|           66937.0|         76136.0|\n",
      "|     820|        43068.5|           68428.5|         79684.0|\n",
      "|     822|        26735.0|           56840.4|         67317.8|\n",
      "+--------+---------------+------------------+----------------+\n",
      "only showing top 5 rows\n"
     ]
    }
   ],
   "source": [
    "income_df.show(5)\n"
   ]
  },
  {
   "cell_type": "code",
   "execution_count": 9,
   "id": "2ef72a96",
   "metadata": {},
   "outputs": [
    {
     "name": "stdout",
     "output_type": "stream",
     "text": [
      "+-------------------+------+------+------+------+------+------+------+------+\n",
      "|              Month|   NSW|   VIC|   QLD|    SA|    WA|   TAS|    NT|   ACT|\n",
      "+-------------------+------+------+------+------+------+------+------+------+\n",
      "|2021-01-01 00:00:00|60.988|62.132|61.688| 57.76|63.254|57.538|69.138|67.904|\n",
      "|2021-02-01 00:00:00|61.466|62.325|61.868|57.832|62.932|58.095|69.698|68.784|\n",
      "|2021-03-01 00:00:00|61.896|62.467|62.284|57.852|64.531|58.045|69.062|68.194|\n",
      "|2021-04-01 00:00:00|61.469|62.511|62.173|58.808|64.168|57.768|69.624|68.718|\n",
      "|2021-05-01 00:00:00| 62.28|62.927|62.583|59.194|64.375|57.936|70.001|68.845|\n",
      "+-------------------+------+------+------+------+------+------+------+------+\n",
      "only showing top 5 rows\n"
     ]
    }
   ],
   "source": [
    "employed_rate.show(5)"
   ]
  },
  {
   "cell_type": "code",
   "execution_count": 10,
   "id": "f5158916",
   "metadata": {},
   "outputs": [
    {
     "name": "stdout",
     "output_type": "stream",
     "text": [
      "+-----+----+-------+--------+----------+--------------+-----------+\n",
      "|State|Year|Assault|Homicide|Kidnapping|Sexual assault|Crime_Index|\n",
      "+-----+----+-------+--------+----------+--------------+-----------+\n",
      "|  ACT|2021|  511.4|     2.7|       0.0|          75.4|      271.3|\n",
      "|  ACT|2022|  538.7|     2.0|       0.7|          71.2|      284.1|\n",
      "|  NSW|2021|  798.9|     1.0|       2.6|         141.8|      428.3|\n",
      "|  NSW|2022|  852.0|     1.0|       2.6|         152.2|      456.9|\n",
      "|   NT|2021| 3648.6|     5.2|       0.0|         143.1|     1854.0|\n",
      "|   NT|2022| 4159.1|     6.0|       2.0|         144.4|     2109.8|\n",
      "|  QLD|2021|    0.0|     1.6|       0.5|         132.1|       26.8|\n",
      "|  QLD|2022|  983.3|     2.1|       0.8|         139.5|      520.0|\n",
      "|   SA|2021| 1008.2|     1.9|       2.3|          98.9|      524.5|\n",
      "|   SA|2022| 1083.8|     1.6|       2.3|          99.7|      562.4|\n",
      "+-----+----+-------+--------+----------+--------------+-----------+\n",
      "only showing top 10 rows\n"
     ]
    }
   ],
   "source": [
    "crime_df.show(10)"
   ]
  },
  {
   "cell_type": "markdown",
   "id": "0bf12ede",
   "metadata": {},
   "source": [
    "# Data Preprocessing"
   ]
  },
  {
   "cell_type": "code",
   "execution_count": 11,
   "id": "21350a15",
   "metadata": {},
   "outputs": [
    {
     "name": "stdout",
     "output_type": "stream",
     "text": [
      "root\n",
      " |-- user_id: long (nullable = true)\n",
      " |-- merchant_abn: long (nullable = true)\n",
      " |-- dollar_value: double (nullable = true)\n",
      " |-- order_id: string (nullable = true)\n",
      " |-- order_datetime: date (nullable = true)\n",
      "\n",
      "Total rows: 14195505\n",
      "+-------+------------+------------------+------------------------------------+--------------+\n",
      "|user_id|merchant_abn|dollar_value      |order_id                            |order_datetime|\n",
      "+-------+------------+------------------+------------------------------------+--------------+\n",
      "|18478  |62191208634 |63.255848959735246|949a63c8-29f7-4ab0-ada4-99ac50a88952|2021-08-20    |\n",
      "|2      |15549624934 |130.3505283105634 |6a84c3cf-612a-4574-835b-144a47353eff|2021-08-20    |\n",
      "|18479  |64403598239 |120.15860593212783|b10dcc33-e53f-4254-863c-de5266810cbc|2021-08-20    |\n",
      "|3      |60956456424 |136.6785200286976 |0f09c5a5-784e-4477-b049-8ee4dd069b7b|2021-08-20    |\n",
      "|18479  |94493496784 |72.96316578355305 |f6c78c1a-4600-4c5f-8e97-6e9eb534b586|2021-08-20    |\n",
      "|3      |76819856970 |448.529684285612  |5ace6a24-cdf0-4aa3-b571-1d9406b352b5|2021-08-20    |\n",
      "|18479  |67609108741 |86.4040605836911  |d0e180f0-cb06-42a3-bd1a-c47dca15bc55|2021-08-20    |\n",
      "|3      |34096466752 |301.5793450525113 |6fb1ff48-24bb-4f97-9a96-d2e8ca009bda|2021-08-20    |\n",
      "|18482  |70501974849 |68.75486276223054 |8505fb33-b69a-412a-a8e1-827983a66577|2021-08-20    |\n",
      "|4      |49891706470 |48.89796461900801 |ed11e477-b09f-4ae0-84fb-74531ce8c30c|2021-08-20    |\n",
      "+-------+------------+------------------+------------------------------------+--------------+\n",
      "only showing top 10 rows\n"
     ]
    },
    {
     "name": "stderr",
     "output_type": "stream",
     "text": [
      "                                                                                \r"
     ]
    }
   ],
   "source": [
    "# Step 1: 合并三个 DataFrame\n",
    "transactions_df = (\n",
    "    p2_df.unionByName(p3_df)\n",
    "         .unionByName(p4_df)\n",
    ")\n",
    "\n",
    "# Step 2: 检查结果\n",
    "transactions_df.printSchema()\n",
    "print(f\"Total rows: {transactions_df.count()}\")  \n",
    "transactions_df.show(10, truncate=False)"
   ]
  },
  {
   "cell_type": "markdown",
   "id": "dbb9fce0",
   "metadata": {},
   "source": [
    "# Final Data Merge (External Data)"
   ]
  },
  {
   "cell_type": "code",
   "execution_count": 12,
   "id": "712e5c55",
   "metadata": {},
   "outputs": [
    {
     "name": "stderr",
     "output_type": "stream",
     "text": [
      "                                                                                \r"
     ]
    },
    {
     "name": "stdout",
     "output_type": "stream",
     "text": [
      "+------------------------------------+-------+------------+------------------+--------------+\n",
      "|order_id                            |user_id|merchant_abn|dollar_value      |order_datetime|\n",
      "+------------------------------------+-------+------------+------------------+--------------+\n",
      "|0706747a-6bee-4a7a-bd74-291a5970b94f|6922   |31552582037 |2046.7432731429228|2022-01-15    |\n",
      "|45eee78a-0588-44f4-b0dd-3fafce69695c|22754  |75089928159 |91.30050328265806 |2021-06-17    |\n",
      "|5d08f546-86bf-4d50-98dc-dc68cd3b2e87|21009  |70620117107 |50.27871237819427 |2022-08-29    |\n",
      "|6e95547e-92be-4cb5-bec5-faa86e6b0d27|21853  |95431176007 |197.19276364316767|2022-01-15    |\n",
      "|9e18b913-0465-4fd4-92fd-66d15e65d93c|18485  |62191208634 |79.13140006851712 |2021-02-28    |\n",
      "|a8db208b-2ecf-4b04-8e0b-2dd86df7762b|2881   |42500153308 |20.169467251919265|2022-04-28    |\n",
      "|ef4090cb-9514-4d2c-bc01-1ee8d22a182e|14003  |98545158925 |21.81418329985703 |2022-04-28    |\n",
      "|1b237258-3f9a-4058-8e5e-8651c628cd35|2883   |94493496784 |86.12019907563348 |2022-04-28    |\n",
      "|30ccd5db-b6a5-4ccd-aa2e-ef14a59ae899|3687   |26063968667 |18.127617598199297|2021-11-05    |\n",
      "|31be4a5c-20fa-479e-bf10-432af784e93e|4348   |84500933183 |63.22570570992524 |2021-06-17    |\n",
      "+------------------------------------+-------+------------+------------------+--------------+\n",
      "only showing top 10 rows\n"
     ]
    }
   ],
   "source": [
    "# Step 1: 只保留 transactions_df 需要的列\n",
    "trans_dates = transactions_df.select(\"order_id\", \"order_datetime\")\n",
    "\n",
    "# Step 2: join 到 preprocessed_data\n",
    "preprocessed_data = (\n",
    "    preprocessed_data\n",
    "    .join(trans_dates, on=\"order_id\", how=\"left\")\n",
    ")\n",
    "\n",
    "# Step 3: 检查结果\n",
    "preprocessed_data.show(10, truncate=False)"
   ]
  },
  {
   "cell_type": "code",
   "execution_count": 13,
   "id": "03926434",
   "metadata": {},
   "outputs": [
    {
     "name": "stderr",
     "output_type": "stream",
     "text": [
      "[Stage 53:===================================================>      (8 + 1) / 9]\r"
     ]
    },
    {
     "name": "stdout",
     "output_type": "stream",
     "text": [
      "+-------+-----------+------------+------------------------------------+------------------+-----+--------+------+--------------+\n",
      "|user_id|consumer_id|merchant_abn|order_id                            |dollar_value      |state|postcode|gender|order_datetime|\n",
      "+-------+-----------+------------+------------------------------------+------------------+-----+--------+------+--------------+\n",
      "|2883   |75264      |94493496784 |1b237258-3f9a-4058-8e5e-8651c628cd35|86.12019907563348 |VIC  |3123    |Female|2022-04-28    |\n",
      "|18519  |147657     |58741105428 |7f623ae1-5373-4a26-926d-8df335c2bec5|43.31490194582448 |NSW  |2218    |Male  |2021-11-05    |\n",
      "|2881   |295586     |42500153308 |a8db208b-2ecf-4b04-8e0b-2dd86df7762b|20.169467251919265|TAS  |7017    |Male  |2022-04-28    |\n",
      "|2881   |295586     |72177236569 |99e6f91e-c60b-4812-a6fa-4f065f54478c|273.0718934208491 |TAS  |7017    |Male  |2022-04-28    |\n",
      "|18520  |462439     |45572698303 |a5c3b763-0b13-485f-98ce-09df3f97c2a9|86.13964260098399 |VIC  |3719    |Male  |2021-11-05    |\n",
      "|16782  |739318     |17324645993 |771d6188-cc87-40ee-ab41-28e587e27a18|4.798125534281736 |VIC  |3458    |Male  |2021-08-05    |\n",
      "|16782  |739318     |34984654037 |eca5db1a-df22-42b4-adfb-dd4bff5d490e|68.29281535027316 |VIC  |3458    |Male  |2021-08-05    |\n",
      "|16782  |739318     |24852446429 |2de47880-36cd-44e9-87a5-255b789cbfd0|61.38450568334178 |VIC  |3458    |Male  |2021-08-05    |\n",
      "|18485  |1212819    |62191208634 |9e18b913-0465-4fd4-92fd-66d15e65d93c|79.13140006851712 |VIC  |3073    |Male  |2021-02-28    |\n",
      "|18489  |100699     |43186523025 |9008a98e-1b02-4de4-bc4c-47395f6275f6|98.14878546968934 |VIC  |3378    |Male  |2021-02-28    |\n",
      "+-------+-----------+------------+------------------------------------+------------------+-----+--------+------+--------------+\n",
      "only showing top 10 rows\n"
     ]
    },
    {
     "name": "stderr",
     "output_type": "stream",
     "text": [
      "                                                                                \r"
     ]
    }
   ],
   "source": [
    "### Add the coloumn of postcode/state/gender\n",
    "# Join user_id with consumer_id to enrich transaction data\n",
    "df_with_consumer = (\n",
    "    preprocessed_data\n",
    "    .join(consumer_details, on=\"user_id\", how=\"left\")\n",
    ")\n",
    "\n",
    "# Join consumer_id with the cleaned consumer demographic table\n",
    "df_enriched = (\n",
    "    df_with_consumer\n",
    "    .join(new_tbl_consumer, on=\"consumer_id\", how=\"left\")\n",
    ")\n",
    "\n",
    "# Select only the required fields for the final dataset\n",
    "df_enriched_selected = df_enriched.select(\n",
    "    \"user_id\",\n",
    "    \"consumer_id\",\n",
    "    \"merchant_abn\",\n",
    "    \"order_id\",\n",
    "    \"dollar_value\",\n",
    "    \"state\",\n",
    "    \"postcode\",\n",
    "    \"gender\",\n",
    "    \"order_datetime\"\n",
    ")\n",
    "\n",
    "# Preview first 10 rows of the enriched dataset \n",
    "df_enriched_selected.show(10, truncate=False)"
   ]
  },
  {
   "cell_type": "code",
   "execution_count": 14,
   "id": "02811f47",
   "metadata": {},
   "outputs": [
    {
     "name": "stderr",
     "output_type": "stream",
     "text": [
      "[Stage 71:===================================================>      (8 + 1) / 9]\r"
     ]
    },
    {
     "name": "stdout",
     "output_type": "stream",
     "text": [
      "+----------+-----+-------+-----------+------------+------------------------------------+------------------+--------+-----------+--------------+-------------+\n",
      "|year_month|state|user_id|consumer_id|merchant_abn|order_id                            |dollar_value      |postcode|gender     |order_datetime|employed_rate|\n",
      "+----------+-----+-------+-----------+------------+------------------------------------+------------------+--------+-----------+--------------+-------------+\n",
      "|2022-04   |VIC  |2883   |75264      |94493496784 |1b237258-3f9a-4058-8e5e-8651c628cd35|86.12019907563348 |3123    |Female     |2022-04-28    |64.232       |\n",
      "|2021-11   |NSW  |18519  |147657     |58741105428 |7f623ae1-5373-4a26-926d-8df335c2bec5|43.31490194582448 |2218    |Male       |2021-11-05    |61.502       |\n",
      "|2021-08   |WA   |16800  |186459     |91923722701 |e084f4c9-8829-4ea6-9a98-8050a556a520|5.971913169283436 |6964    |Undisclosed|2021-08-05    |65.389       |\n",
      "|2021-08   |WA   |16800  |186459     |76767266140 |ac94d659-5c1e-445b-b9ea-ba029dc982d6|124.5343717624213 |6964    |Undisclosed|2021-08-05    |65.389       |\n",
      "|2022-04   |TAS  |2881   |295586     |42500153308 |a8db208b-2ecf-4b04-8e0b-2dd86df7762b|20.169467251919265|7017    |Male       |2022-04-28    |58.608       |\n",
      "|2022-04   |TAS  |2881   |295586     |72177236569 |99e6f91e-c60b-4812-a6fa-4f065f54478c|273.0718934208491 |7017    |Male       |2022-04-28    |58.608       |\n",
      "|2022-08   |SA   |8042   |351216     |60602272553 |c109ff9f-ce1f-4992-83b0-38e55adc757c|30.736469291742978|5164    |Male       |2022-08-29    |60.607       |\n",
      "|2022-08   |SA   |8042   |351216     |21702179125 |2f7031e0-44fc-4a12-932c-7788b438c67a|113.04741171237957|5164    |Male       |2022-08-29    |60.607       |\n",
      "|2021-02   |VIC  |11     |428325     |20692490685 |09bc8dd6-419f-4cb2-ab6a-4432a451f1ce|196.93916081228323|3063    |Undisclosed|2021-02-28    |62.325       |\n",
      "|2021-02   |VIC  |11     |428325     |98269572896 |8f5d0cab-8055-4357-bafa-2e995dd8452f|129.46280909485031|3063    |Undisclosed|2021-02-28    |62.325       |\n",
      "|2022-01   |NSW  |6925   |449267     |38598071783 |124ab92b-ec5e-4472-a0c9-d9385ef51143|18.27380453896118 |2762    |Male       |2022-01-15    |61.884       |\n",
      "|2022-01   |NSW  |6925   |449267     |94472466107 |df0118ab-462b-4a6a-aa6a-93f3d849cd6b|6.044476525687461 |2762    |Male       |2022-01-15    |61.884       |\n",
      "|2021-11   |VIC  |18520  |462439     |45572698303 |a5c3b763-0b13-485f-98ce-09df3f97c2a9|86.13964260098399 |3719    |Male       |2021-11-05    |63.422       |\n",
      "|2021-08   |VIC  |16782  |739318     |17324645993 |771d6188-cc87-40ee-ab41-28e587e27a18|4.798125534281736 |3458    |Male       |2021-08-05    |63.715       |\n",
      "|2021-08   |VIC  |16782  |739318     |34984654037 |eca5db1a-df22-42b4-adfb-dd4bff5d490e|68.29281535027316 |3458    |Male       |2021-08-05    |63.715       |\n",
      "|2021-08   |VIC  |16782  |739318     |24852446429 |2de47880-36cd-44e9-87a5-255b789cbfd0|61.38450568334178 |3458    |Male       |2021-08-05    |63.715       |\n",
      "|2021-08   |WA   |16793  |781017     |11121775571 |486324d8-fc02-459c-9c78-f349372027dd|24.204453482947503|6009    |Female     |2021-08-05    |65.389       |\n",
      "|2022-06   |QLD  |10952  |932270     |80109801322 |3d050c36-3f98-40ec-b7fd-da95a1470ee3|30.59348723875905 |4132    |Male       |2022-06-09    |64.286       |\n",
      "|2022-08   |NSW  |8044   |1131760    |89726005175 |346054ef-c79d-428f-a10b-9d6c80a83305|26.072111792306938|2303    |Male       |2022-08-29    |63.492       |\n",
      "|2021-02   |VIC  |18485  |1212819    |62191208634 |9e18b913-0465-4fd4-92fd-66d15e65d93c|79.13140006851712 |3073    |Male       |2021-02-28    |62.325       |\n",
      "+----------+-----+-------+-----------+------------+------------------------------------+------------------+--------+-----------+--------------+-------------+\n",
      "only showing top 20 rows\n"
     ]
    },
    {
     "name": "stderr",
     "output_type": "stream",
     "text": [
      "                                                                                \r"
     ]
    }
   ],
   "source": [
    "### Insert the column with employed rate\n",
    "\n",
    "# Step 1: reshape employed_rate from wide to long format\n",
    "employed_long = (\n",
    "    employed_rate\n",
    "    .selectExpr(\"Month\", \"stack(8, 'NSW', NSW, 'VIC', VIC, 'QLD', QLD, 'SA', SA, 'WA', WA, 'TAS', TAS, 'NT', NT, 'ACT', ACT) as (state, employed_rate)\")\n",
    ")\n",
    "\n",
    "# Step 2: 对交易数据生成 Year-Month\n",
    "df_enriched_selected = df_enriched_selected.withColumn(\n",
    "    \"year_month\",\n",
    "    F.date_format(\"order_datetime\", \"yyyy-MM\")\n",
    ")\n",
    "\n",
    "# Step 3: join\n",
    "df_with_employed = (\n",
    "    df_enriched_selected\n",
    "    .join(employed_long.withColumnRenamed(\"Month\", \"year_month\"), \n",
    "          on=[\"year_month\", \"state\"], how=\"left\")\n",
    ")\n",
    "\n",
    "# Step 4: 预览\n",
    "df_with_employed.show(20, truncate=False)\n"
   ]
  },
  {
   "cell_type": "code",
   "execution_count": 15,
   "id": "38799fed",
   "metadata": {},
   "outputs": [],
   "source": [
    "### Insert the column with income\n",
    "# 规范列名 + 类型（去掉空格/符号，转成小写）\n",
    "income_df = (\n",
    "    income_df\n",
    "    .withColumnRenamed(\"POSTCODE\", \"postcode\")\n",
    "    .withColumnRenamed(\"2021 Population\", \"pop\")\n",
    "    .withColumnRenamed(\"Median ($) 2021-22\", \"median_income\")\n",
    "    .withColumnRenamed(\"Mean ($) 2021-22\",   \"mean_income\")\n",
    "    # 如果读进来是字符串，做一次安全的数值转换（去逗号）\n",
    "    .withColumn(\"postcode\", F.regexp_replace(F.col(\"postcode\").cast(\"string\"), r\"\\s+\", \"\").cast(\"int\"))\n",
    "    .withColumn(\"pop\", F.regexp_replace(F.col(\"pop\").cast(\"string\"), r\"[,\\s]\", \"\").cast(\"double\"))\n",
    "    .withColumn(\"median_income\", F.regexp_replace(F.col(\"median_income\").cast(\"string\"), r\"[,\\s]\", \"\").cast(\"double\"))\n",
    "    .withColumn(\"mean_income\",   F.regexp_replace(F.col(\"mean_income\").cast(\"string\"), r\"[,\\s]\", \"\").cast(\"double\"))\n",
    "    .dropna(subset=[\"postcode\"])       # 必要时：去掉没有邮编的行\n",
    ")\n",
    "\n",
    "# 若同一邮编在文件中出现多行，取一个稳定聚合（这里取最大人口那行）\n",
    "w = F.row_number().over(Window.partitionBy(\"postcode\").orderBy(F.col(\"pop\").desc_nulls_last()))\n",
    "income_df = income_df.withColumn(\"rn\", w).filter(\"rn = 1\").drop(\"rn\")\n",
    "\n",
    "df_with_income = (\n",
    "    df_enriched_selected\n",
    "    .join(income_df, on=\"postcode\", how=\"left\")\n",
    ")"
   ]
  },
  {
   "cell_type": "code",
   "execution_count": 16,
   "id": "da024e92",
   "metadata": {},
   "outputs": [
    {
     "name": "stderr",
     "output_type": "stream",
     "text": [
      "[Stage 91:===================================================>      (8 + 1) / 9]\r"
     ]
    },
    {
     "name": "stdout",
     "output_type": "stream",
     "text": [
      "+--------+-------+-----------+------------+--------------------+------------------+-----+------+--------------+----------+--------+-------------+-----------+\n",
      "|postcode|user_id|consumer_id|merchant_abn|            order_id|      dollar_value|state|gender|order_datetime|year_month|     pop|median_income|mean_income|\n",
      "+--------+-------+-----------+------------+--------------------+------------------+-----+------+--------------+----------+--------+-------------+-----------+\n",
      "|    3123|   2883|      75264| 94493496784|1b237258-3f9a-405...| 86.12019907563348|  VIC|Female|    2022-04-28|   2022-04|169789.0|      65532.0|   114114.0|\n",
      "|    2218|  18519|     147657| 58741105428|7f623ae1-5373-4a2...| 43.31490194582448|  NSW|  Male|    2021-11-05|   2021-11|139453.5|      52712.5|    68200.0|\n",
      "|    7017|   2881|     295586| 42500153308|a8db208b-2ecf-4b0...|20.169467251919265|  TAS|  Male|    2022-04-28|   2022-04| 27829.0|     52017.25|    58035.5|\n",
      "|    7017|   2881|     295586| 72177236569|99e6f91e-c60b-481...| 273.0718934208491|  TAS|  Male|    2022-04-28|   2022-04| 27829.0|     52017.25|    58035.5|\n",
      "|    3719|  18520|     462439| 45572698303|a5c3b763-0b13-485...| 86.13964260098399|  VIC|  Male|    2021-11-05|   2021-11| 59693.0|      47536.0|    57919.0|\n",
      "|    3458|  16782|     739318| 17324645993|771d6188-cc87-40e...| 4.798125534281736|  VIC|  Male|    2021-08-05|   2021-08| 41486.5|      49895.0|    64794.5|\n",
      "|    3458|  16782|     739318| 34984654037|eca5db1a-df22-42b...| 68.29281535027316|  VIC|  Male|    2021-08-05|   2021-08| 41486.5|      49895.0|    64794.5|\n",
      "|    3458|  16782|     739318| 24852446429|2de47880-36cd-44e...| 61.38450568334178|  VIC|  Male|    2021-08-05|   2021-08| 41486.5|      49895.0|    64794.5|\n",
      "|    3073|  18485|    1212819| 62191208634|9e18b913-0465-4fd...| 79.13140006851712|  VIC|  Male|    2021-02-28|   2021-02| 96421.0|      56643.0|    67398.0|\n",
      "|    3378|  18489|     100699| 43186523025|9008a98e-1b02-4de...| 98.14878546968934|  VIC|  Male|    2021-02-28|   2021-02| 60060.0|      49447.0|    60779.0|\n",
      "+--------+-------+-----------+------------+--------------------+------------------+-----+------+--------------+----------+--------+-------------+-----------+\n",
      "only showing top 10 rows\n"
     ]
    },
    {
     "name": "stderr",
     "output_type": "stream",
     "text": [
      "                                                                                \r"
     ]
    }
   ],
   "source": [
    "df_with_income.show(10)"
   ]
  },
  {
   "cell_type": "code",
   "execution_count": 17,
   "id": "d849bbfa",
   "metadata": {},
   "outputs": [
    {
     "name": "stderr",
     "output_type": "stream",
     "text": [
      "[Stage 112:==================================================>      (8 + 1) / 9]\r"
     ]
    },
    {
     "name": "stdout",
     "output_type": "stream",
     "text": [
      "+-----+----+--------+-------+-----------+------------+------------------------------------+------------------+------+--------------+----------+--------+-------------+-----------+-------+--------+----------+--------------+-----------+\n",
      "|state|year|postcode|user_id|consumer_id|merchant_abn|order_id                            |dollar_value      |gender|order_datetime|year_month|pop     |median_income|mean_income|Assault|Homicide|Kidnapping|Sexual assault|Crime_Index|\n",
      "+-----+----+--------+-------+-----------+------------+------------------------------------+------------------+------+--------------+----------+--------+-------------+-----------+-------+--------+----------+--------------+-----------+\n",
      "|VIC  |2022|3123    |2883   |75264      |94493496784 |1b237258-3f9a-4058-8e5e-8651c628cd35|86.12019907563348 |Female|2022-04-28    |2022-04   |169789.0|65532.0      |114114.0   |0.0    |1.3     |2.7       |100.9         |20.7       |\n",
      "|NSW  |2021|2218    |18519  |147657     |58741105428 |7f623ae1-5373-4a26-926d-8df335c2bec5|43.31490194582448 |Male  |2021-11-05    |2021-11   |139453.5|52712.5      |68200.0    |798.9  |1.0     |2.6       |141.8         |428.3      |\n",
      "|TAS  |2022|7017    |2881   |295586     |42500153308 |a8db208b-2ecf-4b04-8e0b-2dd86df7762b|20.169467251919265|Male  |2022-04-28    |2022-04   |27829.0 |52017.25     |58035.5    |661.7  |2.1     |0.5       |100.8         |351.5      |\n",
      "|TAS  |2022|7017    |2881   |295586     |72177236569 |99e6f91e-c60b-4812-a6fa-4f065f54478c|273.0718934208491 |Male  |2022-04-28    |2022-04   |27829.0 |52017.25     |58035.5    |661.7  |2.1     |0.5       |100.8         |351.5      |\n",
      "|VIC  |2021|3719    |18520  |462439     |45572698303 |a5c3b763-0b13-485f-98ce-09df3f97c2a9|86.13964260098399 |Male  |2021-11-05    |2021-11   |59693.0 |47536.0      |57919.0    |0.0    |1.3     |2.2       |94.1          |19.3       |\n",
      "|VIC  |2021|3458    |16782  |739318     |17324645993 |771d6188-cc87-40ee-ab41-28e587e27a18|4.798125534281736 |Male  |2021-08-05    |2021-08   |41486.5 |49895.0      |64794.5    |0.0    |1.3     |2.2       |94.1          |19.3       |\n",
      "|VIC  |2021|3458    |16782  |739318     |34984654037 |eca5db1a-df22-42b4-adfb-dd4bff5d490e|68.29281535027316 |Male  |2021-08-05    |2021-08   |41486.5 |49895.0      |64794.5    |0.0    |1.3     |2.2       |94.1          |19.3       |\n",
      "|VIC  |2021|3458    |16782  |739318     |24852446429 |2de47880-36cd-44e9-87a5-255b789cbfd0|61.38450568334178 |Male  |2021-08-05    |2021-08   |41486.5 |49895.0      |64794.5    |0.0    |1.3     |2.2       |94.1          |19.3       |\n",
      "|VIC  |2021|3073    |18485  |1212819    |62191208634 |9e18b913-0465-4fd4-92fd-66d15e65d93c|79.13140006851712 |Male  |2021-02-28    |2021-02   |96421.0 |56643.0      |67398.0    |0.0    |1.3     |2.2       |94.1          |19.3       |\n",
      "|VIC  |2021|3378    |18489  |100699     |43186523025 |9008a98e-1b02-4de4-bc4c-47395f6275f6|98.14878546968934 |Male  |2021-02-28    |2021-02   |60060.0 |49447.0      |60779.0    |0.0    |1.3     |2.2       |94.1          |19.3       |\n",
      "+-----+----+--------+-------+-----------+------------+------------------------------------+------------------+------+--------------+----------+--------+-------------+-----------+-------+--------+----------+--------------+-----------+\n",
      "only showing top 10 rows\n"
     ]
    },
    {
     "name": "stderr",
     "output_type": "stream",
     "text": [
      "                                                                                \r"
     ]
    }
   ],
   "source": [
    "### Insert the column with crime rate\n",
    "# Step 1: 给交易数据加 year 字段\n",
    "df_with_income = df_with_income.withColumn(\n",
    "    \"year\", F.year(\"order_datetime\")\n",
    ")\n",
    "\n",
    "# Step 2: 统一 state 列名\n",
    "crime_df = crime_df.withColumnRenamed(\"State\", \"state\")\n",
    "\n",
    "# Step 3: join\n",
    "df_with_crime = (\n",
    "    df_with_income\n",
    "    .join(crime_df, on=[\"state\", \"year\"], how=\"left\")\n",
    ")\n",
    "\n",
    "# Step 4: 查看结果\n",
    "df_with_crime.show(10, truncate=False)"
   ]
  },
  {
   "cell_type": "markdown",
   "id": "ba0e2ca3",
   "metadata": {},
   "source": [
    "### Join with consumer_profile"
   ]
  },
  {
   "cell_type": "code",
   "execution_count": 18,
   "id": "2fead564",
   "metadata": {},
   "outputs": [],
   "source": [
    "# --- Join with Consumer Level ---\n",
    "df_with_consumer = (\n",
    "    df_with_crime\n",
    "    .join(consumer_level, on=\"consumer_id\", how=\"left\")\n",
    ")\n"
   ]
  },
  {
   "cell_type": "code",
   "execution_count": 19,
   "id": "db758ff0",
   "metadata": {},
   "outputs": [
    {
     "name": "stderr",
     "output_type": "stream",
     "text": [
      "[Stage 134:==================================================>      (8 + 1) / 9]\r"
     ]
    },
    {
     "name": "stdout",
     "output_type": "stream",
     "text": [
      "+-----------+-----+----+--------+-------+------------+------------------------------------+------------------+------+--------------+----------+--------+-------------+-----------+-------+--------+----------+--------------+-----------+---------+------------------+-------+\n",
      "|consumer_id|state|year|postcode|user_id|merchant_abn|order_id                            |dollar_value      |gender|order_datetime|year_month|pop     |median_income|mean_income|Assault|Homicide|Kidnapping|Sexual assault|Crime_Index|c_user_id|c_fraud_prob      |c_state|\n",
      "+-----------+-----+----+--------+-------+------------+------------------------------------+------------------+------+--------------+----------+--------+-------------+-----------+-------+--------+----------+--------------+-----------+---------+------------------+-------+\n",
      "|75264      |VIC  |2022|3123    |2883   |94493496784 |1b237258-3f9a-4058-8e5e-8651c628cd35|86.12019907563348 |Female|2022-04-28    |2022-04   |169789.0|65532.0      |114114.0   |0.0    |1.3     |2.7       |100.9         |20.7       |NULL     |NULL              |NULL   |\n",
      "|147657     |NSW  |2021|2218    |18519  |58741105428 |7f623ae1-5373-4a26-926d-8df335c2bec5|43.31490194582448 |Male  |2021-11-05    |2021-11   |139453.5|52712.5      |68200.0    |798.9  |1.0     |2.6       |141.8         |428.3      |18519    |16.683704785585274|NSW    |\n",
      "|295586     |TAS  |2022|7017    |2881   |42500153308 |a8db208b-2ecf-4b04-8e0b-2dd86df7762b|20.169467251919265|Male  |2022-04-28    |2022-04   |27829.0 |52017.25     |58035.5    |661.7  |2.1     |0.5       |100.8         |351.5      |2881     |10.060293837695415|TAS    |\n",
      "|295586     |TAS  |2022|7017    |2881   |72177236569 |99e6f91e-c60b-4812-a6fa-4f065f54478c|273.0718934208491 |Male  |2022-04-28    |2022-04   |27829.0 |52017.25     |58035.5    |661.7  |2.1     |0.5       |100.8         |351.5      |2881     |10.060293837695415|TAS    |\n",
      "|462439     |VIC  |2021|3719    |18520  |45572698303 |a5c3b763-0b13-485f-98ce-09df3f97c2a9|86.13964260098399 |Male  |2021-11-05    |2021-11   |59693.0 |47536.0      |57919.0    |0.0    |1.3     |2.2       |94.1          |19.3       |18520    |11.0167244482352  |VIC    |\n",
      "|739318     |VIC  |2021|3458    |16782  |17324645993 |771d6188-cc87-40ee-ab41-28e587e27a18|4.798125534281736 |Male  |2021-08-05    |2021-08   |41486.5 |49895.0      |64794.5    |0.0    |1.3     |2.2       |94.1          |19.3       |16782    |10.923219998284297|VIC    |\n",
      "|739318     |VIC  |2021|3458    |16782  |34984654037 |eca5db1a-df22-42b4-adfb-dd4bff5d490e|68.29281535027316 |Male  |2021-08-05    |2021-08   |41486.5 |49895.0      |64794.5    |0.0    |1.3     |2.2       |94.1          |19.3       |16782    |10.923219998284297|VIC    |\n",
      "|739318     |VIC  |2021|3458    |16782  |24852446429 |2de47880-36cd-44e9-87a5-255b789cbfd0|61.38450568334178 |Male  |2021-08-05    |2021-08   |41486.5 |49895.0      |64794.5    |0.0    |1.3     |2.2       |94.1          |19.3       |16782    |10.923219998284297|VIC    |\n",
      "|1212819    |VIC  |2021|3073    |18485  |62191208634 |9e18b913-0465-4fd4-92fd-66d15e65d93c|79.13140006851712 |Male  |2021-02-28    |2021-02   |96421.0 |56643.0      |67398.0    |0.0    |1.3     |2.2       |94.1          |19.3       |18485    |18.344538224134304|VIC    |\n",
      "|100699     |VIC  |2021|3378    |18489  |43186523025 |9008a98e-1b02-4de4-bc4c-47395f6275f6|98.14878546968934 |Male  |2021-02-28    |2021-02   |60060.0 |49447.0      |60779.0    |0.0    |1.3     |2.2       |94.1          |19.3       |18489    |17.795180953391412|VIC    |\n",
      "+-----------+-----+----+--------+-------+------------+------------------------------------+------------------+------+--------------+----------+--------+-------------+-----------+-------+--------+----------+--------------+-----------+---------+------------------+-------+\n",
      "only showing top 10 rows\n"
     ]
    },
    {
     "name": "stderr",
     "output_type": "stream",
     "text": [
      "                                                                                \r"
     ]
    }
   ],
   "source": [
    "# 预览\n",
    "df_with_consumer.show(10, truncate=False)"
   ]
  },
  {
   "cell_type": "markdown",
   "id": "007d1f05",
   "metadata": {},
   "source": [
    "### Join with merrcant_profile"
   ]
  },
  {
   "cell_type": "code",
   "execution_count": 20,
   "id": "0f3ab6d3",
   "metadata": {},
   "outputs": [],
   "source": [
    "# --- Join with Merchant Level ---\n",
    "df_with_merchant = (\n",
    "    df_with_consumer\n",
    "    .join(merchant_level, on=\"merchant_abn\", how=\"left\")\n",
    ")\n",
    "\n"
   ]
  },
  {
   "cell_type": "code",
   "execution_count": 21,
   "id": "b94dfc8e",
   "metadata": {},
   "outputs": [],
   "source": [
    "from pyspark.sql import functions as F\n",
    "\n",
    "# 合并两个 order_date 列\n",
    "df_final = (\n",
    "    df_with_merchant\n",
    "    .withColumn(\"order_date\", F.coalesce(F.col(\"order_date\"), F.col(\"order_datetime\")))\n",
    "    .drop(\"order_datetime\")   # 删除多余列，避免重复\n",
    ")\n",
    "\n"
   ]
  },
  {
   "cell_type": "code",
   "execution_count": 22,
   "id": "cf7fbb2d",
   "metadata": {},
   "outputs": [
    {
     "name": "stderr",
     "output_type": "stream",
     "text": [
      "25/09/12 15:03:20 WARN SparkStringUtils: Truncated the string representation of a plan since it was too large. This behavior can be adjusted by setting 'spark.sql.debug.maxToStringFields'.\n",
      "                                                                                \r"
     ]
    },
    {
     "name": "stdout",
     "output_type": "stream",
     "text": [
      "+------------+-----------+-----+----+--------+-------+------------------------------------+------------------+------+--------------+----------+--------+-------------+-----------+-------+--------+----------+--------------+-----------+---------+------------------+-------+----------+-----------------+------------------------------+-----------------+\n",
      "|merchant_abn|consumer_id|state|year|postcode|user_id|order_id                            |dollar_value      |gender|order_datetime|year_month|pop     |median_income|mean_income|Assault|Homicide|Kidnapping|Sexual assault|Crime_Index|c_user_id|c_fraud_prob      |c_state|order_date|m_fraud_prob     |m_name                        |m_category       |\n",
      "+------------+-----------+-----+----+--------+-------+------------------------------------+------------------+------+--------------+----------+--------+-------------+-----------+-------+--------+----------+--------------+-----------+---------+------------------+-------+----------+-----------------+------------------------------+-----------------+\n",
      "|94493496784 |75264      |VIC  |2022|3123    |2883   |1b237258-3f9a-4058-8e5e-8651c628cd35|86.12019907563348 |Female|2022-04-28    |2022-04   |169789.0|65532.0      |114114.0   |0.0    |1.3     |2.7       |100.9         |20.7       |NULL     |NULL              |NULL   |2021-11-26|30.57903215900633|Dictum Phasellus In Institute |Gifts & Novelties|\n",
      "|58741105428 |147657     |NSW  |2021|2218    |18519  |7f623ae1-5373-4a26-926d-8df335c2bec5|43.31490194582448 |Male  |2021-11-05    |2021-11   |139453.5|52712.5      |68200.0    |798.9  |1.0     |2.6       |141.8         |428.3      |18519    |16.683704785585274|NSW    |NULL      |NULL             |Non Lobortis Corporation      |Software & IT    |\n",
      "|42500153308 |295586     |TAS  |2022|7017    |2881   |a8db208b-2ecf-4b04-8e0b-2dd86df7762b|20.169467251919265|Male  |2022-04-28    |2022-04   |27829.0 |52017.25     |58035.5    |661.7  |2.1     |0.5       |100.8         |351.5      |2881     |10.060293837695415|TAS    |NULL      |NULL             |Vestibulum Accumsan Corp.     |Other            |\n",
      "|72177236569 |295586     |TAS  |2022|7017    |2881   |99e6f91e-c60b-4812-a6fa-4f065f54478c|273.0718934208491 |Male  |2022-04-28    |2022-04   |27829.0 |52017.25     |58035.5    |661.7  |2.1     |0.5       |100.8         |351.5      |2881     |10.060293837695415|TAS    |NULL      |NULL             |Elit Pellentesque Inc.        |Other            |\n",
      "|45572698303 |462439     |VIC  |2021|3719    |18520  |a5c3b763-0b13-485f-98ce-09df3f97c2a9|86.13964260098399 |Male  |2021-11-05    |2021-11   |59693.0 |47536.0      |57919.0    |0.0    |1.3     |2.2       |94.1          |19.3       |18520    |11.0167244482352  |VIC    |NULL      |NULL             |Libero Proin Corp.            |Other            |\n",
      "|17324645993 |739318     |VIC  |2021|3458    |16782  |771d6188-cc87-40ee-ab41-28e587e27a18|4.798125534281736 |Male  |2021-08-05    |2021-08   |41486.5 |49895.0      |64794.5    |0.0    |1.3     |2.2       |94.1          |19.3       |16782    |10.923219998284297|VIC    |NULL      |NULL             |Eget Metus In Corporation     |Other            |\n",
      "|34984654037 |739318     |VIC  |2021|3458    |16782  |eca5db1a-df22-42b4-adfb-dd4bff5d490e|68.29281535027316 |Male  |2021-08-05    |2021-08   |41486.5 |49895.0      |64794.5    |0.0    |1.3     |2.2       |94.1          |19.3       |16782    |10.923219998284297|VIC    |NULL      |NULL             |A Ultricies Foundation        |Other            |\n",
      "|24852446429 |739318     |VIC  |2021|3458    |16782  |2de47880-36cd-44e9-87a5-255b789cbfd0|61.38450568334178 |Male  |2021-08-05    |2021-08   |41486.5 |49895.0      |64794.5    |0.0    |1.3     |2.2       |94.1          |19.3       |16782    |10.923219998284297|VIC    |NULL      |NULL             |Erat Vitae LLP                |Crafts & Flowers |\n",
      "|62191208634 |1212819    |VIC  |2021|3073    |18485  |9e18b913-0465-4fd4-92fd-66d15e65d93c|79.13140006851712 |Male  |2021-02-28    |2021-02   |96421.0 |56643.0      |67398.0    |0.0    |1.3     |2.2       |94.1          |19.3       |18485    |18.344538224134304|VIC    |NULL      |NULL             |Cursus Non Egestas Foundation |Home & Furniture |\n",
      "|43186523025 |100699     |VIC  |2021|3378    |18489  |9008a98e-1b02-4de4-bc4c-47395f6275f6|98.14878546968934 |Male  |2021-02-28    |2021-02   |60060.0 |49447.0      |60779.0    |0.0    |1.3     |2.2       |94.1          |19.3       |18489    |17.795180953391412|VIC    |NULL      |NULL             |Lorem Ipsum Sodales Industries|Crafts & Flowers |\n",
      "+------------+-----------+-----+----+--------+-------+------------------------------------+------------------+------+--------------+----------+--------+-------------+-----------+-------+--------+----------+--------------+-----------+---------+------------------+-------+----------+-----------------+------------------------------+-----------------+\n",
      "only showing top 10 rows\n"
     ]
    },
    {
     "name": "stderr",
     "output_type": "stream",
     "text": [
      "                                                                                \r"
     ]
    },
    {
     "name": "stdout",
     "output_type": "stream",
     "text": [
      "原始交易数量: 14195505\n"
     ]
    },
    {
     "name": "stderr",
     "output_type": "stream",
     "text": [
      "[Stage 208:>                                                        (0 + 8) / 9]\r"
     ]
    },
    {
     "name": "stdout",
     "output_type": "stream",
     "text": [
      "合并后交易数量: 14494630\n"
     ]
    },
    {
     "name": "stderr",
     "output_type": "stream",
     "text": [
      "                                                                                \r"
     ]
    }
   ],
   "source": [
    "# 预览\n",
    "df_with_merchant.show(10, truncate=False)\n",
    "\n",
    "print(\"原始交易数量:\", df_with_consumer.count())\n",
    "print(\"合并后交易数量:\", df_with_merchant.count())"
   ]
  },
  {
   "cell_type": "code",
   "execution_count": 23,
   "id": "69fe5fc9",
   "metadata": {},
   "outputs": [
    {
     "name": "stdout",
     "output_type": "stream",
     "text": [
      "root\n",
      " |-- merchant_abn: long (nullable = true)\n",
      " |-- consumer_id: long (nullable = true)\n",
      " |-- state: string (nullable = true)\n",
      " |-- year: integer (nullable = true)\n",
      " |-- postcode: integer (nullable = true)\n",
      " |-- user_id: long (nullable = true)\n",
      " |-- order_id: string (nullable = true)\n",
      " |-- dollar_value: double (nullable = true)\n",
      " |-- gender: string (nullable = true)\n",
      " |-- order_datetime: date (nullable = true)\n",
      " |-- year_month: string (nullable = true)\n",
      " |-- pop: double (nullable = true)\n",
      " |-- median_income: double (nullable = true)\n",
      " |-- mean_income: double (nullable = true)\n",
      " |-- Assault: double (nullable = true)\n",
      " |-- Homicide: double (nullable = true)\n",
      " |-- Kidnapping: double (nullable = true)\n",
      " |-- Sexual assault: double (nullable = true)\n",
      " |-- Crime_Index: double (nullable = true)\n",
      " |-- c_fraud_prob: double (nullable = true)\n",
      " |-- m_fraud_prob: double (nullable = true)\n",
      " |-- m_name: string (nullable = true)\n",
      " |-- m_category: string (nullable = true)\n",
      "\n"
     ]
    },
    {
     "name": "stderr",
     "output_type": "stream",
     "text": [
      "[Stage 227:==================================================>      (8 + 1) / 9]\r"
     ]
    },
    {
     "name": "stdout",
     "output_type": "stream",
     "text": [
      "+------------+-----------+-----+----+--------+-------+------------------------------------+------------------+------+--------------+----------+--------+-------------+-----------+-------+--------+----------+--------------+-----------+------------------+-----------------+------------------------------+-----------------+\n",
      "|merchant_abn|consumer_id|state|year|postcode|user_id|order_id                            |dollar_value      |gender|order_datetime|year_month|pop     |median_income|mean_income|Assault|Homicide|Kidnapping|Sexual assault|Crime_Index|c_fraud_prob      |m_fraud_prob     |m_name                        |m_category       |\n",
      "+------------+-----------+-----+----+--------+-------+------------------------------------+------------------+------+--------------+----------+--------+-------------+-----------+-------+--------+----------+--------------+-----------+------------------+-----------------+------------------------------+-----------------+\n",
      "|94493496784 |75264      |VIC  |2022|3123    |2883   |1b237258-3f9a-4058-8e5e-8651c628cd35|86.12019907563348 |Female|2022-04-28    |2022-04   |169789.0|65532.0      |114114.0   |0.0    |1.3     |2.7       |100.9         |20.7       |NULL              |30.57903215900633|Dictum Phasellus In Institute |Gifts & Novelties|\n",
      "|58741105428 |147657     |NSW  |2021|2218    |18519  |7f623ae1-5373-4a26-926d-8df335c2bec5|43.31490194582448 |Male  |2021-11-05    |2021-11   |139453.5|52712.5      |68200.0    |798.9  |1.0     |2.6       |141.8         |428.3      |16.683704785585274|NULL             |Non Lobortis Corporation      |Software & IT    |\n",
      "|42500153308 |295586     |TAS  |2022|7017    |2881   |a8db208b-2ecf-4b04-8e0b-2dd86df7762b|20.169467251919265|Male  |2022-04-28    |2022-04   |27829.0 |52017.25     |58035.5    |661.7  |2.1     |0.5       |100.8         |351.5      |10.060293837695415|NULL             |Vestibulum Accumsan Corp.     |Other            |\n",
      "|72177236569 |295586     |TAS  |2022|7017    |2881   |99e6f91e-c60b-4812-a6fa-4f065f54478c|273.0718934208491 |Male  |2022-04-28    |2022-04   |27829.0 |52017.25     |58035.5    |661.7  |2.1     |0.5       |100.8         |351.5      |10.060293837695415|NULL             |Elit Pellentesque Inc.        |Other            |\n",
      "|45572698303 |462439     |VIC  |2021|3719    |18520  |a5c3b763-0b13-485f-98ce-09df3f97c2a9|86.13964260098399 |Male  |2021-11-05    |2021-11   |59693.0 |47536.0      |57919.0    |0.0    |1.3     |2.2       |94.1          |19.3       |11.0167244482352  |NULL             |Libero Proin Corp.            |Other            |\n",
      "|17324645993 |739318     |VIC  |2021|3458    |16782  |771d6188-cc87-40ee-ab41-28e587e27a18|4.798125534281736 |Male  |2021-08-05    |2021-08   |41486.5 |49895.0      |64794.5    |0.0    |1.3     |2.2       |94.1          |19.3       |10.923219998284297|NULL             |Eget Metus In Corporation     |Other            |\n",
      "|34984654037 |739318     |VIC  |2021|3458    |16782  |eca5db1a-df22-42b4-adfb-dd4bff5d490e|68.29281535027316 |Male  |2021-08-05    |2021-08   |41486.5 |49895.0      |64794.5    |0.0    |1.3     |2.2       |94.1          |19.3       |10.923219998284297|NULL             |A Ultricies Foundation        |Other            |\n",
      "|24852446429 |739318     |VIC  |2021|3458    |16782  |2de47880-36cd-44e9-87a5-255b789cbfd0|61.38450568334178 |Male  |2021-08-05    |2021-08   |41486.5 |49895.0      |64794.5    |0.0    |1.3     |2.2       |94.1          |19.3       |10.923219998284297|NULL             |Erat Vitae LLP                |Crafts & Flowers |\n",
      "|62191208634 |1212819    |VIC  |2021|3073    |18485  |9e18b913-0465-4fd4-92fd-66d15e65d93c|79.13140006851712 |Male  |2021-02-28    |2021-02   |96421.0 |56643.0      |67398.0    |0.0    |1.3     |2.2       |94.1          |19.3       |18.344538224134304|NULL             |Cursus Non Egestas Foundation |Home & Furniture |\n",
      "|43186523025 |100699     |VIC  |2021|3378    |18489  |9008a98e-1b02-4de4-bc4c-47395f6275f6|98.14878546968934 |Male  |2021-02-28    |2021-02   |60060.0 |49447.0      |60779.0    |0.0    |1.3     |2.2       |94.1          |19.3       |17.795180953391412|NULL             |Lorem Ipsum Sodales Industries|Crafts & Flowers |\n",
      "+------------+-----------+-----+----+--------+-------+------------------------------------+------------------+------+--------------+----------+--------+-------------+-----------+-------+--------+----------+--------------+-----------+------------------+-----------------+------------------------------+-----------------+\n",
      "only showing top 10 rows\n"
     ]
    },
    {
     "name": "stderr",
     "output_type": "stream",
     "text": [
      "                                                                                \r"
     ]
    }
   ],
   "source": [
    "# 删除重复列\n",
    "df_cleaned = df_with_merchant.drop(\n",
    "    \"c_user_id\",     # 和 user_id 重复\n",
    "    \"c_gender\",      # 和 gender 重复\n",
    "    \"c_state\",       # 和 state 重复\n",
    "    \"c_postcode\",    # 和 postcode 重复\n",
    "    \"order_date\"     # 和 order_datetime 重复\n",
    ")\n",
    "\n",
    "# 预览清理后的结果\n",
    "df_cleaned.printSchema()\n",
    "df_cleaned.show(10, truncate=False)"
   ]
  },
  {
   "cell_type": "code",
   "execution_count": 24,
   "id": "2df1ce8a",
   "metadata": {},
   "outputs": [
    {
     "name": "stderr",
     "output_type": "stream",
     "text": [
      "[Stage 255:====================================>                  (10 + 5) / 15]\r"
     ]
    },
    {
     "name": "stdout",
     "output_type": "stream",
     "text": [
      "Data saved as Parquet at initial_transaction.parquet\n"
     ]
    },
    {
     "name": "stderr",
     "output_type": "stream",
     "text": [
      "                                                                                \r"
     ]
    }
   ],
   "source": [
    "output_path = \"initial_transaction.parquet\"\n",
    "\n",
    "df_with_merchant.write.mode(\"overwrite\").parquet(output_path)\n",
    "\n",
    "print(f\"Data saved as Parquet at {output_path}\")"
   ]
  }
 ],
 "metadata": {
  "kernelspec": {
   "display_name": "base",
   "language": "python",
   "name": "python3"
  },
  "language_info": {
   "codemirror_mode": {
    "name": "ipython",
    "version": 3
   },
   "file_extension": ".py",
   "mimetype": "text/x-python",
   "name": "python",
   "nbconvert_exporter": "python",
   "pygments_lexer": "ipython3",
   "version": "3.11.7"
  }
 },
 "nbformat": 4,
 "nbformat_minor": 5
}
