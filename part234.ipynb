{
 "cells": [
  {
   "cell_type": "markdown",
   "id": "456f81ed",
   "metadata": {},
   "source": [
    "# Import Library"
   ]
  },
  {
   "cell_type": "code",
   "execution_count": 1,
   "id": "3a2c77e0",
   "metadata": {},
   "outputs": [
    {
     "name": "stderr",
     "output_type": "stream",
     "text": [
      "WARNING: Using incubator modules: jdk.incubator.vector\n",
      "Using Spark's default log4j profile: org/apache/spark/log4j2-defaults.properties\n",
      "25/09/11 14:31:48 WARN Utils: Your hostname, xuzhengs-MacBook-Pro-2.local, resolves to a loopback address: 127.0.0.1; using 10.13.6.57 instead (on interface en0)\n",
      "25/09/11 14:31:48 WARN Utils: Set SPARK_LOCAL_IP if you need to bind to another address\n",
      "Using Spark's default log4j profile: org/apache/spark/log4j2-defaults.properties\n",
      "Setting default log level to \"WARN\".\n",
      "To adjust logging level use sc.setLogLevel(newLevel). For SparkR, use setLogLevel(newLevel).\n",
      "25/09/11 14:31:48 WARN NativeCodeLoader: Unable to load native-hadoop library for your platform... using builtin-java classes where applicable\n"
     ]
    }
   ],
   "source": [
    "# Pandas\n",
    "import pandas as pd\n",
    "import matplotlib.pyplot as plt\n",
    "import numpy as np\n",
    "import seaborn as sns\n",
    "\n",
    "# PySpark\n",
    "from pyspark.sql import SparkSession\n",
    "from pyspark.sql.functions import col, countDistinct, to_date, to_timestamp, when, expr, date_trunc, count, avg\n",
    "from pyspark.sql.functions import explode, split, trim\n",
    "from pyspark.sql import functions as F\n",
    "from pyspark.sql.types import ArrayType, StringType\n",
    "from pyspark.sql.functions import count as Fcount\n",
    "\n",
    "spark = SparkSession.builder \\\n",
    "    .appName(\"BNPL_Part1_Data\") \\\n",
    "    .config(\"spark.driver.memory\", \"6g\") \\\n",
    "    .getOrCreate()"
   ]
  },
  {
   "cell_type": "markdown",
   "id": "daa2fcb7",
   "metadata": {},
   "source": [
    "# Data Check - Part 2 & 3 & 4"
   ]
  },
  {
   "cell_type": "code",
   "execution_count": 2,
   "id": "d78655f9",
   "metadata": {},
   "outputs": [
    {
     "name": "stderr",
     "output_type": "stream",
     "text": [
      "                                                                                \r"
     ]
    }
   ],
   "source": [
    "p2_path = \"part2_data/transaction2021A\"\n",
    "p2_df = spark.read.parquet(p2_path)\n",
    "\n",
    "p3_path = \"part3_data/transaction2021B\"\n",
    "p3_df = spark.read.parquet(p3_path)\n",
    "\n",
    "p4_path = \"part4_data/transaction2022A\"\n",
    "p4_df = spark.read.parquet(p4_path)\n",
    "\n",
    "new_tbl_consumer = (\n",
    "    spark.read\n",
    "         .option(\"header\", True)   \n",
    "         .option(\"inferSchema\", True)\n",
    "         .csv(\"part1_data/new_tbl_consumer.csv\")\n",
    ")\n",
    "consumer_details = spark.read.parquet(\"part1_data/consumer_user_details.parquet\")\n",
    "\n",
    "### 赵航宇数据\n",
    "preprocessed_data = spark.read.parquet(\"preprocessed_data.parquet\")\n"
   ]
  },
  {
   "cell_type": "code",
   "execution_count": 3,
   "id": "2d302208",
   "metadata": {},
   "outputs": [
    {
     "name": "stdout",
     "output_type": "stream",
     "text": [
      "+-------+------------+------------------+--------------------+--------------+\n",
      "|user_id|merchant_abn|      dollar_value|            order_id|order_datetime|\n",
      "+-------+------------+------------------+--------------------+--------------+\n",
      "|  18478| 62191208634|63.255848959735246|949a63c8-29f7-4ab...|    2021-08-20|\n",
      "|      2| 15549624934| 130.3505283105634|6a84c3cf-612a-457...|    2021-08-20|\n",
      "|  18479| 64403598239|120.15860593212783|b10dcc33-e53f-425...|    2021-08-20|\n",
      "|      3| 60956456424| 136.6785200286976|0f09c5a5-784e-447...|    2021-08-20|\n",
      "|  18479| 94493496784| 72.96316578355305|f6c78c1a-4600-4c5...|    2021-08-20|\n",
      "|      3| 76819856970|  448.529684285612|5ace6a24-cdf0-4aa...|    2021-08-20|\n",
      "|  18479| 67609108741|  86.4040605836911|d0e180f0-cb06-42a...|    2021-08-20|\n",
      "|      3| 34096466752| 301.5793450525113|6fb1ff48-24bb-4f9...|    2021-08-20|\n",
      "|  18482| 70501974849| 68.75486276223054|8505fb33-b69a-412...|    2021-08-20|\n",
      "|      4| 49891706470| 48.89796461900801|ed11e477-b09f-4ae...|    2021-08-20|\n",
      "+-------+------------+------------------+--------------------+--------------+\n",
      "only showing top 10 rows\n"
     ]
    },
    {
     "data": {
      "text/plain": [
       "3643266"
      ]
     },
     "execution_count": 3,
     "metadata": {},
     "output_type": "execute_result"
    }
   ],
   "source": [
    "p2_df.show(10)\n",
    "p2_df.count()"
   ]
  },
  {
   "cell_type": "code",
   "execution_count": 4,
   "id": "8e4e5829",
   "metadata": {},
   "outputs": [
    {
     "name": "stdout",
     "output_type": "stream",
     "text": [
      "+-------+------------+------------------+--------------------+--------------+\n",
      "|user_id|merchant_abn|      dollar_value|            order_id|order_datetime|\n",
      "+-------+------------+------------------+--------------------+--------------+\n",
      "|  14935| 79417999332|136.06570809815838|23acbb7b-cf98-458...|    2021-11-26|\n",
      "|      1| 46451548968| 72.61581642788431|76bab304-fa2d-400...|    2021-11-26|\n",
      "|  14936| 89518629617|3.0783487174439297|a2ae446a-2959-41c...|    2021-11-26|\n",
      "|      1| 49167531725| 51.58228625503599|7080c274-17f7-4cc...|    2021-11-26|\n",
      "|  14936| 31101120643|25.228114942417797|8e301c0f-06ab-45c...|    2021-11-26|\n",
      "|      2| 67978471888| 691.5028234458998|0380e9ad-b0e8-420...|    2021-11-26|\n",
      "|  14936| 60956456424|102.13952056640888|5ac3da9c-5147-452...|    2021-11-26|\n",
      "|      2| 47644196714| 644.5220654863093|4e368e44-86f8-4de...|    2021-11-26|\n",
      "|  14938| 39649557865|209.12780951421405|4d78cd01-4bab-494...|    2021-11-26|\n",
      "|      3| 88402174457| 141.0387993699113|c50c957d-ecfc-430...|    2021-11-26|\n",
      "+-------+------------+------------------+--------------------+--------------+\n",
      "only showing top 10 rows\n"
     ]
    },
    {
     "data": {
      "text/plain": [
       "4508106"
      ]
     },
     "execution_count": 4,
     "metadata": {},
     "output_type": "execute_result"
    }
   ],
   "source": [
    "p3_df.show(10)\n",
    "p3_df.count()"
   ]
  },
  {
   "cell_type": "code",
   "execution_count": 5,
   "id": "a1b0a5d9",
   "metadata": {},
   "outputs": [
    {
     "name": "stdout",
     "output_type": "stream",
     "text": [
      "+-------+------------+------------------+--------------------+--------------+\n",
      "|user_id|merchant_abn|      dollar_value|            order_id|order_datetime|\n",
      "+-------+------------+------------------+--------------------+--------------+\n",
      "|  11139| 96152467973|16.213590228273233|785b0080-9e4b-471...|    2022-08-20|\n",
      "|      1| 98973094975| 86.97955945703498|2560f7b0-ee5d-4b3...|    2022-08-20|\n",
      "|  11139| 56762458844|31.513502323509194|0311717b-8b5b-410...|    2022-08-20|\n",
      "|      1| 89502033586|124.18468694868491|f8891626-f098-45b...|    2022-08-20|\n",
      "|  11139| 96161808980|61.620445567668966|d90a421f-f1da-4bf...|    2022-08-20|\n",
      "|      2| 72472909171| 32.26524985312485|523e0403-b677-450...|    2022-08-20|\n",
      "|  11139| 91923722701|11.331586767322225|f45a842b-0366-41d...|    2022-08-20|\n",
      "|      3| 46380096952|119.80011239189334|58d0f423-037c-43f...|    2022-08-20|\n",
      "|  11140| 79283124876|198.13027742225435|60b12d41-41d6-4c1...|    2022-08-20|\n",
      "|      4| 67202032418|206.20865323560022|64a05a23-a078-481...|    2022-08-20|\n",
      "+-------+------------+------------------+--------------------+--------------+\n",
      "only showing top 10 rows\n"
     ]
    },
    {
     "data": {
      "text/plain": [
       "6044133"
      ]
     },
     "execution_count": 5,
     "metadata": {},
     "output_type": "execute_result"
    }
   ],
   "source": [
    "p4_df.show(10)\n",
    "p4_df.count() "
   ]
  },
  {
   "cell_type": "code",
   "execution_count": 6,
   "id": "af96397d",
   "metadata": {},
   "outputs": [
    {
     "name": "stdout",
     "output_type": "stream",
     "text": [
      "+-----------------+-----------------------------+-----+--------+------+-----------+\n",
      "|name             |address                      |state|postcode|gender|consumer_id|\n",
      "+-----------------+-----------------------------+-----+--------+------+-----------+\n",
      "|Yolanda Williams |413 Haney Gardens Apt. 742   |WA   |6935    |Female|1195503    |\n",
      "|Mary Smith       |3764 Amber Oval              |NSW  |2782    |Female|179208     |\n",
      "|Jill Jones MD    |40693 Henry Greens           |NT   |862     |Female|1194530    |\n",
      "|Lindsay Jimenez  |00653 Davenport Crossroad    |NSW  |2780    |Female|154128     |\n",
      "|Rebecca Blanchard|9271 Michael Manors Suite 651|WA   |6355    |Female|712975     |\n",
      "+-----------------+-----------------------------+-----+--------+------+-----------+\n",
      "only showing top 5 rows\n"
     ]
    }
   ],
   "source": [
    "new_tbl_consumer.show(5, truncate=False)"
   ]
  },
  {
   "cell_type": "code",
   "execution_count": 7,
   "id": "6dd7ee35",
   "metadata": {},
   "outputs": [
    {
     "name": "stdout",
     "output_type": "stream",
     "text": [
      "+-------+------------+------------------+--------------------+\n",
      "|user_id|merchant_abn|      dollar_value|            order_id|\n",
      "+-------+------------+------------------+--------------------+\n",
      "|      1| 28000487688|133.22689421562643|0c37b3f7-c7f1-48c...|\n",
      "|  18485| 62191208634| 79.13140006851712|9e18b913-0465-4fd...|\n",
      "|      1| 83690644458|30.441348317517228|40a2ff69-ea34-465...|\n",
      "|  18488| 39649557865| 962.8133405407585|f4c1a5ae-5b76-40d...|\n",
      "|      2| 80779820715| 48.12397733548124|cd09bdd6-f56d-489...|\n",
      "|  18489| 43186523025| 98.14878546968934|9008a98e-1b02-4de...|\n",
      "|      3| 29566626791| 46.33087226118639|26b7574e-81c2-455...|\n",
      "|  18490| 93558142492|232.83335268750145|2bda0665-796f-4f2...|\n",
      "|      3| 32361057556| 87.34942171371054|633a7656-2fcc-4b8...|\n",
      "|  18491| 64974914166|130.12601873970038|4bc15338-83eb-43d...|\n",
      "+-------+------------+------------------+--------------------+\n",
      "only showing top 10 rows\n"
     ]
    }
   ],
   "source": [
    "preprocessed_data.show(10)"
   ]
  },
  {
   "cell_type": "markdown",
   "id": "dbb9fce0",
   "metadata": {},
   "source": [
    "# Final Data Merge"
   ]
  },
  {
   "cell_type": "code",
   "execution_count": 8,
   "id": "03926434",
   "metadata": {},
   "outputs": [
    {
     "name": "stdout",
     "output_type": "stream",
     "text": [
      "+-------+-----------+------------+------------------------------------+------------------+-----+--------+-----------+\n",
      "|user_id|consumer_id|merchant_abn|order_id                            |dollar_value      |state|postcode|gender     |\n",
      "+-------+-----------+------------+------------------------------------+------------------+-----+--------+-----------+\n",
      "|2883   |75264      |94493496784 |1b237258-3f9a-4058-8e5e-8651c628cd35|86.12019907563348 |VIC  |3123    |Female     |\n",
      "|18519  |147657     |58741105428 |7f623ae1-5373-4a26-926d-8df335c2bec5|43.31490194582448 |NSW  |2218    |Male       |\n",
      "|10957  |149874     |35909341340 |128cabaa-187b-4f4d-8473-f2dc581fb40f|181.78257205494356|VIC  |3483    |Male       |\n",
      "|16800  |186459     |76767266140 |ac94d659-5c1e-445b-b9ea-ba029dc982d6|124.5343717624213 |WA   |6964    |Undisclosed|\n",
      "|16800  |186459     |91923722701 |e084f4c9-8829-4ea6-9a98-8050a556a520|5.971913169283436 |WA   |6964    |Undisclosed|\n",
      "|8046   |279655     |61242800720 |a74ec34f-40c7-437a-ba82-09495acce100|110.85662573449764|VIC  |3812    |Male       |\n",
      "|8046   |279655     |42483854662 |f0a26048-b18d-4c8c-ab2a-3fc4a8b15b22|318.1262489910279 |VIC  |3812    |Male       |\n",
      "|8046   |279655     |75850458091 |796953f0-3c8b-43a4-967b-fc10f9455eda|122.70481515565109|VIC  |3812    |Male       |\n",
      "|8046   |279655     |85556646149 |2a2685f3-d63a-4880-82d3-5b992e5b31aa|715.4287427380698 |VIC  |3812    |Male       |\n",
      "|16802  |285118     |64403598239 |8785487b-a289-4ebc-a742-1caef25db60c|128.22209735358976|NSW  |1750    |Female     |\n",
      "|2881   |295586     |42500153308 |a8db208b-2ecf-4b04-8e0b-2dd86df7762b|20.169467251919265|TAS  |7017    |Male       |\n",
      "|2881   |295586     |72177236569 |99e6f91e-c60b-4812-a6fa-4f065f54478c|273.0718934208491 |TAS  |7017    |Male       |\n",
      "|18501  |311829     |14430838529 |6aa3e3a6-eca4-4497-8a3b-99f5fc1993c9|14.208906586649361|SA   |5302    |Female     |\n",
      "|8042   |351216     |21702179125 |2f7031e0-44fc-4a12-932c-7788b438c67a|113.04741171237957|SA   |5164    |Male       |\n",
      "|8042   |351216     |60602272553 |c109ff9f-ce1f-4992-83b0-38e55adc757c|30.736469291742978|SA   |5164    |Male       |\n",
      "|11     |428325     |98269572896 |8f5d0cab-8055-4357-bafa-2e995dd8452f|129.46280909485031|VIC  |3063    |Undisclosed|\n",
      "|11     |428325     |20692490685 |09bc8dd6-419f-4cb2-ab6a-4432a451f1ce|196.93916081228323|VIC  |3063    |Undisclosed|\n",
      "|6925   |449267     |38598071783 |124ab92b-ec5e-4472-a0c9-d9385ef51143|18.27380453896118 |NSW  |2762    |Male       |\n",
      "|6925   |449267     |94472466107 |df0118ab-462b-4a6a-aa6a-93f3d849cd6b|6.044476525687461 |NSW  |2762    |Male       |\n",
      "|18520  |462439     |79417999332 |fc2b2cdc-6e11-4b63-b305-fd08d2c22f37|34.33352575550325 |VIC  |3719    |Male       |\n",
      "|18520  |462439     |45572698303 |a5c3b763-0b13-485f-98ce-09df3f97c2a9|86.13964260098399 |VIC  |3719    |Male       |\n",
      "|16782  |739318     |34984654037 |eca5db1a-df22-42b4-adfb-dd4bff5d490e|68.29281535027316 |VIC  |3458    |Male       |\n",
      "|16782  |739318     |17324645993 |771d6188-cc87-40ee-ab41-28e587e27a18|4.798125534281736 |VIC  |3458    |Male       |\n",
      "|16782  |739318     |24852446429 |2de47880-36cd-44e9-87a5-255b789cbfd0|61.38450568334178 |VIC  |3458    |Male       |\n",
      "|16793  |781017     |11121775571 |486324d8-fc02-459c-9c78-f349372027dd|24.204453482947503|WA   |6009    |Female     |\n",
      "|2900   |902358     |49322182190 |dc22afc8-f95c-4973-b830-e51fcc4a3d9b|84.09090704582661 |QLD  |4287    |Female     |\n",
      "|10952  |932270     |80109801322 |3d050c36-3f98-40ec-b7fd-da95a1470ee3|30.59348723875905 |QLD  |4132    |Male       |\n",
      "|21863  |951649     |45559085309 |ddc005b8-1893-4247-98a7-e07da4aa5ffa|112.40113517644734|NSW  |2545    |Male       |\n",
      "|8044   |1131760    |89726005175 |346054ef-c79d-428f-a10b-9d6c80a83305|26.072111792306938|NSW  |2303    |Male       |\n",
      "|18485  |1212819    |62191208634 |9e18b913-0465-4fd4-92fd-66d15e65d93c|79.13140006851712 |VIC  |3073    |Male       |\n",
      "+-------+-----------+------------+------------------------------------+------------------+-----+--------+-----------+\n",
      "only showing top 30 rows\n"
     ]
    }
   ],
   "source": [
    "# 先把 user_id -> consumer_id 的映射补充进交易表\n",
    "df_with_consumer = (\n",
    "    preprocessed_data\n",
    "    .join(consumer_details, on=\"user_id\", how=\"left\")\n",
    ")\n",
    "\n",
    "# Step 2: 再用 consumer_id 去 join consumer 画像表\n",
    "df_enriched = (\n",
    "    df_with_consumer\n",
    "    .join(new_tbl_consumer, on=\"consumer_id\", how=\"left\")\n",
    ")\n",
    "\n",
    "# Step 3: 选择你想要的字段\n",
    "df_enriched_selected = df_enriched.select(\n",
    "    \"user_id\",\n",
    "    \"consumer_id\",\n",
    "    \"merchant_abn\",\n",
    "    \"order_id\",\n",
    "    \"dollar_value\",\n",
    "    \"state\",\n",
    "    \"postcode\",\n",
    "    \"gender\"\n",
    ")\n",
    "\n",
    "df_enriched_selected.show(30, truncate=False)"
   ]
  }
 ],
 "metadata": {
  "kernelspec": {
   "display_name": "base",
   "language": "python",
   "name": "python3"
  },
  "language_info": {
   "codemirror_mode": {
    "name": "ipython",
    "version": 3
   },
   "file_extension": ".py",
   "mimetype": "text/x-python",
   "name": "python",
   "nbconvert_exporter": "python",
   "pygments_lexer": "ipython3",
   "version": "3.11.7"
  }
 },
 "nbformat": 4,
 "nbformat_minor": 5
}
