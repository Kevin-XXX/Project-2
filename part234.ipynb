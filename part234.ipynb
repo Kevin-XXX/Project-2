{
 "cells": [
  {
   "cell_type": "markdown",
   "id": "5db3d8c4",
   "metadata": {},
   "source": [
    "# Import Library"
   ]
  },
  {
   "cell_type": "code",
   "execution_count": 1,
   "id": "3a2c77e0",
   "metadata": {},
   "outputs": [
    {
     "name": "stderr",
     "output_type": "stream",
     "text": [
      "WARNING: Using incubator modules: jdk.incubator.vector\n",
      "Using Spark's default log4j profile: org/apache/spark/log4j2-defaults.properties\n",
      "25/09/23 13:15:26 WARN Utils: Your hostname, xuzhengs-MacBook-Pro-2.local, resolves to a loopback address: 127.0.0.1; using 10.12.255.65 instead (on interface en0)\n",
      "25/09/23 13:15:26 WARN Utils: Set SPARK_LOCAL_IP if you need to bind to another address\n",
      "Using Spark's default log4j profile: org/apache/spark/log4j2-defaults.properties\n",
      "Setting default log level to \"WARN\".\n",
      "To adjust logging level use sc.setLogLevel(newLevel). For SparkR, use setLogLevel(newLevel).\n",
      "25/09/23 13:15:26 WARN NativeCodeLoader: Unable to load native-hadoop library for your platform... using builtin-java classes where applicable\n",
      "25/09/23 13:15:27 WARN Utils: Service 'SparkUI' could not bind on port 4040. Attempting port 4041.\n"
     ]
    }
   ],
   "source": [
    "# Data Handling \n",
    "import pandas as pd\n",
    "import numpy as np\n",
    "import geopandas as gpd\n",
    "import pyarrow\n",
    "import json\n",
    "\n",
    "# Visualization \n",
    "import matplotlib.pyplot as plt\n",
    "import seaborn as sns\n",
    "import matplotlib as mpl\n",
    "\n",
    "# PySpark \n",
    "from pyspark.sql import SparkSession\n",
    "from pyspark.sql import functions as F\n",
    "from pyspark.sql.functions import (\n",
    "    col, countDistinct, to_date, to_timestamp,\n",
    "    when, expr, date_trunc, count, avg,\n",
    "    explode, split, trim\n",
    ")\n",
    "from pyspark.sql.types import ArrayType, StringType\n",
    "from pyspark.sql.window import Window\n",
    "\n",
    "# Utility \n",
    "from tqdm.auto import tqdm\n",
    "import warnings\n",
    "import glob\n",
    "warnings.filterwarnings(\"ignore\")\n",
    "\n",
    "spark = SparkSession.builder \\\n",
    "    .appName(\"BNPL_Part234_Data\") \\\n",
    "    .config(\"spark.driver.memory\", \"6g\") \\\n",
    "    .getOrCreate()\n"
   ]
  },
  {
   "cell_type": "markdown",
   "id": "294b78d9",
   "metadata": {},
   "source": []
  },
  {
   "cell_type": "code",
   "execution_count": 2,
   "id": "d78655f9",
   "metadata": {},
   "outputs": [
    {
     "name": "stderr",
     "output_type": "stream",
     "text": [
      "                                                                                \r"
     ]
    }
   ],
   "source": [
    "### Load all the data\n",
    "\n",
    "# Original transaction data\n",
    "p2_path = \"part2_data/transaction2021A\"\n",
    "p2_df = spark.read.parquet(p2_path)\n",
    "\n",
    "p3_path = \"part3_data/transaction2021B\"\n",
    "p3_df = spark.read.parquet(p3_path)\n",
    "\n",
    "p4_path = \"part4_data/transaction2022A\"\n",
    "p4_df = spark.read.parquet(p4_path)\n",
    "\n",
    "new_tbl_consumer = (\n",
    "    spark.read\n",
    "         .option(\"header\", True)   \n",
    "         .option(\"inferSchema\", True)\n",
    "         .csv(\"part1_data/new_tbl_consumer.csv\")\n",
    ")\n",
    "consumer_details = spark.read.parquet(\"part1_data/consumer_user_details.parquet\")\n",
    "\n",
    "crime_df = (\n",
    "    spark.read\n",
    "        .option(\"header\", True)   \n",
    "        .option(\"inferSchema\", True)\n",
    "        .csv(\"external_data/comprehensive_crime_rate.csv\")\n",
    ")\n",
    "\n",
    "# income\n",
    "income_df = (\n",
    "    spark.read\n",
    "        .option(\"header\", True)   \n",
    "        .option(\"inferSchema\", True)\n",
    "        .csv(\"external_data/income.csv\")\n",
    ")\n",
    "\n",
    "# employed rate\n",
    "employed_rate = (\n",
    "    spark.read\n",
    "        .option(\"header\", True)   \n",
    "        .option(\"inferSchema\", True)\n",
    "        .csv(\"external_data/employed_rate.csv\")\n",
    ")\n",
    "\n",
    "\n",
    "# consumer_file\n",
    "consumer_level = spark.read.parquet(\"part1_data/consumer_profile.parquet\")\n",
    "\n",
    "# merchant file\n",
    "merchant_level = spark.read.parquet(\"part1_data/merchant_profile.parquet\")\n",
    "\n",
    "# SA3_Map\n",
    "gdf = gpd.read_file(\"external_data/State_Map/State_Map.shp\")"
   ]
  },
  {
   "cell_type": "code",
   "execution_count": 3,
   "id": "2d302208",
   "metadata": {},
   "outputs": [
    {
     "name": "stdout",
     "output_type": "stream",
     "text": [
      "+-------+------------+------------------+--------------------+--------------+\n",
      "|user_id|merchant_abn|      dollar_value|            order_id|order_datetime|\n",
      "+-------+------------+------------------+--------------------+--------------+\n",
      "|  18478| 62191208634|63.255848959735246|949a63c8-29f7-4ab...|    2021-08-20|\n",
      "|      2| 15549624934| 130.3505283105634|6a84c3cf-612a-457...|    2021-08-20|\n",
      "|  18479| 64403598239|120.15860593212783|b10dcc33-e53f-425...|    2021-08-20|\n",
      "|      3| 60956456424| 136.6785200286976|0f09c5a5-784e-447...|    2021-08-20|\n",
      "|  18479| 94493496784| 72.96316578355305|f6c78c1a-4600-4c5...|    2021-08-20|\n",
      "|      3| 76819856970|  448.529684285612|5ace6a24-cdf0-4aa...|    2021-08-20|\n",
      "|  18479| 67609108741|  86.4040605836911|d0e180f0-cb06-42a...|    2021-08-20|\n",
      "|      3| 34096466752| 301.5793450525113|6fb1ff48-24bb-4f9...|    2021-08-20|\n",
      "|  18482| 70501974849| 68.75486276223054|8505fb33-b69a-412...|    2021-08-20|\n",
      "|      4| 49891706470| 48.89796461900801|ed11e477-b09f-4ae...|    2021-08-20|\n",
      "+-------+------------+------------------+--------------------+--------------+\n",
      "only showing top 10 rows\n"
     ]
    },
    {
     "data": {
      "text/plain": [
       "3643266"
      ]
     },
     "execution_count": 3,
     "metadata": {},
     "output_type": "execute_result"
    }
   ],
   "source": [
    "p2_df.show(10)\n",
    "p2_df.count()"
   ]
  },
  {
   "cell_type": "code",
   "execution_count": 4,
   "id": "8e4e5829",
   "metadata": {},
   "outputs": [
    {
     "name": "stdout",
     "output_type": "stream",
     "text": [
      "+-------+------------+------------------+--------------------+--------------+\n",
      "|user_id|merchant_abn|      dollar_value|            order_id|order_datetime|\n",
      "+-------+------------+------------------+--------------------+--------------+\n",
      "|  14935| 79417999332|136.06570809815838|23acbb7b-cf98-458...|    2021-11-26|\n",
      "|      1| 46451548968| 72.61581642788431|76bab304-fa2d-400...|    2021-11-26|\n",
      "|  14936| 89518629617|3.0783487174439297|a2ae446a-2959-41c...|    2021-11-26|\n",
      "|      1| 49167531725| 51.58228625503599|7080c274-17f7-4cc...|    2021-11-26|\n",
      "|  14936| 31101120643|25.228114942417797|8e301c0f-06ab-45c...|    2021-11-26|\n",
      "|      2| 67978471888| 691.5028234458998|0380e9ad-b0e8-420...|    2021-11-26|\n",
      "|  14936| 60956456424|102.13952056640888|5ac3da9c-5147-452...|    2021-11-26|\n",
      "|      2| 47644196714| 644.5220654863093|4e368e44-86f8-4de...|    2021-11-26|\n",
      "|  14938| 39649557865|209.12780951421405|4d78cd01-4bab-494...|    2021-11-26|\n",
      "|      3| 88402174457| 141.0387993699113|c50c957d-ecfc-430...|    2021-11-26|\n",
      "+-------+------------+------------------+--------------------+--------------+\n",
      "only showing top 10 rows\n"
     ]
    },
    {
     "data": {
      "text/plain": [
       "4508106"
      ]
     },
     "execution_count": 4,
     "metadata": {},
     "output_type": "execute_result"
    }
   ],
   "source": [
    "p3_df.show(10)\n",
    "p3_df.count()"
   ]
  },
  {
   "cell_type": "code",
   "execution_count": 5,
   "id": "a1b0a5d9",
   "metadata": {},
   "outputs": [
    {
     "name": "stdout",
     "output_type": "stream",
     "text": [
      "+-------+------------+------------------+--------------------+--------------+\n",
      "|user_id|merchant_abn|      dollar_value|            order_id|order_datetime|\n",
      "+-------+------------+------------------+--------------------+--------------+\n",
      "|  11139| 96152467973|16.213590228273233|785b0080-9e4b-471...|    2022-08-20|\n",
      "|      1| 98973094975| 86.97955945703498|2560f7b0-ee5d-4b3...|    2022-08-20|\n",
      "|  11139| 56762458844|31.513502323509194|0311717b-8b5b-410...|    2022-08-20|\n",
      "|      1| 89502033586|124.18468694868491|f8891626-f098-45b...|    2022-08-20|\n",
      "|  11139| 96161808980|61.620445567668966|d90a421f-f1da-4bf...|    2022-08-20|\n",
      "|      2| 72472909171| 32.26524985312485|523e0403-b677-450...|    2022-08-20|\n",
      "|  11139| 91923722701|11.331586767322225|f45a842b-0366-41d...|    2022-08-20|\n",
      "|      3| 46380096952|119.80011239189334|58d0f423-037c-43f...|    2022-08-20|\n",
      "|  11140| 79283124876|198.13027742225435|60b12d41-41d6-4c1...|    2022-08-20|\n",
      "|      4| 67202032418|206.20865323560022|64a05a23-a078-481...|    2022-08-20|\n",
      "+-------+------------+------------------+--------------------+--------------+\n",
      "only showing top 10 rows\n"
     ]
    },
    {
     "data": {
      "text/plain": [
       "6044133"
      ]
     },
     "execution_count": 5,
     "metadata": {},
     "output_type": "execute_result"
    }
   ],
   "source": [
    "p4_df.show(10)\n",
    "p4_df.count() "
   ]
  },
  {
   "cell_type": "code",
   "execution_count": 6,
   "id": "af96397d",
   "metadata": {},
   "outputs": [
    {
     "name": "stdout",
     "output_type": "stream",
     "text": [
      "+-----------------+-----------------------------+-----+--------+------+-----------+\n",
      "|name             |address                      |state|postcode|gender|consumer_id|\n",
      "+-----------------+-----------------------------+-----+--------+------+-----------+\n",
      "|Yolanda Williams |413 Haney Gardens Apt. 742   |WA   |6935    |Female|1195503    |\n",
      "|Mary Smith       |3764 Amber Oval              |NSW  |2782    |Female|179208     |\n",
      "|Jill Jones MD    |40693 Henry Greens           |NT   |862     |Female|1194530    |\n",
      "|Lindsay Jimenez  |00653 Davenport Crossroad    |NSW  |2780    |Female|154128     |\n",
      "|Rebecca Blanchard|9271 Michael Manors Suite 651|WA   |6355    |Female|712975     |\n",
      "+-----------------+-----------------------------+-----+--------+------+-----------+\n",
      "only showing top 5 rows\n"
     ]
    }
   ],
   "source": [
    "new_tbl_consumer.show(5, truncate=False)"
   ]
  },
  {
   "cell_type": "code",
   "execution_count": 7,
   "id": "7c89216a",
   "metadata": {},
   "outputs": [
    {
     "name": "stdout",
     "output_type": "stream",
     "text": [
      "+--------+---------------+------------------+----------------+\n",
      "|POSTCODE|2021 Population|Median ($) 2021-22|Mean ($) 2021-22|\n",
      "+--------+---------------+------------------+----------------+\n",
      "|     800|        28507.0|           69920.0|         83232.0|\n",
      "|     810|        57630.0|           66937.0|         76136.0|\n",
      "|     812|        57630.0|           66937.0|         76136.0|\n",
      "|     820|        43068.5|           68428.5|         79684.0|\n",
      "|     822|        26735.0|           56840.4|         67317.8|\n",
      "+--------+---------------+------------------+----------------+\n",
      "only showing top 5 rows\n"
     ]
    }
   ],
   "source": [
    "income_df.show(5)\n"
   ]
  },
  {
   "cell_type": "code",
   "execution_count": 8,
   "id": "2ef72a96",
   "metadata": {},
   "outputs": [
    {
     "name": "stdout",
     "output_type": "stream",
     "text": [
      "+-------------------+------+------+------+------+------+------+------+------+\n",
      "|              Month|   NSW|   VIC|   QLD|    SA|    WA|   TAS|    NT|   ACT|\n",
      "+-------------------+------+------+------+------+------+------+------+------+\n",
      "|2021-01-01 00:00:00|60.988|62.132|61.688| 57.76|63.254|57.538|69.138|67.904|\n",
      "|2021-02-01 00:00:00|61.466|62.325|61.868|57.832|62.932|58.095|69.698|68.784|\n",
      "|2021-03-01 00:00:00|61.896|62.467|62.284|57.852|64.531|58.045|69.062|68.194|\n",
      "|2021-04-01 00:00:00|61.469|62.511|62.173|58.808|64.168|57.768|69.624|68.718|\n",
      "|2021-05-01 00:00:00| 62.28|62.927|62.583|59.194|64.375|57.936|70.001|68.845|\n",
      "+-------------------+------+------+------+------+------+------+------+------+\n",
      "only showing top 5 rows\n"
     ]
    }
   ],
   "source": [
    "employed_rate.show(5)"
   ]
  },
  {
   "cell_type": "code",
   "execution_count": 9,
   "id": "f5158916",
   "metadata": {},
   "outputs": [
    {
     "name": "stdout",
     "output_type": "stream",
     "text": [
      "+-----+----+-------+--------+----------+--------------+-----------+\n",
      "|State|Year|Assault|Homicide|Kidnapping|Sexual assault|Crime_Index|\n",
      "+-----+----+-------+--------+----------+--------------+-----------+\n",
      "|  ACT|2021|  511.4|     2.7|       0.0|          75.4|      271.3|\n",
      "|  ACT|2022|  538.7|     2.0|       0.7|          71.2|      284.1|\n",
      "|  NSW|2021|  798.9|     1.0|       2.6|         141.8|      428.3|\n",
      "|  NSW|2022|  852.0|     1.0|       2.6|         152.2|      456.9|\n",
      "|   NT|2021| 3648.6|     5.2|       0.0|         143.1|     1854.0|\n",
      "|   NT|2022| 4159.1|     6.0|       2.0|         144.4|     2109.8|\n",
      "|  QLD|2021|    0.0|     1.6|       0.5|         132.1|       26.8|\n",
      "|  QLD|2022|  983.3|     2.1|       0.8|         139.5|      520.0|\n",
      "|   SA|2021| 1008.2|     1.9|       2.3|          98.9|      524.5|\n",
      "|   SA|2022| 1083.8|     1.6|       2.3|          99.7|      562.4|\n",
      "+-----+----+-------+--------+----------+--------------+-----------+\n",
      "only showing top 10 rows\n"
     ]
    }
   ],
   "source": [
    "crime_df.show(10)"
   ]
  },
  {
   "cell_type": "code",
   "execution_count": 10,
   "id": "21350a15",
   "metadata": {},
   "outputs": [
    {
     "name": "stdout",
     "output_type": "stream",
     "text": [
      "root\n",
      " |-- user_id: long (nullable = true)\n",
      " |-- merchant_abn: long (nullable = true)\n",
      " |-- dollar_value: double (nullable = true)\n",
      " |-- order_id: string (nullable = true)\n",
      " |-- order_datetime: date (nullable = true)\n",
      "\n"
     ]
    },
    {
     "name": "stderr",
     "output_type": "stream",
     "text": [
      "[Stage 33:===============>                                         (7 + 8) / 26]\r"
     ]
    },
    {
     "name": "stdout",
     "output_type": "stream",
     "text": [
      "Total rows: 14195505\n",
      "+-------+------------+------------------+------------------------------------+--------------+\n",
      "|user_id|merchant_abn|dollar_value      |order_id                            |order_datetime|\n",
      "+-------+------------+------------------+------------------------------------+--------------+\n",
      "|18478  |62191208634 |63.255848959735246|949a63c8-29f7-4ab0-ada4-99ac50a88952|2021-08-20    |\n",
      "|2      |15549624934 |130.3505283105634 |6a84c3cf-612a-4574-835b-144a47353eff|2021-08-20    |\n",
      "|18479  |64403598239 |120.15860593212783|b10dcc33-e53f-4254-863c-de5266810cbc|2021-08-20    |\n",
      "|3      |60956456424 |136.6785200286976 |0f09c5a5-784e-4477-b049-8ee4dd069b7b|2021-08-20    |\n",
      "|18479  |94493496784 |72.96316578355305 |f6c78c1a-4600-4c5f-8e97-6e9eb534b586|2021-08-20    |\n",
      "|3      |76819856970 |448.529684285612  |5ace6a24-cdf0-4aa3-b571-1d9406b352b5|2021-08-20    |\n",
      "|18479  |67609108741 |86.4040605836911  |d0e180f0-cb06-42a3-bd1a-c47dca15bc55|2021-08-20    |\n",
      "|3      |34096466752 |301.5793450525113 |6fb1ff48-24bb-4f97-9a96-d2e8ca009bda|2021-08-20    |\n",
      "|18482  |70501974849 |68.75486276223054 |8505fb33-b69a-412a-a8e1-827983a66577|2021-08-20    |\n",
      "|4      |49891706470 |48.89796461900801 |ed11e477-b09f-4ae0-84fb-74531ce8c30c|2021-08-20    |\n",
      "+-------+------------+------------------+------------------------------------+--------------+\n",
      "only showing top 10 rows\n"
     ]
    },
    {
     "name": "stderr",
     "output_type": "stream",
     "text": [
      "                                                                                \r"
     ]
    }
   ],
   "source": [
    "# Merge the three Dataframes\n",
    "transactions_df = (\n",
    "    p2_df.unionByName(p3_df)\n",
    "         .unionByName(p4_df)\n",
    ")\n",
    "\n",
    "# Check the results\n",
    "transactions_df.printSchema()\n",
    "print(f\"Total rows: {transactions_df.count()}\")  \n",
    "transactions_df.show(10, truncate=False)"
   ]
  },
  {
   "cell_type": "code",
   "execution_count": 11,
   "id": "b3b63378",
   "metadata": {},
   "outputs": [
    {
     "name": "stdout",
     "output_type": "stream",
     "text": [
      "Column examples: ['user_id', 'merchant_abn', 'dollar_value', 'order_id', 'order_datetime']\n",
      "Time list candidates: ['order_datetime']\n",
      "Use the time column: order_datetime\n",
      "daily head:\n",
      "+--------------+-----------+\n",
      "|order_datetime|order_count|\n",
      "+--------------+-----------+\n",
      "|2021-02-28    |17107      |\n",
      "|2021-03-01    |15170      |\n",
      "|2021-03-02    |15417      |\n",
      "|2021-03-03    |16093      |\n",
      "|2021-03-04    |16988      |\n",
      "|2021-03-05    |17697      |\n",
      "|2021-03-06    |16924      |\n",
      "|2021-03-07    |16798      |\n",
      "|2021-03-08    |16262      |\n",
      "|2021-03-09    |15972      |\n",
      "+--------------+-----------+\n",
      "only showing top 10 rows\n"
     ]
    }
   ],
   "source": [
    "# Perform distribution checks in Spark DataFrame\n",
    "\n",
    "# Time Distribution\n",
    "if \"order_date\" in transactions_df.columns:\n",
    "    daily_counts = (\n",
    "        transactions_df.groupBy(\"order_date\")\n",
    "        .count()\n",
    "        .orderBy(\"order_date\")\n",
    "    )\n",
    "    daily_counts.show(10, truncate=False)\n",
    "\n",
    "# Amount distribution (Find price-related columns)\n",
    "price_cols = [c for c in transactions_df.columns if \"price\" in c or \"amount\" in c or \"total\" in c]\n",
    "if price_cols:\n",
    "    transactions_df.select(price_cols[0]).describe().show()\n",
    "\n",
    "# Standardized listing\n",
    "def normalize_columns_spark(df):\n",
    "    for c in df.columns:\n",
    "        new_name = c.strip().lower().replace(\" \", \"_\")\n",
    "        df = df.withColumnRenamed(c, new_name)\n",
    "    return df\n",
    "\n",
    "transactions_df = normalize_columns_spark(transactions_df)\n",
    "print(\"Column examples:\", transactions_df.columns[:40])\n",
    "\n",
    "# Identify the time column\n",
    "time_candidates = [c for c in transactions_df.columns if \"order\" in c and (\"time\" in c or \"date\" in c or \"datetime\" in c)]\n",
    "if not time_candidates:\n",
    "    time_candidates = [c for c in transactions_df.columns if c in (\"created_at\",\"created\",\"timestamp\",\"ts\",\"date\",\"datetime\")]\n",
    "\n",
    "print(\"Time list candidates:\", time_candidates)\n",
    "time_col = time_candidates[0] if time_candidates else None\n",
    "print(\"Use the time column:\", time_col)\n",
    "\n",
    "# Daily order statistics and saving\n",
    "if time_col:\n",
    "    daily = (\n",
    "        transactions_df.groupBy(time_col)\n",
    "        .count()\n",
    "        .withColumnRenamed(\"count\", \"order_count\")\n",
    "        .orderBy(time_col)\n",
    "    )\n",
    "\n",
    "    print(\"daily head:\")\n",
    "    daily.show(10, truncate=False)\n"
   ]
  },
  {
   "cell_type": "markdown",
   "id": "dbb9fce0",
   "metadata": {},
   "source": [
    "# Final Data Merge (External Data)"
   ]
  },
  {
   "cell_type": "code",
   "execution_count": 12,
   "id": "712e5c55",
   "metadata": {},
   "outputs": [
    {
     "name": "stderr",
     "output_type": "stream",
     "text": [
      "[Stage 40:=====================================================>  (25 + 1) / 26]\r"
     ]
    },
    {
     "name": "stdout",
     "output_type": "stream",
     "text": [
      "+------------------------------------+-------+------------+------------------+--------------+------------------+\n",
      "|order_id                            |user_id|merchant_abn|dollar_value      |order_datetime|order_datetime_ref|\n",
      "+------------------------------------+-------+------------+------------------+--------------+------------------+\n",
      "|01d968a6-dde1-48cf-96dc-5f504aa47177|14935  |72472909171 |52.973387548612614|2021-12-01    |2021-12-01        |\n",
      "|0371006a-d7a1-487d-b6cd-d726d0888488|22286  |17945458645 |125.48815344185114|2022-08-15    |2022-08-15        |\n",
      "|066d9342-9bc7-4be2-80a0-3fad03dabc56|11139  |45466221547 |0.8459119362003027|2022-07-12    |2022-07-12        |\n",
      "|3077e589-1629-4af0-9d72-f6af9c54a589|14942  |24852446429 |17.276891684035274|2021-09-09    |2021-09-09        |\n",
      "|3dba1ecb-1d9e-415f-9924-f86b6bc50119|18482  |47529937246 |110.27705449024003|2021-05-24    |2021-05-24        |\n",
      "|4b0819d9-f52a-457d-ade9-b5375780eaf7|22283  |96491286698 |206.28273891130056|2022-08-15    |2022-08-15        |\n",
      "|4ca543cb-9add-4fd5-9fda-edf47e6be1b9|6      |32176774610 |108.48371923275148|2022-07-13    |2022-07-13        |\n",
      "|523e0403-b677-4505-a8b8-fb9bce781127|2      |72472909171 |32.26524985312485 |2022-08-20    |2022-08-20        |\n",
      "|633b19a9-b587-4f77-8373-5378826d6d52|11143  |29362189014 |34.91649326852078 |2022-07-13    |2022-07-13        |\n",
      "|6a84c3cf-612a-4574-835b-144a47353eff|2      |15549624934 |130.3505283105634 |2021-08-20    |2021-08-20        |\n",
      "+------------------------------------+-------+------------+------------------+--------------+------------------+\n",
      "only showing top 10 rows\n"
     ]
    },
    {
     "name": "stderr",
     "output_type": "stream",
     "text": [
      "                                                                                \r"
     ]
    }
   ],
   "source": [
    "# Rename the column on the right to avoid repetition\n",
    "trans_dates = transactions_df.select(\"order_id\", col(\"order_datetime\").alias(\"order_datetime_ref\"))\n",
    "\n",
    "# Join the table\n",
    "preprocessed_data = (\n",
    "    transactions_df\n",
    "    .join(trans_dates, on=\"order_id\", how=\"left\")\n",
    ")\n",
    "\n",
    "# Preview and check\n",
    "preprocessed_data.show(10, truncate=False)\n"
   ]
  },
  {
   "cell_type": "code",
   "execution_count": 13,
   "id": "03926434",
   "metadata": {},
   "outputs": [
    {
     "name": "stderr",
     "output_type": "stream",
     "text": [
      "[Stage 51:=============================================>            (7 + 2) / 9]\r"
     ]
    },
    {
     "name": "stdout",
     "output_type": "stream",
     "text": [
      "+-------+-----------+------------+------------------------------------+------------------+-----+--------+------+--------------+\n",
      "|user_id|consumer_id|merchant_abn|order_id                            |dollar_value      |state|postcode|gender|order_datetime|\n",
      "+-------+-----------+------------+------------------------------------+------------------+-----+--------+------+--------------+\n",
      "|14937  |4932       |20985347699 |0bed3901-f0a8-4aa9-b286-2126cf021021|11.197796935848178|NSW  |2530    |Female|2021-09-09    |\n",
      "|14937  |4932       |48534649627 |16733b8a-d91a-436e-abce-02f27b990d1d|214.89416304714123|NSW  |2530    |Female|2022-02-07    |\n",
      "|11139  |505718     |45466221547 |066d9342-9bc7-4be2-80a0-3fad03dabc56|0.8459119362003027|NSW  |2281    |Female|2022-07-12    |\n",
      "|11139  |505718     |28687004922 |3948f702-0668-4cff-bae1-393868859cfc|19.65330763420652 |NSW  |2281    |Female|2022-07-08    |\n",
      "|11139  |505718     |56762458844 |0311717b-8b5b-410b-89f3-f6e984b54a30|31.513502323509194|NSW  |2281    |Female|2022-08-20    |\n",
      "|9      |650435     |38523562929 |09508e97-7b34-440c-a8ee-9ae7e138421c|152.81277878633023|NSW  |2482    |Female|2021-04-07    |\n",
      "|22290  |948149     |66626020312 |5285029c-7923-471a-9d6a-26c956b0a7bb|41.024562352241276|SA   |5139    |Male  |2022-07-08    |\n",
      "|11141  |1027466    |24070342853 |3a2da1f2-0c6d-4819-b922-6fcf6acfe499|132.81801174930692|VIC  |3202    |Female|2022-07-08    |\n",
      "|14946  |1111029    |49482116099 |3b5f5e08-a733-482e-9e7f-0a4ef647e78b|393.20347229745465|QLD  |4551    |Male  |2022-01-14    |\n",
      "|18480  |1398491    |26001500989 |498544c8-035b-49e9-a8ab-2019dac5fc21|92.85491376081134 |QLD  |4887    |Male  |2021-07-26    |\n",
      "+-------+-----------+------------+------------------------------------+------------------+-----+--------+------+--------------+\n",
      "only showing top 10 rows\n"
     ]
    },
    {
     "name": "stderr",
     "output_type": "stream",
     "text": [
      "                                                                                \r"
     ]
    }
   ],
   "source": [
    "### Add the coloumn of postcode/state/gender\n",
    "# Join user_id with consumer_id to enrich transaction data\n",
    "df_with_consumer = (\n",
    "    preprocessed_data\n",
    "    .join(consumer_details, on=\"user_id\", how=\"left\")\n",
    ")\n",
    "\n",
    "# Join consumer_id with the cleaned consumer demographic table\n",
    "df_enriched = (\n",
    "    df_with_consumer\n",
    "    .join(new_tbl_consumer, on=\"consumer_id\", how=\"left\")\n",
    ")\n",
    "\n",
    "# Select only the required fields for the final dataset\n",
    "df_enriched_selected = df_enriched.select(\n",
    "    \"user_id\",\n",
    "    \"consumer_id\",\n",
    "    \"merchant_abn\",\n",
    "    \"order_id\",\n",
    "    \"dollar_value\",\n",
    "    \"state\",\n",
    "    \"postcode\",\n",
    "    \"gender\",\n",
    "    \"order_datetime\"\n",
    ")\n",
    "\n",
    "# Preview first 10 rows of the enriched dataset \n",
    "df_enriched_selected.show(10, truncate=False)"
   ]
  },
  {
   "cell_type": "code",
   "execution_count": 14,
   "id": "02811f47",
   "metadata": {},
   "outputs": [
    {
     "name": "stderr",
     "output_type": "stream",
     "text": [
      "[Stage 69:======>                                                   (1 + 8) / 9]\r"
     ]
    },
    {
     "name": "stdout",
     "output_type": "stream",
     "text": [
      "+----------+-----+-------+-----------+------------+------------------------------------+------------------+--------+-----------+--------------+-------------+\n",
      "|year_month|state|user_id|consumer_id|merchant_abn|order_id                            |dollar_value      |postcode|gender     |order_datetime|employed_rate|\n",
      "+----------+-----+-------+-----------+------------+------------------------------------+------------------+--------+-----------+--------------+-------------+\n",
      "|2021-09   |NSW  |14937  |4932       |20985347699 |0bed3901-f0a8-4aa9-b286-2126cf021021|11.197796935848178|2530    |Female     |2021-09-09    |58.681       |\n",
      "|2022-02   |NSW  |14937  |4932       |48534649627 |16733b8a-d91a-436e-abce-02f27b990d1d|214.89416304714123|2530    |Female     |2022-02-07    |62.468       |\n",
      "|2022-07   |VIC  |11     |428325     |88279777843 |3cd13626-cf47-44c0-94f7-b4105f6403bf|604.9188592638876 |3063    |Undisclosed|2022-07-13    |64.182       |\n",
      "|2022-02   |VIC  |11     |428325     |81761494572 |0521c481-dc6c-49d1-ad05-1ed936589723|94.46673670566445 |3063    |Undisclosed|2022-02-07    |64.067       |\n",
      "|2022-07   |NSW  |11139  |505718     |45466221547 |066d9342-9bc7-4be2-80a0-3fad03dabc56|0.8459119362003027|2281    |Female     |2022-07-12    |63.403       |\n",
      "|2022-07   |NSW  |11139  |505718     |28687004922 |3948f702-0668-4cff-bae1-393868859cfc|19.65330763420652 |2281    |Female     |2022-07-08    |63.403       |\n",
      "|2022-08   |NSW  |11139  |505718     |56762458844 |0311717b-8b5b-410b-89f3-f6e984b54a30|31.513502323509194|2281    |Female     |2022-08-20    |63.492       |\n",
      "|2021-07   |NSW  |9      |650435     |16286338734 |244b1c3a-ff52-4ba0-b1ef-eade0bf2d295|98.72326527877455 |2482    |Female     |2021-07-26    |61.761       |\n",
      "|2021-04   |NSW  |9      |650435     |96161808980 |2931297e-d79c-4c08-b3c2-9ad6dd2ecbef|69.89893355791467 |2482    |Female     |2021-04-09    |61.469       |\n",
      "|2021-04   |NSW  |9      |650435     |38523562929 |09508e97-7b34-440c-a8ee-9ae7e138421c|152.81277878633023|2482    |Female     |2021-04-07    |61.469       |\n",
      "|2022-01   |NSW  |9      |650435     |83690644458 |3b1c8be0-1299-46a0-a16a-f7e4e876d037|131.93312373184511|2482    |Female     |2022-01-14    |61.884       |\n",
      "|2021-09   |NSW  |9      |650435     |94493496784 |1ce9db3e-71dd-49eb-948a-23196a75eb8e|73.81210300719256 |2482    |Female     |2021-09-09    |58.681       |\n",
      "|2021-12   |NSW  |9      |650435     |15560455575 |3b4adf21-b34e-4c99-a5a4-c29686b4a8da|174.26583175995654|2482    |Female     |2021-12-21    |61.831       |\n",
      "|2022-04   |NSW  |9      |650435     |64203420245 |3521da70-f851-4aa5-951b-82f7ba705272|21.114523671864145|2482    |Female     |2022-04-12    |62.71        |\n",
      "|2022-08   |SA   |22290  |948149     |24598653065 |549cba08-9ae5-47b8-a787-077b787b0bf5|153.15593430224752|5139    |Male       |2022-08-25    |60.607       |\n",
      "|2022-08   |VIC  |11141  |1027466    |86578477987 |39749f02-2687-4bfa-890d-f36538bd6e04|68.45470123518632 |3202    |Female     |2022-08-20    |64.268       |\n",
      "|2022-07   |VIC  |11141  |1027466    |24070342853 |3a2da1f2-0c6d-4819-b922-6fcf6acfe499|132.81801174930692|3202    |Female     |2022-07-08    |64.182       |\n",
      "|2022-07   |WA   |22301  |1195567    |43186523025 |31a40cc4-5788-4eb4-ad1f-4b67564b3618|29.065574435788996|6351    |Undisclosed|2022-07-08    |66.72        |\n",
      "|2021-04   |VIC  |18485  |1212819    |48534649627 |1fba8af7-1f29-4d52-af10-8dacd8d22a0f|104.13158185240643|3073    |Male       |2021-04-07    |62.511       |\n",
      "|2022-04   |SA   |11152  |316945     |24852446429 |213b11ee-15b6-4b00-a226-47187ea302e4|23.142726057722562|5309    |Female     |2022-04-12    |60.132       |\n",
      "+----------+-----+-------+-----------+------------+------------------------------------+------------------+--------+-----------+--------------+-------------+\n",
      "only showing top 20 rows\n"
     ]
    },
    {
     "name": "stderr",
     "output_type": "stream",
     "text": [
      "                                                                                \r"
     ]
    }
   ],
   "source": [
    "### Insert the column with employed rate\n",
    "\n",
    "# Reshape employed_rate from wide to long format\n",
    "employed_long = (\n",
    "    employed_rate\n",
    "    .selectExpr(\"Month\", \"stack(8, 'NSW', NSW, 'VIC', VIC, 'QLD', QLD, 'SA', SA, 'WA', WA, 'TAS', TAS, 'NT', NT, 'ACT', ACT) as (state, employed_rate)\")\n",
    ")\n",
    "\n",
    "# Generate Year-Month for the transaction data\n",
    "df_enriched_selected = df_enriched_selected.withColumn(\n",
    "    \"year_month\",\n",
    "    F.date_format(\"order_datetime\", \"yyyy-MM\")\n",
    ")\n",
    "\n",
    "# Join the table\n",
    "df_with_employed = (\n",
    "    df_enriched_selected\n",
    "    .join(employed_long.withColumnRenamed(\"Month\", \"year_month\"), \n",
    "          on=[\"year_month\", \"state\"], how=\"left\")\n",
    ")\n",
    "\n",
    "# Preview and check\n",
    "df_with_employed.show(20, truncate=False)\n"
   ]
  },
  {
   "cell_type": "code",
   "execution_count": 15,
   "id": "38799fed",
   "metadata": {},
   "outputs": [],
   "source": [
    "### Insert the column with income\n",
    "# Standardize column name types (remove Spaces/symbols and convert to lowercase)\n",
    "income_df = (\n",
    "    income_df\n",
    "    .withColumnRenamed(\"POSTCODE\", \"postcode\")\n",
    "    .withColumnRenamed(\"2021 Population\", \"pop\")\n",
    "    .withColumnRenamed(\"Median ($) 2021-22\", \"median_income\")\n",
    "    .withColumnRenamed(\"Mean ($) 2021-22\",   \"mean_income\")\n",
    "    # If the read in is a string, perform a safe numerical conversion (remove commas).\n",
    "    .withColumn(\"postcode\", F.regexp_replace(F.col(\"postcode\").cast(\"string\"), r\"\\s+\", \"\").cast(\"int\"))\n",
    "    .withColumn(\"pop\", F.regexp_replace(F.col(\"pop\").cast(\"string\"), r\"[,\\s]\", \"\").cast(\"double\"))\n",
    "    .withColumn(\"median_income\", F.regexp_replace(F.col(\"median_income\").cast(\"string\"), r\"[,\\s]\", \"\").cast(\"double\"))\n",
    "    .withColumn(\"mean_income\",   F.regexp_replace(F.col(\"mean_income\").cast(\"string\"), r\"[,\\s]\", \"\").cast(\"double\"))\n",
    "    .dropna(subset=[\"postcode\"])       \n",
    ")\n",
    "\n",
    "# If the same postal code appears in multiple lines in the file, take a stable aggregation (here, take the line with the largest population).\n",
    "w = F.row_number().over(Window.partitionBy(\"postcode\").orderBy(F.col(\"pop\").desc_nulls_last()))\n",
    "income_df = income_df.withColumn(\"rn\", w).filter(\"rn = 1\").drop(\"rn\")\n",
    "\n",
    "df_with_income = (\n",
    "    df_enriched_selected\n",
    "    .join(income_df, on=\"postcode\", how=\"left\")\n",
    ")"
   ]
  },
  {
   "cell_type": "code",
   "execution_count": 16,
   "id": "da024e92",
   "metadata": {},
   "outputs": [
    {
     "name": "stderr",
     "output_type": "stream",
     "text": [
      "[Stage 89:===================================================>      (8 + 1) / 9]\r"
     ]
    },
    {
     "name": "stdout",
     "output_type": "stream",
     "text": [
      "+--------+-------+-----------+------------+--------------------+------------------+-----+------+--------------+----------+--------+-------------+-----------+\n",
      "|postcode|user_id|consumer_id|merchant_abn|            order_id|      dollar_value|state|gender|order_datetime|year_month|     pop|median_income|mean_income|\n",
      "+--------+-------+-----------+------------+--------------------+------------------+-----+------+--------------+----------+--------+-------------+-----------+\n",
      "|    2530|  14937|       4932| 20985347699|0bed3901-f0a8-4aa...|11.197796935848178|  NSW|Female|    2021-09-09|   2021-09| 39938.0|      53068.0|    64132.0|\n",
      "|    2530|  14937|       4932| 48534649627|16733b8a-d91a-436...|214.89416304714123|  NSW|Female|    2022-02-07|   2022-02| 39938.0|      53068.0|    64132.0|\n",
      "|    2281|  11139|     505718| 45466221547|066d9342-9bc7-4be...|0.8459119362003027|  NSW|Female|    2022-07-12|   2022-07|126606.0|      55824.0|    69320.0|\n",
      "|    2281|  11139|     505718| 28687004922|3948f702-0668-4cf...| 19.65330763420652|  NSW|Female|    2022-07-08|   2022-07|126606.0|      55824.0|    69320.0|\n",
      "|    2281|  11139|     505718| 56762458844|0311717b-8b5b-410...|31.513502323509194|  NSW|Female|    2022-08-20|   2022-08|126606.0|      55824.0|    69320.0|\n",
      "|    2482|      9|     650435| 38523562929|09508e97-7b34-440...|152.81277878633023|  NSW|Female|    2021-04-07|   2021-04| 87664.0|      41768.0|    60033.0|\n",
      "|    5139|  22290|     948149| 66626020312|5285029c-7923-471...|41.024562352241276|   SA|  Male|    2022-07-08|   2022-07| 80493.0|      56483.0|    72104.0|\n",
      "|    3202|  11141|    1027466| 24070342853|3a2da1f2-0c6d-481...|132.81801174930692|  VIC|Female|    2022-07-08|   2022-07|123786.0|      62166.0|    77388.0|\n",
      "|    4551|  14946|    1111029| 49482116099|3b5f5e08-a733-482...|393.20347229745465|  QLD|  Male|    2022-01-14|   2022-01| 97297.0|      51144.0|    65505.0|\n",
      "|    4887|  18480|    1398491| 26001500989|498544c8-035b-49e...| 92.85491376081134|  QLD|  Male|    2021-07-26|   2021-07| 38204.0|      45305.5|    55504.0|\n",
      "+--------+-------+-----------+------------+--------------------+------------------+-----+------+--------------+----------+--------+-------------+-----------+\n",
      "only showing top 10 rows\n"
     ]
    },
    {
     "name": "stderr",
     "output_type": "stream",
     "text": [
      "                                                                                \r"
     ]
    }
   ],
   "source": [
    "df_with_income.show(10)"
   ]
  },
  {
   "cell_type": "code",
   "execution_count": 17,
   "id": "d849bbfa",
   "metadata": {},
   "outputs": [
    {
     "name": "stderr",
     "output_type": "stream",
     "text": [
      "[Stage 110:===============================>                         (5 + 4) / 9]\r"
     ]
    },
    {
     "name": "stdout",
     "output_type": "stream",
     "text": [
      "+-----+----+--------+-------+-----------+------------+------------------------------------+------------------+------+--------------+----------+--------+-------------+-----------+-------+--------+----------+--------------+-----------+\n",
      "|state|year|postcode|user_id|consumer_id|merchant_abn|order_id                            |dollar_value      |gender|order_datetime|year_month|pop     |median_income|mean_income|Assault|Homicide|Kidnapping|Sexual assault|Crime_Index|\n",
      "+-----+----+--------+-------+-----------+------------+------------------------------------+------------------+------+--------------+----------+--------+-------------+-----------+-------+--------+----------+--------------+-----------+\n",
      "|NSW  |2021|2530    |14937  |4932       |20985347699 |0bed3901-f0a8-4aa9-b286-2126cf021021|11.197796935848178|Female|2021-09-09    |2021-09   |39938.0 |53068.0      |64132.0    |798.9  |1.0     |2.6       |141.8         |428.3      |\n",
      "|NSW  |2022|2530    |14937  |4932       |48534649627 |16733b8a-d91a-436e-abce-02f27b990d1d|214.89416304714123|Female|2022-02-07    |2022-02   |39938.0 |53068.0      |64132.0    |852.0  |1.0     |2.6       |152.2         |456.9      |\n",
      "|NSW  |2022|2281    |11139  |505718     |45466221547 |066d9342-9bc7-4be2-80a0-3fad03dabc56|0.8459119362003027|Female|2022-07-12    |2022-07   |126606.0|55824.0      |69320.0    |852.0  |1.0     |2.6       |152.2         |456.9      |\n",
      "|NSW  |2022|2281    |11139  |505718     |28687004922 |3948f702-0668-4cff-bae1-393868859cfc|19.65330763420652 |Female|2022-07-08    |2022-07   |126606.0|55824.0      |69320.0    |852.0  |1.0     |2.6       |152.2         |456.9      |\n",
      "|NSW  |2022|2281    |11139  |505718     |56762458844 |0311717b-8b5b-410b-89f3-f6e984b54a30|31.513502323509194|Female|2022-08-20    |2022-08   |126606.0|55824.0      |69320.0    |852.0  |1.0     |2.6       |152.2         |456.9      |\n",
      "|NSW  |2021|2482    |9      |650435     |38523562929 |09508e97-7b34-440c-a8ee-9ae7e138421c|152.81277878633023|Female|2021-04-07    |2021-04   |87664.0 |41768.0      |60033.0    |798.9  |1.0     |2.6       |141.8         |428.3      |\n",
      "|SA   |2022|5139    |22290  |948149     |66626020312 |5285029c-7923-471a-9d6a-26c956b0a7bb|41.024562352241276|Male  |2022-07-08    |2022-07   |80493.0 |56483.0      |72104.0    |1083.8 |1.6     |2.3       |99.7          |562.4      |\n",
      "|VIC  |2022|3202    |11141  |1027466    |24070342853 |3a2da1f2-0c6d-4819-b922-6fcf6acfe499|132.81801174930692|Female|2022-07-08    |2022-07   |123786.0|62166.0      |77388.0    |0.0    |1.3     |2.7       |100.9         |20.7       |\n",
      "|QLD  |2022|4551    |14946  |1111029    |49482116099 |3b5f5e08-a733-482e-9e7f-0a4ef647e78b|393.20347229745465|Male  |2022-01-14    |2022-01   |97297.0 |51144.0      |65505.0    |983.3  |2.1     |0.8       |139.5         |520.0      |\n",
      "|QLD  |2021|4887    |18480  |1398491    |26001500989 |498544c8-035b-49e9-a8ab-2019dac5fc21|92.85491376081134 |Male  |2021-07-26    |2021-07   |38204.0 |45305.5      |55504.0    |0.0    |1.6     |0.5       |132.1         |26.8       |\n",
      "+-----+----+--------+-------+-----------+------------+------------------------------------+------------------+------+--------------+----------+--------+-------------+-----------+-------+--------+----------+--------------+-----------+\n",
      "only showing top 10 rows\n"
     ]
    },
    {
     "name": "stderr",
     "output_type": "stream",
     "text": [
      "                                                                                \r"
     ]
    }
   ],
   "source": [
    "### Insert the column with crime rate\n",
    "# Add the \"year\" field to the transaction data\n",
    "df_with_income = df_with_income.withColumn(\n",
    "    \"year\", F.year(\"order_datetime\")\n",
    ")\n",
    "\n",
    "# Unify the \"state\" column names\n",
    "crime_df = crime_df.withColumnRenamed(\"State\", \"state\")\n",
    "\n",
    "# Join the main table\n",
    "df_with_crime = (\n",
    "    df_with_income\n",
    "    .join(crime_df, on=[\"state\", \"year\"], how=\"left\")\n",
    ")\n",
    "\n",
    "# Preview and check \n",
    "df_with_crime.show(10, truncate=False)"
   ]
  },
  {
   "cell_type": "markdown",
   "id": "ba0e2ca3",
   "metadata": {},
   "source": [
    "### Join with consumer_profile"
   ]
  },
  {
   "cell_type": "code",
   "execution_count": 18,
   "id": "2fead564",
   "metadata": {},
   "outputs": [],
   "source": [
    "### Join with Consumer Level\n",
    "df_with_consumer = (\n",
    "    df_with_crime\n",
    "    .join(consumer_level, on=\"consumer_id\", how=\"left\")\n",
    ")\n"
   ]
  },
  {
   "cell_type": "code",
   "execution_count": 19,
   "id": "db758ff0",
   "metadata": {},
   "outputs": [
    {
     "name": "stderr",
     "output_type": "stream",
     "text": [
      "[Stage 132:>                                                        (0 + 8) / 9]\r"
     ]
    },
    {
     "name": "stdout",
     "output_type": "stream",
     "text": [
      "+-----------+-----+----+--------+-------+------------+------------------------------------+------------------+------+--------------+----------+--------+-------------+-----------+-------+--------+----------+--------------+-----------+---------+------------------+-------+\n",
      "|consumer_id|state|year|postcode|user_id|merchant_abn|order_id                            |dollar_value      |gender|order_datetime|year_month|pop     |median_income|mean_income|Assault|Homicide|Kidnapping|Sexual assault|Crime_Index|c_user_id|c_fraud_prob      |c_state|\n",
      "+-----------+-----+----+--------+-------+------------+------------------------------------+------------------+------+--------------+----------+--------+-------------+-----------+-------+--------+----------+--------------+-----------+---------+------------------+-------+\n",
      "|4932       |NSW  |2021|2530    |14937  |20985347699 |0bed3901-f0a8-4aa9-b286-2126cf021021|11.197796935848178|Female|2021-09-09    |2021-09   |39938.0 |53068.0      |64132.0    |798.9  |1.0     |2.6       |141.8         |428.3      |14937    |9.52491706946706  |NSW    |\n",
      "|4932       |NSW  |2022|2530    |14937  |48534649627 |16733b8a-d91a-436e-abce-02f27b990d1d|214.89416304714123|Female|2022-02-07    |2022-02   |39938.0 |53068.0      |64132.0    |852.0  |1.0     |2.6       |152.2         |456.9      |14937    |9.52491706946706  |NSW    |\n",
      "|505718     |NSW  |2022|2281    |11139  |45466221547 |066d9342-9bc7-4be2-80a0-3fad03dabc56|0.8459119362003027|Female|2022-07-12    |2022-07   |126606.0|55824.0      |69320.0    |852.0  |1.0     |2.6       |152.2         |456.9      |11139    |17.769677285562437|NSW    |\n",
      "|505718     |NSW  |2022|2281    |11139  |28687004922 |3948f702-0668-4cff-bae1-393868859cfc|19.65330763420652 |Female|2022-07-08    |2022-07   |126606.0|55824.0      |69320.0    |852.0  |1.0     |2.6       |152.2         |456.9      |11139    |17.769677285562437|NSW    |\n",
      "|505718     |NSW  |2022|2281    |11139  |56762458844 |0311717b-8b5b-410b-89f3-f6e984b54a30|31.513502323509194|Female|2022-08-20    |2022-08   |126606.0|55824.0      |69320.0    |852.0  |1.0     |2.6       |152.2         |456.9      |11139    |17.769677285562437|NSW    |\n",
      "|650435     |NSW  |2021|2482    |9      |38523562929 |09508e97-7b34-440c-a8ee-9ae7e138421c|152.81277878633023|Female|2021-04-07    |2021-04   |87664.0 |41768.0      |60033.0    |798.9  |1.0     |2.6       |141.8         |428.3      |9        |10.58055311139687 |NSW    |\n",
      "|948149     |SA   |2022|5139    |22290  |66626020312 |5285029c-7923-471a-9d6a-26c956b0a7bb|41.024562352241276|Male  |2022-07-08    |2022-07   |80493.0 |56483.0      |72104.0    |1083.8 |1.6     |2.3       |99.7          |562.4      |22290    |8.848401761937838 |SA     |\n",
      "|1027466    |VIC  |2022|3202    |11141  |24070342853 |3a2da1f2-0c6d-4819-b922-6fcf6acfe499|132.81801174930692|Female|2022-07-08    |2022-07   |123786.0|62166.0      |77388.0    |0.0    |1.3     |2.7       |100.9         |20.7       |11141    |18.51900673047647 |VIC    |\n",
      "|1111029    |QLD  |2022|4551    |14946  |49482116099 |3b5f5e08-a733-482e-9e7f-0a4ef647e78b|393.20347229745465|Male  |2022-01-14    |2022-01   |97297.0 |51144.0      |65505.0    |983.3  |2.1     |0.8       |139.5         |520.0      |14946    |8.706572799265064 |QLD    |\n",
      "|1398491    |QLD  |2021|4887    |18480  |26001500989 |498544c8-035b-49e9-a8ab-2019dac5fc21|92.85491376081134 |Male  |2021-07-26    |2021-07   |38204.0 |45305.5      |55504.0    |0.0    |1.6     |0.5       |132.1         |26.8       |18480    |8.29986327056335  |QLD    |\n",
      "+-----------+-----+----+--------+-------+------------+------------------------------------+------------------+------+--------------+----------+--------+-------------+-----------+-------+--------+----------+--------------+-----------+---------+------------------+-------+\n",
      "only showing top 10 rows\n"
     ]
    },
    {
     "name": "stderr",
     "output_type": "stream",
     "text": [
      "                                                                                \r"
     ]
    }
   ],
   "source": [
    "# Preview\n",
    "df_with_consumer.show(10, truncate=False)"
   ]
  },
  {
   "cell_type": "markdown",
   "id": "007d1f05",
   "metadata": {},
   "source": [
    "### Join with merrcant_profile"
   ]
  },
  {
   "cell_type": "code",
   "execution_count": 20,
   "id": "0f3ab6d3",
   "metadata": {},
   "outputs": [],
   "source": [
    "### Join with Merchant Level \n",
    "df_with_merchant = (\n",
    "    df_with_consumer\n",
    "    .join(merchant_level, on=\"merchant_abn\", how=\"left\")\n",
    ")"
   ]
  },
  {
   "cell_type": "code",
   "execution_count": 21,
   "id": "b94dfc8e",
   "metadata": {},
   "outputs": [],
   "source": [
    "# Merge the two order_date columns\n",
    "df_final = (\n",
    "    df_with_merchant\n",
    "    .withColumn(\"order_date\", F.coalesce(F.col(\"order_date\"), F.col(\"order_datetime\")))\n",
    "    .drop(\"order_datetime\")   # Delete redundant columns to avoid repetition\n",
    ")\n",
    "\n"
   ]
  },
  {
   "cell_type": "code",
   "execution_count": 22,
   "id": "cf7fbb2d",
   "metadata": {},
   "outputs": [
    {
     "name": "stderr",
     "output_type": "stream",
     "text": [
      "25/09/23 13:15:58 WARN SparkStringUtils: Truncated the string representation of a plan since it was too large. This behavior can be adjusted by setting 'spark.sql.debug.maxToStringFields'.\n",
      "                                                                                \r"
     ]
    },
    {
     "name": "stdout",
     "output_type": "stream",
     "text": [
      "+------------+-----------+-----+----+--------+-------+------------------------------------+------------------+------+--------------+----------+--------+-------------+-----------+-------+--------+----------+--------------+-----------+---------+------------------+-------+----------+------------------+-----------------------------+-------------+-----------+\n",
      "|merchant_abn|consumer_id|state|year|postcode|user_id|order_id                            |dollar_value      |gender|order_datetime|year_month|pop     |median_income|mean_income|Assault|Homicide|Kidnapping|Sexual assault|Crime_Index|c_user_id|c_fraud_prob      |c_state|order_date|m_fraud_prob      |m_name                       |m_category   |m_take_rate|\n",
      "+------------+-----------+-----+----+--------+-------+------------------------------------+------------------+------+--------------+----------+--------+-------------+-----------+-------+--------+----------+--------------+-----------+---------+------------------+-------+----------+------------------+-----------------------------+-------------+-----------+\n",
      "|20985347699 |4932       |NSW  |2021|2530    |14937  |0bed3901-f0a8-4aa9-b286-2126cf021021|11.197796935848178|Female|2021-09-09    |2021-09   |39938.0 |53068.0      |64132.0    |798.9  |1.0     |2.6       |141.8         |428.3      |14937    |9.52491706946706  |NSW    |NULL      |NULL              |Semper Tellus PC             |Other        |6.1        |\n",
      "|48534649627 |4932       |NSW  |2022|2530    |14937  |16733b8a-d91a-436e-abce-02f27b990d1d|214.89416304714123|Female|2022-02-07    |2022-02   |39938.0 |53068.0      |64132.0    |852.0  |1.0     |2.6       |152.2         |456.9      |14937    |9.52491706946706  |NSW    |2021-11-26|29.005907009831038|Dignissim Maecenas Foundation|Other        |6.64       |\n",
      "|48534649627 |4932       |NSW  |2022|2530    |14937  |16733b8a-d91a-436e-abce-02f27b990d1d|214.89416304714123|Female|2022-02-07    |2022-02   |39938.0 |53068.0      |64132.0    |852.0  |1.0     |2.6       |152.2         |456.9      |14937    |9.52491706946706  |NSW    |2021-11-29|28.36052168812278 |Dignissim Maecenas Foundation|Other        |6.64       |\n",
      "|48534649627 |4932       |NSW  |2022|2530    |14937  |16733b8a-d91a-436e-abce-02f27b990d1d|214.89416304714123|Female|2022-02-07    |2022-02   |39938.0 |53068.0      |64132.0    |852.0  |1.0     |2.6       |152.2         |456.9      |14937    |9.52491706946706  |NSW    |2021-11-27|28.337370196230054|Dignissim Maecenas Foundation|Other        |6.64       |\n",
      "|45466221547 |505718     |NSW  |2022|2281    |11139  |066d9342-9bc7-4be2-80a0-3fad03dabc56|0.8459119362003027|Female|2022-07-12    |2022-07   |126606.0|55824.0      |69320.0    |852.0  |1.0     |2.6       |152.2         |456.9      |11139    |17.769677285562437|NSW    |NULL      |NULL              |Eu LLC                       |Software & IT|3.49       |\n",
      "|28687004922 |505718     |NSW  |2022|2281    |11139  |3948f702-0668-4cff-bae1-393868859cfc|19.65330763420652 |Female|2022-07-08    |2022-07   |126606.0|55824.0      |69320.0    |852.0  |1.0     |2.6       |152.2         |456.9      |11139    |17.769677285562437|NSW    |NULL      |NULL              |Eget Company                 |Software & IT|3.88       |\n",
      "|56762458844 |505718     |NSW  |2022|2281    |11139  |0311717b-8b5b-410b-89f3-f6e984b54a30|31.513502323509194|Female|2022-08-20    |2022-08   |126606.0|55824.0      |69320.0    |852.0  |1.0     |2.6       |152.2         |456.9      |11139    |17.769677285562437|NSW    |NULL      |NULL              |In Inc.                      |Other        |6.08       |\n",
      "|38523562929 |650435     |NSW  |2021|2482    |9      |09508e97-7b34-440c-a8ee-9ae7e138421c|152.81277878633023|Female|2021-04-07    |2021-04   |87664.0 |41768.0      |60033.0    |798.9  |1.0     |2.6       |141.8         |428.3      |9        |10.58055311139687 |NSW    |NULL      |NULL              |Sed Dictum Corp.             |Other        |6.56       |\n",
      "|66626020312 |948149     |SA   |2022|5139    |22290  |5285029c-7923-471a-9d6a-26c956b0a7bb|41.024562352241276|Male  |2022-07-08    |2022-07   |80493.0 |56483.0      |72104.0    |1083.8 |1.6     |2.3       |99.7          |562.4      |22290    |8.848401761937838 |SA     |NULL      |NULL              |In Magna Incorporated        |Other        |2.46       |\n",
      "|24070342853 |1027466    |VIC  |2022|3202    |11141  |3a2da1f2-0c6d-4819-b922-6fcf6acfe499|132.81801174930692|Female|2022-07-08    |2022-07   |123786.0|62166.0      |77388.0    |0.0    |1.3     |2.7       |100.9         |20.7       |11141    |18.51900673047647 |VIC    |NULL      |NULL              |Ligula Tortor PC             |Other        |4.41       |\n",
      "+------------+-----------+-----+----+--------+-------+------------------------------------+------------------+------+--------------+----------+--------+-------------+-----------+-------+--------+----------+--------------+-----------+---------+------------------+-------+----------+------------------+-----------------------------+-------------+-----------+\n",
      "only showing top 10 rows\n"
     ]
    },
    {
     "name": "stderr",
     "output_type": "stream",
     "text": [
      "                                                                                \r"
     ]
    },
    {
     "name": "stdout",
     "output_type": "stream",
     "text": [
      "Original transaction quantity: 14195505\n"
     ]
    },
    {
     "name": "stderr",
     "output_type": "stream",
     "text": [
      "[Stage 206:>                                                        (0 + 8) / 9]\r"
     ]
    },
    {
     "name": "stdout",
     "output_type": "stream",
     "text": [
      "The number of transactions after the merger: 14494630\n"
     ]
    },
    {
     "name": "stderr",
     "output_type": "stream",
     "text": [
      "                                                                                \r"
     ]
    }
   ],
   "source": [
    "# Preview and check\n",
    "df_with_merchant.show(10, truncate=False)\n",
    "\n",
    "print(\"Original transaction quantity:\", df_with_consumer.count())\n",
    "print(\"The number of transactions after the merger:\", df_with_merchant.count())"
   ]
  },
  {
   "cell_type": "code",
   "execution_count": 23,
   "id": "69fe5fc9",
   "metadata": {},
   "outputs": [
    {
     "name": "stdout",
     "output_type": "stream",
     "text": [
      "root\n",
      " |-- merchant_abn: long (nullable = true)\n",
      " |-- consumer_id: long (nullable = true)\n",
      " |-- state: string (nullable = true)\n",
      " |-- year: integer (nullable = true)\n",
      " |-- postcode: integer (nullable = true)\n",
      " |-- user_id: long (nullable = true)\n",
      " |-- order_id: string (nullable = true)\n",
      " |-- dollar_value: double (nullable = true)\n",
      " |-- gender: string (nullable = true)\n",
      " |-- order_datetime: date (nullable = true)\n",
      " |-- year_month: string (nullable = true)\n",
      " |-- pop: double (nullable = true)\n",
      " |-- median_income: double (nullable = true)\n",
      " |-- mean_income: double (nullable = true)\n",
      " |-- assault: double (nullable = true)\n",
      " |-- homicide: double (nullable = true)\n",
      " |-- kidnapping: double (nullable = true)\n",
      " |-- sexual assault: double (nullable = true)\n",
      " |-- crime_index: double (nullable = true)\n",
      " |-- c_fraud_prob: double (nullable = true)\n",
      " |-- m_fraud_prob: double (nullable = true)\n",
      " |-- m_name: string (nullable = true)\n",
      " |-- m_category: string (nullable = true)\n",
      " |-- m_take_rate: double (nullable = true)\n",
      "\n"
     ]
    },
    {
     "name": "stderr",
     "output_type": "stream",
     "text": [
      "[Stage 225:==================================================>      (8 + 1) / 9]\r"
     ]
    },
    {
     "name": "stdout",
     "output_type": "stream",
     "text": [
      "+------------+-----------+-----+----+--------+-------+------------------------------------+------------------+------+--------------+----------+--------+-------------+-----------+-------+--------+----------+--------------+-----------+------------------+------------------+-----------------------------+-------------+-----------+\n",
      "|merchant_abn|consumer_id|state|year|postcode|user_id|order_id                            |dollar_value      |gender|order_datetime|year_month|pop     |median_income|mean_income|assault|homicide|kidnapping|sexual assault|crime_index|c_fraud_prob      |m_fraud_prob      |m_name                       |m_category   |m_take_rate|\n",
      "+------------+-----------+-----+----+--------+-------+------------------------------------+------------------+------+--------------+----------+--------+-------------+-----------+-------+--------+----------+--------------+-----------+------------------+------------------+-----------------------------+-------------+-----------+\n",
      "|20985347699 |4932       |NSW  |2021|2530    |14937  |0bed3901-f0a8-4aa9-b286-2126cf021021|11.197796935848178|Female|2021-09-09    |2021-09   |39938.0 |53068.0      |64132.0    |798.9  |1.0     |2.6       |141.8         |428.3      |9.52491706946706  |NULL              |Semper Tellus PC             |Other        |6.1        |\n",
      "|48534649627 |4932       |NSW  |2022|2530    |14937  |16733b8a-d91a-436e-abce-02f27b990d1d|214.89416304714123|Female|2022-02-07    |2022-02   |39938.0 |53068.0      |64132.0    |852.0  |1.0     |2.6       |152.2         |456.9      |9.52491706946706  |29.005907009831038|Dignissim Maecenas Foundation|Other        |6.64       |\n",
      "|48534649627 |4932       |NSW  |2022|2530    |14937  |16733b8a-d91a-436e-abce-02f27b990d1d|214.89416304714123|Female|2022-02-07    |2022-02   |39938.0 |53068.0      |64132.0    |852.0  |1.0     |2.6       |152.2         |456.9      |9.52491706946706  |28.36052168812278 |Dignissim Maecenas Foundation|Other        |6.64       |\n",
      "|48534649627 |4932       |NSW  |2022|2530    |14937  |16733b8a-d91a-436e-abce-02f27b990d1d|214.89416304714123|Female|2022-02-07    |2022-02   |39938.0 |53068.0      |64132.0    |852.0  |1.0     |2.6       |152.2         |456.9      |9.52491706946706  |28.337370196230054|Dignissim Maecenas Foundation|Other        |6.64       |\n",
      "|45466221547 |505718     |NSW  |2022|2281    |11139  |066d9342-9bc7-4be2-80a0-3fad03dabc56|0.8459119362003027|Female|2022-07-12    |2022-07   |126606.0|55824.0      |69320.0    |852.0  |1.0     |2.6       |152.2         |456.9      |17.769677285562437|NULL              |Eu LLC                       |Software & IT|3.49       |\n",
      "|28687004922 |505718     |NSW  |2022|2281    |11139  |3948f702-0668-4cff-bae1-393868859cfc|19.65330763420652 |Female|2022-07-08    |2022-07   |126606.0|55824.0      |69320.0    |852.0  |1.0     |2.6       |152.2         |456.9      |17.769677285562437|NULL              |Eget Company                 |Software & IT|3.88       |\n",
      "|56762458844 |505718     |NSW  |2022|2281    |11139  |0311717b-8b5b-410b-89f3-f6e984b54a30|31.513502323509194|Female|2022-08-20    |2022-08   |126606.0|55824.0      |69320.0    |852.0  |1.0     |2.6       |152.2         |456.9      |17.769677285562437|NULL              |In Inc.                      |Other        |6.08       |\n",
      "|38523562929 |650435     |NSW  |2021|2482    |9      |09508e97-7b34-440c-a8ee-9ae7e138421c|152.81277878633023|Female|2021-04-07    |2021-04   |87664.0 |41768.0      |60033.0    |798.9  |1.0     |2.6       |141.8         |428.3      |10.58055311139687 |NULL              |Sed Dictum Corp.             |Other        |6.56       |\n",
      "|66626020312 |948149     |SA   |2022|5139    |22290  |5285029c-7923-471a-9d6a-26c956b0a7bb|41.024562352241276|Male  |2022-07-08    |2022-07   |80493.0 |56483.0      |72104.0    |1083.8 |1.6     |2.3       |99.7          |562.4      |8.848401761937838 |NULL              |In Magna Incorporated        |Other        |2.46       |\n",
      "|24070342853 |1027466    |VIC  |2022|3202    |11141  |3a2da1f2-0c6d-4819-b922-6fcf6acfe499|132.81801174930692|Female|2022-07-08    |2022-07   |123786.0|62166.0      |77388.0    |0.0    |1.3     |2.7       |100.9         |20.7       |18.51900673047647 |NULL              |Ligula Tortor PC             |Other        |4.41       |\n",
      "+------------+-----------+-----+----+--------+-------+------------------------------------+------------------+------+--------------+----------+--------+-------------+-----------+-------+--------+----------+--------------+-----------+------------------+------------------+-----------------------------+-------------+-----------+\n",
      "only showing top 10 rows\n"
     ]
    },
    {
     "name": "stderr",
     "output_type": "stream",
     "text": [
      "                                                                                \r"
     ]
    }
   ],
   "source": [
    "# Delete duplicate columns\n",
    "df_cleaned = df_with_merchant.drop(\n",
    "    \"c_user_id\",     \n",
    "    \"c_gender\",      \n",
    "    \"c_state\",      \n",
    "    \"c_postcode\",   \n",
    "    \"order_date\"   \n",
    ")\n",
    "\n",
    "# Lowercase all the columns name\n",
    "df_cleaned = df_cleaned.toDF(*[c.lower() for c in df_cleaned.columns])\n",
    "\n",
    "\n",
    "# Preview the result after cleanings\n",
    "df_cleaned.printSchema()\n",
    "df_cleaned.show(10, truncate=False)"
   ]
  },
  {
   "cell_type": "markdown",
   "id": "0807e5ca",
   "metadata": {},
   "source": [
    "# Final Cleaning & Preprocessing"
   ]
  },
  {
   "cell_type": "code",
   "execution_count": 24,
   "id": "91a22ce5",
   "metadata": {},
   "outputs": [
    {
     "name": "stderr",
     "output_type": "stream",
     "text": [
      "                                                                                \r"
     ]
    },
    {
     "name": "stdout",
     "output_type": "stream",
     "text": [
      "+--------------+----------+----------+\n",
      "|column        |null_count|null_ratio|\n",
      "+--------------+----------+----------+\n",
      "|merchant_abn  |0         |0.0       |\n",
      "|consumer_id   |0         |0.0       |\n",
      "|state         |0         |0.0       |\n",
      "|year          |0         |0.0       |\n",
      "|postcode      |0         |0.0       |\n",
      "|user_id       |0         |0.0       |\n",
      "|order_id      |0         |0.0       |\n",
      "|dollar_value  |0         |0.0       |\n",
      "|gender        |0         |0.0       |\n",
      "|order_datetime|0         |0.0       |\n",
      "|year_month    |0         |0.0       |\n",
      "|pop           |2404455   |0.1659    |\n",
      "|median_income |2404455   |0.1659    |\n",
      "|mean_income   |2404455   |0.1659    |\n",
      "|assault       |0         |0.0       |\n",
      "|homicide      |0         |0.0       |\n",
      "|kidnapping    |0         |0.0       |\n",
      "|sexual assault|0         |0.0       |\n",
      "|crime_index   |0         |0.0       |\n",
      "|c_fraud_prob  |2376259   |0.1639    |\n",
      "|m_fraud_prob  |13611959  |0.9391    |\n",
      "|m_name        |580830    |0.0401    |\n",
      "|m_category    |580830    |0.0401    |\n",
      "|m_take_rate   |580830    |0.0401    |\n",
      "+--------------+----------+----------+\n",
      "\n"
     ]
    }
   ],
   "source": [
    "# Total rows\n",
    "total_rows = df_cleaned.count()\n",
    "\n",
    "# Count the number and proportion of null in each column\n",
    "null_summary = df_cleaned.select([\n",
    "    F.count(F.when(F.col(c).isNull(), c)).alias(c) for c in df_cleaned.columns\n",
    "]).collect()[0].asDict()\n",
    "\n",
    "# Converting it into a DataFrame for display is more intuitive\n",
    "null_df = spark.createDataFrame([\n",
    "    (col, null_summary[col], round(null_summary[col]/total_rows, 4)) \n",
    "    for col in df_cleaned.columns\n",
    "], [\"column\", \"null_count\", \"null_ratio\"])\n",
    "\n",
    "null_df.show(30, truncate=False)"
   ]
  },
  {
   "cell_type": "markdown",
   "id": "be218877",
   "metadata": {},
   "source": [
    "### Consumer Fruad Prob"
   ]
  },
  {
   "cell_type": "code",
   "execution_count": null,
   "id": "6ef46299",
   "metadata": {},
   "outputs": [
    {
     "name": "stderr",
     "output_type": "stream",
     "text": [
      "[Stage 304:===================>                                     (3 + 6) / 9]\r"
     ]
    },
    {
     "name": "stdout",
     "output_type": "stream",
     "text": [
      "+----------+------------------+--------------------+-------------------+\n",
      "|m_category|c_fraud_prob      |c_fraud_prob_missing|c_fraud_prob_filled|\n",
      "+----------+------------------+--------------------+-------------------+\n",
      "|NULL      |30.335537391618317|0                   |30.335537391618317 |\n",
      "|NULL      |30.335537391618317|0                   |30.335537391618317 |\n",
      "|NULL      |30.335537391618317|0                   |30.335537391618317 |\n",
      "|NULL      |30.335537391618317|0                   |30.335537391618317 |\n",
      "|NULL      |30.335537391618317|0                   |30.335537391618317 |\n",
      "|NULL      |30.335537391618317|0                   |30.335537391618317 |\n",
      "|NULL      |30.335537391618317|0                   |30.335537391618317 |\n",
      "|NULL      |30.335537391618317|0                   |30.335537391618317 |\n",
      "|NULL      |30.335537391618317|0                   |30.335537391618317 |\n",
      "|NULL      |30.335537391618317|0                   |30.335537391618317 |\n",
      "|NULL      |30.335537391618317|0                   |30.335537391618317 |\n",
      "|NULL      |30.335537391618317|0                   |30.335537391618317 |\n",
      "|NULL      |30.335537391618317|0                   |30.335537391618317 |\n",
      "|NULL      |30.335537391618317|0                   |30.335537391618317 |\n",
      "|NULL      |30.335537391618317|0                   |30.335537391618317 |\n",
      "|NULL      |30.335537391618317|0                   |30.335537391618317 |\n",
      "|NULL      |30.335537391618317|0                   |30.335537391618317 |\n",
      "|NULL      |30.335537391618317|0                   |30.335537391618317 |\n",
      "|NULL      |30.335537391618317|0                   |30.335537391618317 |\n",
      "|NULL      |30.335537391618317|0                   |30.335537391618317 |\n",
      "|NULL      |30.335537391618317|0                   |30.335537391618317 |\n",
      "|NULL      |30.335537391618317|0                   |30.335537391618317 |\n",
      "|NULL      |30.335537391618317|0                   |30.335537391618317 |\n",
      "|NULL      |30.335537391618317|0                   |30.335537391618317 |\n",
      "|NULL      |30.335537391618317|0                   |30.335537391618317 |\n",
      "|NULL      |30.335537391618317|0                   |30.335537391618317 |\n",
      "|NULL      |30.335537391618317|0                   |30.335537391618317 |\n",
      "|NULL      |19.65968404776971 |0                   |19.65968404776971  |\n",
      "|NULL      |19.65968404776971 |0                   |19.65968404776971  |\n",
      "|NULL      |19.65968404776971 |0                   |19.65968404776971  |\n",
      "|NULL      |19.65968404776971 |0                   |19.65968404776971  |\n",
      "|NULL      |19.65968404776971 |0                   |19.65968404776971  |\n",
      "|NULL      |19.65968404776971 |0                   |19.65968404776971  |\n",
      "|NULL      |19.65968404776971 |0                   |19.65968404776971  |\n",
      "|NULL      |19.65968404776971 |0                   |19.65968404776971  |\n",
      "|NULL      |19.65968404776971 |0                   |19.65968404776971  |\n",
      "|NULL      |19.65968404776971 |0                   |19.65968404776971  |\n",
      "|NULL      |19.65968404776971 |0                   |19.65968404776971  |\n",
      "|NULL      |19.65968404776971 |0                   |19.65968404776971  |\n",
      "|NULL      |19.65968404776971 |0                   |19.65968404776971  |\n",
      "|NULL      |19.65968404776971 |0                   |19.65968404776971  |\n",
      "|NULL      |19.65968404776971 |0                   |19.65968404776971  |\n",
      "|NULL      |19.65968404776971 |0                   |19.65968404776971  |\n",
      "|NULL      |19.65968404776971 |0                   |19.65968404776971  |\n",
      "|NULL      |19.65968404776971 |0                   |19.65968404776971  |\n",
      "|NULL      |19.65968404776971 |0                   |19.65968404776971  |\n",
      "|NULL      |19.65968404776971 |0                   |19.65968404776971  |\n",
      "|NULL      |19.65968404776971 |0                   |19.65968404776971  |\n",
      "|NULL      |67.17823868658742 |0                   |67.17823868658742  |\n",
      "|NULL      |67.17823868658742 |0                   |67.17823868658742  |\n",
      "+----------+------------------+--------------------+-------------------+\n",
      "only showing top 50 rows\n"
     ]
    },
    {
     "name": "stderr",
     "output_type": "stream",
     "text": [
      "                                                                                \r"
     ]
    }
   ],
   "source": [
    "### Fills the null value of c_fraud_prob by m_category groups\n",
    "\n",
    "# Add missing tags\n",
    "df_filled = df_cleaned.withColumn(\n",
    "    \"c_fraud_prob_missing\", \n",
    "    F.col(\"c_fraud_prob\").isNull().cast(\"int\")\n",
    ")\n",
    "\n",
    "# Calculate the median of the groups by industry category\n",
    "w = Window.partitionBy(\"m_category\")\n",
    "\n",
    "df_filled = df_filled.withColumn(\n",
    "    \"grp_median\", \n",
    "    F.expr(\"percentile_approx(c_fraud_prob, 0.5)\").over(w)\n",
    ")\n",
    "\n",
    "# Fill in the gaps with the median of the groups\n",
    "df_filled = df_filled.withColumn(\n",
    "    \"c_fraud_prob_filled\",\n",
    "    F.when(F.col(\"c_fraud_prob\").isNull(), F.col(\"grp_median\"))\n",
    "     .otherwise(F.col(\"c_fraud_prob\"))\n",
    ").drop(\"grp_median\")\n",
    "\n",
    "# Preview and check\n",
    "df_filled.select(\n",
    "    \"m_category\", \"c_fraud_prob\", \"c_fraud_prob_missing\", \"c_fraud_prob_filled\"\n",
    ").show(50, truncate=False)"
   ]
  },
  {
   "cell_type": "code",
   "execution_count": 26,
   "id": "cfdcaa7a",
   "metadata": {},
   "outputs": [
    {
     "name": "stderr",
     "output_type": "stream",
     "text": [
      "[Stage 328:===============================================>       (13 + 2) / 15]\r"
     ]
    },
    {
     "name": "stdout",
     "output_type": "stream",
     "text": [
      "+------------+-----------+-----+----+--------+-------+--------------------+------------------+------+--------------+----------+--------+-------------+-----------+-------+--------+----------+--------------+-----------+------------------+------------+------+----------+-----------+--------------------+-------------------+\n",
      "|merchant_abn|consumer_id|state|year|postcode|user_id|            order_id|      dollar_value|gender|order_datetime|year_month|     pop|median_income|mean_income|assault|homicide|kidnapping|sexual assault|crime_index|      c_fraud_prob|m_fraud_prob|m_name|m_category|m_take_rate|c_fraud_prob_missing|c_fraud_prob_filled|\n",
      "+------------+-----------+-----+----+--------+-------+--------------------+------------------+------+--------------+----------+--------+-------------+-----------+-------+--------+----------+--------------+-----------+------------------+------------+------+----------+-----------+--------------------+-------------------+\n",
      "| 33604812025|        551|  NSW|2022|    2021|   3471|f381a114-18d7-4c7...|219.94202939977228|  Male|    2022-05-25|   2022-05|131814.5|      73858.0|   132957.5|  852.0|     1.0|       2.6|         152.2|      456.9|30.335537391618317|        NULL|  NULL|      NULL|       NULL|                   0| 30.335537391618317|\n",
      "| 91848160033|        551|  NSW|2022|    2021|   3471|cc5b1956-05c2-463...| 85.50801974492987|  Male|    2022-07-28|   2022-07|131814.5|      73858.0|   132957.5|  852.0|     1.0|       2.6|         152.2|      456.9|30.335537391618317|        NULL|  NULL|      NULL|       NULL|                   0| 30.335537391618317|\n",
      "| 20562405782|        551|  NSW|2022|    2021|   3471|603b9cc0-3bc8-4ac...|30.863855908292166|  Male|    2022-02-06|   2022-02|131814.5|      73858.0|   132957.5|  852.0|     1.0|       2.6|         152.2|      456.9|30.335537391618317|        NULL|  NULL|      NULL|       NULL|                   0| 30.335537391618317|\n",
      "| 83893827922|        551|  NSW|2021|    2021|   3471|ee61b3c1-24a1-43a...|3602.7688637576885|  Male|    2021-05-14|   2021-05|131814.5|      73858.0|   132957.5|  798.9|     1.0|       2.6|         141.8|      428.3|30.335537391618317|        NULL|  NULL|      NULL|       NULL|                   0| 30.335537391618317|\n",
      "| 77698107389|        551|  NSW|2021|    2021|   3471|aaea14f5-48e8-4ef...| 90.16967584866273|  Male|    2021-08-21|   2021-08|131814.5|      73858.0|   132957.5|  798.9|     1.0|       2.6|         141.8|      428.3|30.335537391618317|        NULL|  NULL|      NULL|       NULL|                   0| 30.335537391618317|\n",
      "| 32234779638|        551|  NSW|2021|    2021|   3471|b9423d5c-9083-4e6...| 80.46099153654205|  Male|    2021-07-15|   2021-07|131814.5|      73858.0|   132957.5|  798.9|     1.0|       2.6|         141.8|      428.3|30.335537391618317|        NULL|  NULL|      NULL|       NULL|                   0| 30.335537391618317|\n",
      "| 32234779638|        551|  NSW|2021|    2021|   3471|c7bb1b71-56cf-4c3...| 111.4694738689615|  Male|    2021-09-22|   2021-09|131814.5|      73858.0|   132957.5|  798.9|     1.0|       2.6|         141.8|      428.3|30.335537391618317|        NULL|  NULL|      NULL|       NULL|                   0| 30.335537391618317|\n",
      "| 32234779638|        551|  NSW|2021|    2021|   3471|90634f84-5825-4e8...|  94.0111506109389|  Male|    2021-03-26|   2021-03|131814.5|      73858.0|   132957.5|  798.9|     1.0|       2.6|         141.8|      428.3|30.335537391618317|        NULL|  NULL|      NULL|       NULL|                   0| 30.335537391618317|\n",
      "| 32234779638|        551|  NSW|2021|    2021|   3471|c11b97f1-7514-43f...|112.53182597394392|  Male|    2021-05-10|   2021-05|131814.5|      73858.0|   132957.5|  798.9|     1.0|       2.6|         141.8|      428.3|30.335537391618317|        NULL|  NULL|      NULL|       NULL|                   0| 30.335537391618317|\n",
      "| 86083695354|        551|  NSW|2021|    2021|   3471|4b88dd76-a4e6-4cf...| 1053.136029639563|  Male|    2021-09-04|   2021-09|131814.5|      73858.0|   132957.5|  798.9|     1.0|       2.6|         141.8|      428.3|30.335537391618317|        NULL|  NULL|      NULL|       NULL|                   0| 30.335537391618317|\n",
      "| 32234779638|        551|  NSW|2022|    2021|   3471|3260eb59-459c-4e0...|33.561037315562785|  Male|    2022-07-19|   2022-07|131814.5|      73858.0|   132957.5|  852.0|     1.0|       2.6|         152.2|      456.9|30.335537391618317|        NULL|  NULL|      NULL|       NULL|                   0| 30.335537391618317|\n",
      "| 42211422632|        551|  NSW|2022|    2021|   3471|c315e576-1e6c-428...|  45.9688986213006|  Male|    2022-03-21|   2022-03|131814.5|      73858.0|   132957.5|  852.0|     1.0|       2.6|         152.2|      456.9|30.335537391618317|        NULL|  NULL|      NULL|       NULL|                   0| 30.335537391618317|\n",
      "| 32234779638|        551|  NSW|2021|    2021|   3471|81f91554-50b0-453...|37.350264866283766|  Male|    2021-07-05|   2021-07|131814.5|      73858.0|   132957.5|  798.9|     1.0|       2.6|         141.8|      428.3|30.335537391618317|        NULL|  NULL|      NULL|       NULL|                   0| 30.335537391618317|\n",
      "| 29566626791|        551|  NSW|2021|    2021|   3471|e85a079e-277b-479...|10.603513879219523|  Male|    2021-08-29|   2021-08|131814.5|      73858.0|   132957.5|  798.9|     1.0|       2.6|         141.8|      428.3|30.335537391618317|        NULL|  NULL|      NULL|       NULL|                   0| 30.335537391618317|\n",
      "| 42211422632|        551|  NSW|2021|    2021|   3471|f527feba-6fd2-41c...|121.18980553932941|  Male|    2021-10-04|   2021-10|131814.5|      73858.0|   132957.5|  798.9|     1.0|       2.6|         141.8|      428.3|30.335537391618317|        NULL|  NULL|      NULL|       NULL|                   0| 30.335537391618317|\n",
      "| 32234779638|        551|  NSW|2022|    2021|   3471|607fc622-7788-4da...|156.45325079530602|  Male|    2022-04-07|   2022-04|131814.5|      73858.0|   132957.5|  852.0|     1.0|       2.6|         152.2|      456.9|30.335537391618317|        NULL|  NULL|      NULL|       NULL|                   0| 30.335537391618317|\n",
      "| 30984752802|        551|  NSW|2022|    2021|   3471|92d23635-e480-4c7...| 2301.455135346623|  Male|    2022-06-27|   2022-06|131814.5|      73858.0|   132957.5|  852.0|     1.0|       2.6|         152.2|      456.9|30.335537391618317|        NULL|  NULL|      NULL|       NULL|                   0| 30.335537391618317|\n",
      "| 30984752802|        551|  NSW|2022|    2021|   3471|ea821825-8613-413...|1794.3701764933887|  Male|    2022-01-10|   2022-01|131814.5|      73858.0|   132957.5|  852.0|     1.0|       2.6|         152.2|      456.9|30.335537391618317|        NULL|  NULL|      NULL|       NULL|                   0| 30.335537391618317|\n",
      "| 77698107389|        551|  NSW|2021|    2021|   3471|0f0b1326-ae15-472...|  141.139568646472|  Male|    2021-04-14|   2021-04|131814.5|      73858.0|   132957.5|  798.9|     1.0|       2.6|         141.8|      428.3|30.335537391618317|        NULL|  NULL|      NULL|       NULL|                   0| 30.335537391618317|\n",
      "| 75342681786|        551|  NSW|2022|    2021|   3471|3f4b9a65-d12b-47f...|12.778616504440759|  Male|    2022-08-07|   2022-08|131814.5|      73858.0|   132957.5|  852.0|     1.0|       2.6|         152.2|      456.9|30.335537391618317|        NULL|  NULL|      NULL|       NULL|                   0| 30.335537391618317|\n",
      "+------------+-----------+-----+----+--------+-------+--------------------+------------------+------+--------------+----------+--------+-------------+-----------+-------+--------+----------+--------------+-----------+------------------+------------+------+----------+-----------+--------------------+-------------------+\n",
      "only showing top 20 rows\n"
     ]
    },
    {
     "name": "stderr",
     "output_type": "stream",
     "text": [
      "                                                                                \r"
     ]
    }
   ],
   "source": [
    "df_filled.show(20)"
   ]
  },
  {
   "cell_type": "code",
   "execution_count": null,
   "id": "df90ad79",
   "metadata": {},
   "outputs": [
    {
     "name": "stderr",
     "output_type": "stream",
     "text": [
      "                                                                                \r"
     ]
    },
    {
     "name": "stdout",
     "output_type": "stream",
     "text": [
      "Changed among non-null (expect 0): 0\n"
     ]
    },
    {
     "name": "stderr",
     "output_type": "stream",
     "text": [
      "[Stage 395:==========================================>              (3 + 1) / 4]\r"
     ]
    },
    {
     "name": "stdout",
     "output_type": "stream",
     "text": [
      "+----------+------------+-------------------+\n",
      "|m_category|c_fraud_prob|c_fraud_prob_filled|\n",
      "+----------+------------+-------------------+\n",
      "+----------+------------+-------------------+\n",
      "\n"
     ]
    },
    {
     "name": "stderr",
     "output_type": "stream",
     "text": [
      "                                                                                \r"
     ]
    }
   ],
   "source": [
    "# The number of lines that were originally non-empty but were modified (should = 0)\n",
    "changed_non_null = (df_filled\n",
    "    .filter(F.col(\"c_fraud_prob\").isNotNull() & (F.col(\"c_fraud_prob\") != F.col(\"c_fraud_prob_filled\")))\n",
    "    .count())\n",
    "print(\"Changed among non-null (expect 0):\", changed_non_null)\n",
    "\n",
    "# Preview and check\n",
    "(df_filled\n",
    " .filter(F.col(\"c_fraud_prob\").isNotNull() & (F.col(\"c_fraud_prob\") != F.col(\"c_fraud_prob_filled\")))\n",
    " .select(\"m_category\",\"c_fraud_prob\",\"c_fraud_prob_filled\")\n",
    " .show(20, truncate=False))"
   ]
  },
  {
   "cell_type": "code",
   "execution_count": null,
   "id": "df272751",
   "metadata": {},
   "outputs": [
    {
     "name": "stderr",
     "output_type": "stream",
     "text": [
      "                                                                                \r"
     ]
    },
    {
     "name": "stdout",
     "output_type": "stream",
     "text": [
      "Imputed rows (nulls filled): 2376259\n"
     ]
    },
    {
     "name": "stderr",
     "output_type": "stream",
     "text": [
      "[Stage 443:=============================================>           (4 + 1) / 5]\r"
     ]
    },
    {
     "name": "stdout",
     "output_type": "stream",
     "text": [
      "+-------------------+\n",
      "|c_fraud_prob_filled|\n",
      "+-------------------+\n",
      "|14.223203415719402 |\n",
      "|14.22767320998075  |\n",
      "|14.23126178852096  |\n",
      "|14.233717218870028 |\n",
      "|14.242272914422202 |\n",
      "|14.251732616090363 |\n",
      "|14.254816637840468 |\n",
      "|14.259827281461934 |\n",
      "|14.273618162806716 |\n",
      "|14.497377403424208 |\n",
      "|14.593111223510345 |\n",
      "+-------------------+\n",
      "\n"
     ]
    },
    {
     "name": "stderr",
     "output_type": "stream",
     "text": [
      "                                                                                \r"
     ]
    }
   ],
   "source": [
    "# The number of rows filled in\n",
    "imputed_rows = df_filled.filter(F.col(\"c_fraud_prob\").isNull()).count()\n",
    "print(\"Imputed rows (nulls filled):\", imputed_rows)\n",
    "\n",
    "# The different values after filling (see the first 20)\n",
    "(df_filled\n",
    " .filter(F.col(\"c_fraud_prob\").isNull())\n",
    " .select(\"c_fraud_prob_filled\")\n",
    " .distinct()\n",
    " .orderBy(\"c_fraud_prob_filled\")\n",
    " .show(20, truncate=False))"
   ]
  },
  {
   "cell_type": "markdown",
   "id": "3bb5ef11",
   "metadata": {},
   "source": [
    "### Pop, median_income, mean_income"
   ]
  },
  {
   "cell_type": "code",
   "execution_count": null,
   "id": "fa005560",
   "metadata": {},
   "outputs": [
    {
     "name": "stderr",
     "output_type": "stream",
     "text": [
      "[Stage 474:==========================================>              (3 + 1) / 4]\r"
     ]
    },
    {
     "name": "stdout",
     "output_type": "stream",
     "text": [
      "+--------+-------------------+------------------+-----------------------+----------------------+------------------------+-----------------------+\n",
      "|n       |pop_non_null_before|pop_non_null_after|med_inc_non_null_before|med_inc_non_null_after|mean_inc_non_null_before|mean_inc_non_null_after|\n",
      "+--------+-------------------+------------------+-----------------------+----------------------+------------------------+-----------------------+\n",
      "|14494630|12090175           |12090175          |12090175               |12090175              |12090175                |12090175               |\n",
      "+--------+-------------------+------------------+-----------------------+----------------------+------------------------+-----------------------+\n",
      "\n"
     ]
    },
    {
     "name": "stderr",
     "output_type": "stream",
     "text": [
      "                                                                                \r"
     ]
    }
   ],
   "source": [
    "# Group window: Press postcode\n",
    "w_pc = Window.partitionBy(\"postcode\")\n",
    "\n",
    "# Generate missing tags for the three columns\n",
    "df_filled2 = (df_filled\n",
    "    .withColumn(\"pop_missing\",            F.col(\"pop\").isNull().cast(\"int\"))\n",
    "    .withColumn(\"median_income_missing\",  F.col(\"median_income\").isNull().cast(\"int\"))\n",
    "    .withColumn(\"mean_income_missing\",    F.col(\"mean_income\").isNull().cast(\"int\"))\n",
    ")\n",
    "\n",
    "# Calculate the median within the postcode group\n",
    "df_filled2 = (df_filled2\n",
    "    .withColumn(\"pc_med_pop\",           F.expr(\"percentile_approx(pop, 0.5)\").over(w_pc))\n",
    "    .withColumn(\"pc_med_median_income\", F.expr(\"percentile_approx(median_income, 0.5)\").over(w_pc))\n",
    "    .withColumn(\"pc_med_mean_income\",   F.expr(\"percentile_approx(mean_income, 0.5)\").over(w_pc))\n",
    ")\n",
    "\n",
    "# Fill in the gaps with the median within the group\n",
    "df_filled2 = (df_filled2\n",
    "    .withColumn(\"pop_filled\",\n",
    "        F.when(F.col(\"pop\").isNull(), F.col(\"pc_med_pop\")).otherwise(F.col(\"pop\")))\n",
    "    .withColumn(\"median_income_filled\",\n",
    "        F.when(F.col(\"median_income\").isNull(), F.col(\"pc_med_median_income\")).otherwise(F.col(\"median_income\")))\n",
    "    .withColumn(\"mean_income_filled\",\n",
    "        F.when(F.col(\"mean_income\").isNull(), F.col(\"pc_med_mean_income\")).otherwise(F.col(\"mean_income\")))\n",
    "    .drop(\"pc_med_pop\", \"pc_med_median_income\", \"pc_med_mean_income\")\n",
    ")\n",
    "\n",
    "# Preview and check\n",
    "df_filled2.selectExpr(\n",
    "    \"count(*) as n\",\n",
    "    \"count(pop) as pop_non_null_before\",\n",
    "    \"count(pop_filled) as pop_non_null_after\",\n",
    "    \"count(median_income) as med_inc_non_null_before\",\n",
    "    \"count(median_income_filled) as med_inc_non_null_after\",\n",
    "    \"count(mean_income) as mean_inc_non_null_before\",\n",
    "    \"count(mean_income_filled) as mean_inc_non_null_after\"\n",
    ").show(truncate=False)"
   ]
  },
  {
   "cell_type": "markdown",
   "id": "55cef91b",
   "metadata": {},
   "source": [
    "### Merchant Category"
   ]
  },
  {
   "cell_type": "code",
   "execution_count": null,
   "id": "daf8f81f",
   "metadata": {},
   "outputs": [
    {
     "name": "stderr",
     "output_type": "stream",
     "text": [
      "                                                                                \r"
     ]
    },
    {
     "name": "stdout",
     "output_type": "stream",
     "text": [
      "+-----------------------+-------+\n",
      "|m_category             |count  |\n",
      "+-----------------------+-------+\n",
      "|Telecom                |49019  |\n",
      "|Jewellery & Watches    |1045851|\n",
      "|Other                  |7807972|\n",
      "|Automotive             |307023 |\n",
      "|Culture & Entertainment|317819 |\n",
      "|Software & IT          |1237020|\n",
      "|Gifts & Novelties      |1640011|\n",
      "|Home & Furniture       |539623 |\n",
      "|Repair & Leasing       |196350 |\n",
      "|Crafts & Flowers       |1353942|\n",
      "+-----------------------+-------+\n",
      "\n"
     ]
    }
   ],
   "source": [
    "# Fill in the blank value of m_category as \"Other\"\n",
    "df_filled3 = df_filled.withColumn(\n",
    "    \"m_category_filled\",\n",
    "    F.when(F.col(\"m_category\").isNull(), F.lit(\"Other\"))\n",
    "     .otherwise(F.col(\"m_category\"))\n",
    ")\n",
    "\n",
    "df_filled3 = df_filled3.drop(\"m_category\").withColumnRenamed(\"m_category_filled\", \"m_category\")\n",
    "\n",
    "# Check the filling effect\n",
    "df_filled3.groupBy(\"m_category\").count().show(truncate=False)"
   ]
  },
  {
   "cell_type": "markdown",
   "id": "49478976",
   "metadata": {},
   "source": [
    "### Merchant Take Rate"
   ]
  },
  {
   "cell_type": "code",
   "execution_count": null,
   "id": "8e2b1119",
   "metadata": {},
   "outputs": [
    {
     "name": "stderr",
     "output_type": "stream",
     "text": [
      "[Stage 529:>                                                        (0 + 1) / 1]\r"
     ]
    },
    {
     "name": "stdout",
     "output_type": "stream",
     "text": [
      "+-------------------+-----------+------------------+\n",
      "|m_category         |m_take_rate|m_take_rate_filled|\n",
      "+-------------------+-----------+------------------+\n",
      "|Jewellery & Watches|6.43       |6.43              |\n",
      "|Jewellery & Watches|3.36       |3.36              |\n",
      "|Jewellery & Watches|3.5        |3.5               |\n",
      "|Jewellery & Watches|3.5        |3.5               |\n",
      "|Jewellery & Watches|3.5        |3.5               |\n",
      "|Jewellery & Watches|0.22       |0.22              |\n",
      "|Jewellery & Watches|6.48       |6.48              |\n",
      "|Jewellery & Watches|3.25       |3.25              |\n",
      "|Jewellery & Watches|6.43       |6.43              |\n",
      "|Jewellery & Watches|6.52       |6.52              |\n",
      "|Jewellery & Watches|6.43       |6.43              |\n",
      "|Jewellery & Watches|6.82       |6.82              |\n",
      "|Jewellery & Watches|6.43       |6.43              |\n",
      "|Jewellery & Watches|6.94       |6.94              |\n",
      "|Jewellery & Watches|5.62       |5.62              |\n",
      "|Jewellery & Watches|6.94       |6.94              |\n",
      "|Jewellery & Watches|3.41       |3.41              |\n",
      "|Jewellery & Watches|6.94       |6.94              |\n",
      "|Jewellery & Watches|3.5        |3.5               |\n",
      "|Jewellery & Watches|3.25       |3.25              |\n",
      "+-------------------+-----------+------------------+\n",
      "only showing top 20 rows\n"
     ]
    },
    {
     "name": "stderr",
     "output_type": "stream",
     "text": [
      "                                                                                \r"
     ]
    }
   ],
   "source": [
    "# Calculate the median by m_category group\n",
    "w = Window.partitionBy(\"m_category\")\n",
    "\n",
    "df_filled3 = df_filled3.withColumn(\n",
    "    \"grp_median_take_rate\",\n",
    "    F.expr(\"percentile_approx(m_take_rate, 0.5)\").over(w)\n",
    ").withColumn(\n",
    "    \"m_take_rate_filled\",\n",
    "    F.when(F.col(\"m_take_rate\").isNull(), F.col(\"grp_median_take_rate\"))\n",
    "     .otherwise(F.col(\"m_take_rate\"))\n",
    ").drop(\"grp_median_take_rate\")\n",
    "\n",
    "# Preview and check\n",
    "df_filled3.select(\"m_category\", \"m_take_rate\", \"m_take_rate_filled\").show(20, False)"
   ]
  },
  {
   "cell_type": "code",
   "execution_count": 32,
   "id": "fa67b3a2",
   "metadata": {},
   "outputs": [
    {
     "name": "stdout",
     "output_type": "stream",
     "text": [
      "root\n",
      " |-- merchant_abn: long (nullable = true)\n",
      " |-- consumer_id: long (nullable = true)\n",
      " |-- state: string (nullable = true)\n",
      " |-- year: integer (nullable = true)\n",
      " |-- postcode: integer (nullable = true)\n",
      " |-- user_id: long (nullable = true)\n",
      " |-- order_id: string (nullable = true)\n",
      " |-- dollar_value: double (nullable = true)\n",
      " |-- gender: string (nullable = true)\n",
      " |-- order_datetime: date (nullable = true)\n",
      " |-- year_month: string (nullable = true)\n",
      " |-- pop: double (nullable = true)\n",
      " |-- median_income: double (nullable = true)\n",
      " |-- mean_income: double (nullable = true)\n",
      " |-- assault: double (nullable = true)\n",
      " |-- homicide: double (nullable = true)\n",
      " |-- kidnapping: double (nullable = true)\n",
      " |-- sexual assault: double (nullable = true)\n",
      " |-- crime_index: double (nullable = true)\n",
      " |-- c_fraud_prob: double (nullable = true)\n",
      " |-- m_fraud_prob: double (nullable = true)\n",
      " |-- m_name: string (nullable = true)\n",
      " |-- m_take_rate: double (nullable = true)\n",
      " |-- c_fraud_prob_missing: integer (nullable = false)\n",
      " |-- c_fraud_prob_filled: double (nullable = true)\n",
      " |-- m_category: string (nullable = true)\n",
      " |-- m_take_rate_filled: double (nullable = true)\n",
      "\n"
     ]
    },
    {
     "name": "stderr",
     "output_type": "stream",
     "text": [
      "[Stage 553:==================================================>      (8 + 1) / 9]\r"
     ]
    },
    {
     "name": "stdout",
     "output_type": "stream",
     "text": [
      "+------------+-----------+-----+----+--------+-------+--------------------+------------------+------+--------------+----------+-----------------+------------------+------------------+-------+--------+----------+--------------+-----------+------------------+------------------+--------------------+-----------+--------------------+-------------------+----------+------------------+\n",
      "|merchant_abn|consumer_id|state|year|postcode|user_id|            order_id|      dollar_value|gender|order_datetime|year_month|              pop|     median_income|       mean_income|assault|homicide|kidnapping|sexual assault|crime_index|      c_fraud_prob|      m_fraud_prob|              m_name|m_take_rate|c_fraud_prob_missing|c_fraud_prob_filled|m_category|m_take_rate_filled|\n",
      "+------------+-----------+-----+----+--------+-------+--------------------+------------------+------+--------------+----------+-----------------+------------------+------------------+-------+--------+----------+--------------+-----------+------------------+------------------+--------------------+-----------+--------------------+-------------------+----------+------------------+\n",
      "| 98400051901|       1175|  NSW|2021|    2299|   3698|e53fb97f-aa8b-453...|1729.7000852266515|  Male|    2021-03-22|   2021-03|         179587.0|           57265.0|           72272.0|  798.9|     1.0|       2.6|         141.8|      428.3| 19.65968404776971|              NULL|           Vitae LLC|       2.95|                   0|  19.65968404776971|   Telecom|              2.95|\n",
      "| 50589958690|       1175|  NSW|2021|    2299|   3698|aaf18557-b632-4c3...| 2252.695838231911|  Male|    2021-07-15|   2021-07|         179587.0|           57265.0|           72272.0|  798.9|     1.0|       2.6|         141.8|      428.3| 19.65968404776971|              NULL|  Nibh Quisque Corp.|       3.15|                   0|  19.65968404776971|   Telecom|              3.15|\n",
      "| 93260930990|       1175|  NSW|2022|    2299|   3698|f5e0e17e-2fdd-4a0...|1904.4088310188145|  Male|    2022-04-28|   2022-04|         179587.0|           57265.0|           72272.0|  852.0|     1.0|       2.6|         152.2|      456.9| 19.65968404776971| 37.87197154172081|Pede Cras Vulputa...|       3.15|                   0|  19.65968404776971|   Telecom|              3.15|\n",
      "| 93260930990|       1175|  NSW|2022|    2299|   3698|f5e0e17e-2fdd-4a0...|1904.4088310188145|  Male|    2022-04-28|   2022-04|         179587.0|           57265.0|           72272.0|  852.0|     1.0|       2.6|         152.2|      456.9| 19.65968404776971|33.565734494092816|Pede Cras Vulputa...|       3.15|                   0|  19.65968404776971|   Telecom|              3.15|\n",
      "| 93260930990|       1175|  NSW|2022|    2299|   3698|f5e0e17e-2fdd-4a0...|1904.4088310188145|  Male|    2022-04-28|   2022-04|         179587.0|           57265.0|           72272.0|  852.0|     1.0|       2.6|         152.2|      456.9| 19.65968404776971|31.537398474248473|Pede Cras Vulputa...|       3.15|                   0|  19.65968404776971|   Telecom|              3.15|\n",
      "| 93260930990|       1175|  NSW|2022|    2299|   3698|f5e0e17e-2fdd-4a0...|1904.4088310188145|  Male|    2022-04-28|   2022-04|         179587.0|           57265.0|           72272.0|  852.0|     1.0|       2.6|         152.2|      456.9| 19.65968404776971| 29.34488376589696|Pede Cras Vulputa...|       3.15|                   0|  19.65968404776971|   Telecom|              3.15|\n",
      "| 93260930990|       1175|  NSW|2022|    2299|   3698|f5e0e17e-2fdd-4a0...|1904.4088310188145|  Male|    2022-04-28|   2022-04|         179587.0|           57265.0|           72272.0|  852.0|     1.0|       2.6|         152.2|      456.9| 19.65968404776971| 28.98838429202166|Pede Cras Vulputa...|       3.15|                   0|  19.65968404776971|   Telecom|              3.15|\n",
      "| 25228131129|       6605|  NSW|2022|    2323|    832|7c9fb193-0db5-4e5...| 79.98281186637782|  Male|    2022-03-04|   2022-03|90351.66666666667|53928.666666666664|65322.666666666664|  852.0|     1.0|       2.6|         152.2|      456.9|11.171170665126532|              NULL| Quisque Nonummy Ltd|        4.5|                   0| 11.171170665126532|   Telecom|               4.5|\n",
      "| 25228131129|       6834|  NSW|2022|    1193|   6305|5cf63ddb-6aaf-4f3...| 66.37398315201652|Female|    2022-01-04|   2022-01|             NULL|              NULL|              NULL|  852.0|     1.0|       2.6|         152.2|      456.9|56.674892267653156|              NULL| Quisque Nonummy Ltd|        4.5|                   0| 56.674892267653156|   Telecom|               4.5|\n",
      "| 36461610866|       6834|  NSW|2022|    1193|   6305|daa6e7f6-44cf-421...|11211.349467974685|Female|    2022-03-27|   2022-03|             NULL|              NULL|              NULL|  852.0|     1.0|       2.6|         152.2|      456.9|56.674892267653156|              NULL|Phasellus Ferment...|       3.17|                   0| 56.674892267653156|   Telecom|              3.17|\n",
      "+------------+-----------+-----+----+--------+-------+--------------------+------------------+------+--------------+----------+-----------------+------------------+------------------+-------+--------+----------+--------------+-----------+------------------+------------------+--------------------+-----------+--------------------+-------------------+----------+------------------+\n",
      "only showing top 10 rows\n"
     ]
    },
    {
     "name": "stderr",
     "output_type": "stream",
     "text": [
      "                                                                                \r"
     ]
    }
   ],
   "source": [
    "df_filled3.printSchema()\n",
    "df_filled3.show(10)"
   ]
  },
  {
   "cell_type": "code",
   "execution_count": null,
   "id": "7f0384af",
   "metadata": {},
   "outputs": [
    {
     "name": "stdout",
     "output_type": "stream",
     "text": [
      "root\n",
      " |-- merchant_abn: long (nullable = true)\n",
      " |-- consumer_id: long (nullable = true)\n",
      " |-- state: string (nullable = true)\n",
      " |-- postcode: integer (nullable = true)\n",
      " |-- user_id: long (nullable = true)\n",
      " |-- order_id: string (nullable = true)\n",
      " |-- dollar_value: double (nullable = true)\n",
      " |-- gender: string (nullable = true)\n",
      " |-- order_datetime: date (nullable = true)\n",
      " |-- year_month: string (nullable = true)\n",
      " |-- pop: double (nullable = true)\n",
      " |-- median_income: double (nullable = true)\n",
      " |-- mean_income: double (nullable = true)\n",
      " |-- assault: double (nullable = true)\n",
      " |-- homicide: double (nullable = true)\n",
      " |-- kidnapping: double (nullable = true)\n",
      " |-- sexual assault: double (nullable = true)\n",
      " |-- crime_index: double (nullable = true)\n",
      " |-- m_fraud_prob: double (nullable = true)\n",
      " |-- m_name: string (nullable = true)\n",
      " |-- c_fraud_prob: double (nullable = true)\n",
      " |-- m_category: string (nullable = true)\n",
      " |-- m_take_rate: double (nullable = true)\n",
      "\n"
     ]
    },
    {
     "name": "stderr",
     "output_type": "stream",
     "text": [
      "25/09/23 13:56:48 WARN TransportChannelHandler: Exception in connection from /10.12.255.65:49908\n",
      "java.io.IOException: Operation timed out\n",
      "\tat java.base/sun.nio.ch.SocketDispatcher.read0(Native Method)\n",
      "\tat java.base/sun.nio.ch.SocketDispatcher.read(SocketDispatcher.java:47)\n",
      "\tat java.base/sun.nio.ch.IOUtil.readIntoNativeBuffer(IOUtil.java:330)\n",
      "\tat java.base/sun.nio.ch.IOUtil.read(IOUtil.java:284)\n",
      "\tat java.base/sun.nio.ch.IOUtil.read(IOUtil.java:259)\n",
      "\tat java.base/sun.nio.ch.SocketChannelImpl.read(SocketChannelImpl.java:417)\n",
      "\tat io.netty.buffer.PooledByteBuf.setBytes(PooledByteBuf.java:255)\n",
      "\tat io.netty.buffer.AbstractByteBuf.writeBytes(AbstractByteBuf.java:1132)\n",
      "\tat io.netty.buffer.WrappedByteBuf.writeBytes(WrappedByteBuf.java:821)\n",
      "\tat io.netty.channel.socket.nio.NioSocketChannel.doReadBytes(NioSocketChannel.java:356)\n",
      "\tat io.netty.channel.nio.AbstractNioByteChannel$NioByteUnsafe.read(AbstractNioByteChannel.java:151)\n",
      "\tat io.netty.channel.nio.NioEventLoop.processSelectedKey(NioEventLoop.java:796)\n",
      "\tat io.netty.channel.nio.NioEventLoop.processSelectedKeysOptimized(NioEventLoop.java:732)\n",
      "\tat io.netty.channel.nio.NioEventLoop.processSelectedKeys(NioEventLoop.java:658)\n",
      "\tat io.netty.channel.nio.NioEventLoop.run(NioEventLoop.java:562)\n",
      "\tat io.netty.util.concurrent.SingleThreadEventExecutor$4.run(SingleThreadEventExecutor.java:998)\n",
      "\tat io.netty.util.internal.ThreadExecutorMap$2.run(ThreadExecutorMap.java:74)\n",
      "\tat io.netty.util.concurrent.FastThreadLocalRunnable.run(FastThreadLocalRunnable.java:30)\n",
      "\tat java.base/java.lang.Thread.run(Thread.java:840)\n",
      "25/09/23 13:56:48 ERROR TransportResponseHandler: Still have 1 requests outstanding when connection from /10.12.255.65:49908 is closed\n",
      "25/09/23 13:56:48 ERROR OneForOneBlockFetcher: Failed while starting block fetches\n",
      "java.io.IOException: Operation timed out\n",
      "\tat java.base/sun.nio.ch.SocketDispatcher.read0(Native Method)\n",
      "\tat java.base/sun.nio.ch.SocketDispatcher.read(SocketDispatcher.java:47)\n",
      "\tat java.base/sun.nio.ch.IOUtil.readIntoNativeBuffer(IOUtil.java:330)\n",
      "\tat java.base/sun.nio.ch.IOUtil.read(IOUtil.java:284)\n",
      "\tat java.base/sun.nio.ch.IOUtil.read(IOUtil.java:259)\n",
      "\tat java.base/sun.nio.ch.SocketChannelImpl.read(SocketChannelImpl.java:417)\n",
      "\tat io.netty.buffer.PooledByteBuf.setBytes(PooledByteBuf.java:255)\n",
      "\tat io.netty.buffer.AbstractByteBuf.writeBytes(AbstractByteBuf.java:1132)\n",
      "\tat io.netty.buffer.WrappedByteBuf.writeBytes(WrappedByteBuf.java:821)\n",
      "\tat io.netty.channel.socket.nio.NioSocketChannel.doReadBytes(NioSocketChannel.java:356)\n",
      "\tat io.netty.channel.nio.AbstractNioByteChannel$NioByteUnsafe.read(AbstractNioByteChannel.java:151)\n",
      "\tat io.netty.channel.nio.NioEventLoop.processSelectedKey(NioEventLoop.java:796)\n",
      "\tat io.netty.channel.nio.NioEventLoop.processSelectedKeysOptimized(NioEventLoop.java:732)\n",
      "\tat io.netty.channel.nio.NioEventLoop.processSelectedKeys(NioEventLoop.java:658)\n",
      "\tat io.netty.channel.nio.NioEventLoop.run(NioEventLoop.java:562)\n",
      "\tat io.netty.util.concurrent.SingleThreadEventExecutor$4.run(SingleThreadEventExecutor.java:998)\n",
      "\tat io.netty.util.internal.ThreadExecutorMap$2.run(ThreadExecutorMap.java:74)\n",
      "\tat io.netty.util.concurrent.FastThreadLocalRunnable.run(FastThreadLocalRunnable.java:30)\n",
      "\tat java.base/java.lang.Thread.run(Thread.java:840)\n",
      "25/09/23 14:12:51 ERROR RetryingBlockTransferor: Exception while beginning fetch of 1 outstanding blocks (after 1 retries)\n",
      "java.io.IOException: Failed to connect to /10.12.255.65:49908\n",
      "\tat org.apache.spark.network.client.TransportClientFactory.createClient(TransportClientFactory.java:305)\n",
      "\tat org.apache.spark.network.client.TransportClientFactory.createClient(TransportClientFactory.java:225)\n",
      "\tat org.apache.spark.network.netty.NettyBlockTransferService$$anon$2.createAndStart(NettyBlockTransferService.scala:137)\n",
      "\tat org.apache.spark.network.shuffle.RetryingBlockTransferor.transferAllOutstanding(RetryingBlockTransferor.java:181)\n",
      "\tat org.apache.spark.network.shuffle.RetryingBlockTransferor.lambda$initiateRetry$0(RetryingBlockTransferor.java:228)\n",
      "\tat java.base/java.util.concurrent.ThreadPoolExecutor.runWorker(ThreadPoolExecutor.java:1136)\n",
      "\tat java.base/java.util.concurrent.ThreadPoolExecutor$Worker.run(ThreadPoolExecutor.java:635)\n",
      "\tat io.netty.util.concurrent.FastThreadLocalRunnable.run(FastThreadLocalRunnable.java:30)\n",
      "\tat java.base/java.lang.Thread.run(Thread.java:840)\n",
      "Caused by: io.netty.channel.AbstractChannel$AnnotatedSocketException: Network is unreachable: /10.12.255.65:49908\n",
      "Caused by: java.net.SocketException: Network is unreachable\n",
      "\tat java.base/sun.nio.ch.Net.connect0(Native Method)\n",
      "\tat java.base/sun.nio.ch.Net.connect(Net.java:579)\n",
      "\tat java.base/sun.nio.ch.Net.connect(Net.java:586)\n",
      "\tat java.base/sun.nio.ch.SocketChannelImpl.connect(SocketChannelImpl.java:853)\n",
      "\tat io.netty.util.internal.SocketUtils$3.run(SocketUtils.java:91)\n",
      "\tat io.netty.util.internal.SocketUtils$3.run(SocketUtils.java:88)\n",
      "\tat java.base/java.security.AccessController.doPrivileged(AccessController.java:569)\n",
      "\tat io.netty.util.internal.SocketUtils.connect(SocketUtils.java:88)\n",
      "\tat io.netty.channel.socket.nio.NioSocketChannel.doConnect(NioSocketChannel.java:321)\n",
      "\tat io.netty.channel.nio.AbstractNioChannel$AbstractNioUnsafe.connect(AbstractNioChannel.java:250)\n",
      "\tat io.netty.channel.DefaultChannelPipeline$HeadContext.connect(DefaultChannelPipeline.java:1289)\n",
      "\tat io.netty.channel.AbstractChannelHandlerContext.invokeConnect(AbstractChannelHandlerContext.java:655)\n",
      "\tat io.netty.channel.AbstractChannelHandlerContext.connect(AbstractChannelHandlerContext.java:634)\n",
      "\tat io.netty.channel.AbstractChannelHandlerContext.connect(AbstractChannelHandlerContext.java:618)\n",
      "\tat io.netty.channel.DefaultChannelPipeline.connect(DefaultChannelPipeline.java:927)\n",
      "\tat io.netty.channel.AbstractChannel.connect(AbstractChannel.java:264)\n",
      "\tat io.netty.bootstrap.Bootstrap$3.run(Bootstrap.java:264)\n",
      "\tat io.netty.util.concurrent.AbstractEventExecutor.runTask(AbstractEventExecutor.java:173)\n",
      "\tat io.netty.util.concurrent.AbstractEventExecutor.safeExecute(AbstractEventExecutor.java:166)\n",
      "\tat io.netty.util.concurrent.SingleThreadEventExecutor.runAllTasks(SingleThreadEventExecutor.java:472)\n",
      "\tat io.netty.channel.nio.NioEventLoop.run(NioEventLoop.java:569)\n",
      "\tat io.netty.util.concurrent.SingleThreadEventExecutor$4.run(SingleThreadEventExecutor.java:998)\n",
      "\tat io.netty.util.internal.ThreadExecutorMap$2.run(ThreadExecutorMap.java:74)\n",
      "\tat io.netty.util.concurrent.FastThreadLocalRunnable.run(FastThreadLocalRunnable.java:30)\n",
      "\tat java.base/java.lang.Thread.run(Thread.java:840)\n",
      "25/09/23 14:12:56 ERROR RetryingBlockTransferor: Exception while beginning fetch of 1 outstanding blocks (after 2 retries)\n",
      "java.io.IOException: Failed to connect to /10.12.255.65:49908\n",
      "\tat org.apache.spark.network.client.TransportClientFactory.createClient(TransportClientFactory.java:305)\n",
      "\tat org.apache.spark.network.client.TransportClientFactory.createClient(TransportClientFactory.java:225)\n",
      "\tat org.apache.spark.network.netty.NettyBlockTransferService$$anon$2.createAndStart(NettyBlockTransferService.scala:137)\n",
      "\tat org.apache.spark.network.shuffle.RetryingBlockTransferor.transferAllOutstanding(RetryingBlockTransferor.java:181)\n",
      "\tat org.apache.spark.network.shuffle.RetryingBlockTransferor.lambda$initiateRetry$0(RetryingBlockTransferor.java:228)\n",
      "\tat java.base/java.util.concurrent.ThreadPoolExecutor.runWorker(ThreadPoolExecutor.java:1136)\n",
      "\tat java.base/java.util.concurrent.ThreadPoolExecutor$Worker.run(ThreadPoolExecutor.java:635)\n",
      "\tat io.netty.util.concurrent.FastThreadLocalRunnable.run(FastThreadLocalRunnable.java:30)\n",
      "\tat java.base/java.lang.Thread.run(Thread.java:840)\n",
      "Caused by: io.netty.channel.AbstractChannel$AnnotatedSocketException: Network is unreachable: /10.12.255.65:49908\n",
      "Caused by: java.net.SocketException: Network is unreachable\n",
      "\tat java.base/sun.nio.ch.Net.connect0(Native Method)\n",
      "\tat java.base/sun.nio.ch.Net.connect(Net.java:579)\n",
      "\tat java.base/sun.nio.ch.Net.connect(Net.java:586)\n",
      "\tat java.base/sun.nio.ch.SocketChannelImpl.connect(SocketChannelImpl.java:853)\n",
      "\tat io.netty.util.internal.SocketUtils$3.run(SocketUtils.java:91)\n",
      "\tat io.netty.util.internal.SocketUtils$3.run(SocketUtils.java:88)\n",
      "\tat java.base/java.security.AccessController.doPrivileged(AccessController.java:569)\n",
      "\tat io.netty.util.internal.SocketUtils.connect(SocketUtils.java:88)\n",
      "\tat io.netty.channel.socket.nio.NioSocketChannel.doConnect(NioSocketChannel.java:321)\n",
      "\tat io.netty.channel.nio.AbstractNioChannel$AbstractNioUnsafe.connect(AbstractNioChannel.java:250)\n",
      "\tat io.netty.channel.DefaultChannelPipeline$HeadContext.connect(DefaultChannelPipeline.java:1289)\n",
      "\tat io.netty.channel.AbstractChannelHandlerContext.invokeConnect(AbstractChannelHandlerContext.java:655)\n",
      "\tat io.netty.channel.AbstractChannelHandlerContext.connect(AbstractChannelHandlerContext.java:634)\n",
      "\tat io.netty.channel.AbstractChannelHandlerContext.connect(AbstractChannelHandlerContext.java:618)\n",
      "\tat io.netty.channel.DefaultChannelPipeline.connect(DefaultChannelPipeline.java:927)\n",
      "\tat io.netty.channel.AbstractChannel.connect(AbstractChannel.java:264)\n",
      "\tat io.netty.bootstrap.Bootstrap$3.run(Bootstrap.java:264)\n",
      "\tat io.netty.util.concurrent.AbstractEventExecutor.runTask(AbstractEventExecutor.java:173)\n",
      "\tat io.netty.util.concurrent.AbstractEventExecutor.safeExecute(AbstractEventExecutor.java:166)\n",
      "\tat io.netty.util.concurrent.SingleThreadEventExecutor.runAllTasks(SingleThreadEventExecutor.java:472)\n",
      "\tat io.netty.channel.nio.NioEventLoop.run(NioEventLoop.java:569)\n",
      "\tat io.netty.util.concurrent.SingleThreadEventExecutor$4.run(SingleThreadEventExecutor.java:998)\n",
      "\tat io.netty.util.internal.ThreadExecutorMap$2.run(ThreadExecutorMap.java:74)\n",
      "\tat io.netty.util.concurrent.FastThreadLocalRunnable.run(FastThreadLocalRunnable.java:30)\n",
      "\tat java.base/java.lang.Thread.run(Thread.java:840)\n",
      "[Stage 584:==================================================>      (8 + 1) / 9]\r"
     ]
    },
    {
     "name": "stdout",
     "output_type": "stream",
     "text": [
      "+------------+-----------+-----+--------+-------+------------------------------------+------------------+------+--------------+----------+-----------------+------------------+------------------+-------+--------+----------+--------------+-----------+------------------+-------------------------------+------------------+----------+-----------+\n",
      "|merchant_abn|consumer_id|state|postcode|user_id|order_id                            |dollar_value      |gender|order_datetime|year_month|pop              |median_income     |mean_income       |assault|homicide|kidnapping|sexual assault|crime_index|m_fraud_prob      |m_name                         |c_fraud_prob      |m_category|m_take_rate|\n",
      "+------------+-----------+-----+--------+-------+------------------------------------+------------------+------+--------------+----------+-----------------+------------------+------------------+-------+--------+----------+--------------+-----------+------------------+-------------------------------+------------------+----------+-----------+\n",
      "|98400051901 |1175       |NSW  |2299    |3698   |e53fb97f-aa8b-4534-847e-99d5883cd1d7|1729.7000852266515|Male  |2021-03-22    |2021-03   |179587.0         |57265.0           |72272.0           |798.9  |1.0     |2.6       |141.8         |428.3      |NULL              |Vitae LLC                      |19.65968404776971 |Telecom   |2.95       |\n",
      "|50589958690 |1175       |NSW  |2299    |3698   |aaf18557-b632-4c3f-a3b5-4cab80e66417|2252.695838231911 |Male  |2021-07-15    |2021-07   |179587.0         |57265.0           |72272.0           |798.9  |1.0     |2.6       |141.8         |428.3      |NULL              |Nibh Quisque Corp.             |19.65968404776971 |Telecom   |3.15       |\n",
      "|93260930990 |1175       |NSW  |2299    |3698   |f5e0e17e-2fdd-4a00-8669-994942a5fc6e|1904.4088310188145|Male  |2022-04-28    |2022-04   |179587.0         |57265.0           |72272.0           |852.0  |1.0     |2.6       |152.2         |456.9      |37.87197154172081 |Pede Cras Vulputate Ltd        |19.65968404776971 |Telecom   |3.15       |\n",
      "|93260930990 |1175       |NSW  |2299    |3698   |f5e0e17e-2fdd-4a00-8669-994942a5fc6e|1904.4088310188145|Male  |2022-04-28    |2022-04   |179587.0         |57265.0           |72272.0           |852.0  |1.0     |2.6       |152.2         |456.9      |33.565734494092816|Pede Cras Vulputate Ltd        |19.65968404776971 |Telecom   |3.15       |\n",
      "|93260930990 |1175       |NSW  |2299    |3698   |f5e0e17e-2fdd-4a00-8669-994942a5fc6e|1904.4088310188145|Male  |2022-04-28    |2022-04   |179587.0         |57265.0           |72272.0           |852.0  |1.0     |2.6       |152.2         |456.9      |31.537398474248473|Pede Cras Vulputate Ltd        |19.65968404776971 |Telecom   |3.15       |\n",
      "|93260930990 |1175       |NSW  |2299    |3698   |f5e0e17e-2fdd-4a00-8669-994942a5fc6e|1904.4088310188145|Male  |2022-04-28    |2022-04   |179587.0         |57265.0           |72272.0           |852.0  |1.0     |2.6       |152.2         |456.9      |29.34488376589696 |Pede Cras Vulputate Ltd        |19.65968404776971 |Telecom   |3.15       |\n",
      "|93260930990 |1175       |NSW  |2299    |3698   |f5e0e17e-2fdd-4a00-8669-994942a5fc6e|1904.4088310188145|Male  |2022-04-28    |2022-04   |179587.0         |57265.0           |72272.0           |852.0  |1.0     |2.6       |152.2         |456.9      |28.98838429202166 |Pede Cras Vulputate Ltd        |19.65968404776971 |Telecom   |3.15       |\n",
      "|25228131129 |6605       |NSW  |2323    |832    |7c9fb193-0db5-4e50-a8b3-92f23990232c|79.98281186637782 |Male  |2022-03-04    |2022-03   |90351.66666666667|53928.666666666664|65322.666666666664|852.0  |1.0     |2.6       |152.2         |456.9      |NULL              |Quisque Nonummy Ltd            |11.171170665126532|Telecom   |4.5        |\n",
      "|25228131129 |6834       |NSW  |1193    |6305   |5cf63ddb-6aaf-4f31-96f0-455280333648|66.37398315201652 |Female|2022-01-04    |2022-01   |NULL             |NULL              |NULL              |852.0  |1.0     |2.6       |152.2         |456.9      |NULL              |Quisque Nonummy Ltd            |56.674892267653156|Telecom   |4.5        |\n",
      "|36461610866 |6834       |NSW  |1193    |6305   |daa6e7f6-44cf-4216-babf-075ed0eda01b|11211.349467974685|Female|2022-03-27    |2022-03   |NULL             |NULL              |NULL              |852.0  |1.0     |2.6       |152.2         |456.9      |NULL              |Phasellus Fermentum Corporation|56.674892267653156|Telecom   |3.17       |\n",
      "+------------+-----------+-----+--------+-------+------------------------------------+------------------+------+--------------+----------+-----------------+------------------+------------------+-------+--------+----------+--------------+-----------+------------------+-------------------------------+------------------+----------+-----------+\n",
      "only showing top 10 rows\n"
     ]
    },
    {
     "name": "stderr",
     "output_type": "stream",
     "text": [
      "                                                                                \r"
     ]
    }
   ],
   "source": [
    "# Delete the useless column\n",
    "cols_to_drop = [\"c_fraud_prob\", \"c_fraud_prob_missing\", \"m_take_rate\", \"year\"]\n",
    "\n",
    "df_final = (\n",
    "    df_filled3\n",
    "    .drop(*cols_to_drop)\n",
    "    .withColumnRenamed(\"c_fraud_prob_filled\", \"c_fraud_prob\")\n",
    "    .withColumnRenamed(\"m_take_rate_filled\", \"m_take_rate\")\n",
    ")\n",
    "\n",
    "# Preview and check\n",
    "df_final.printSchema()\n",
    "df_final.show(10, truncate=False)"
   ]
  },
  {
   "cell_type": "markdown",
   "id": "dc289e44",
   "metadata": {},
   "source": [
    "### Results Check & Visualisation"
   ]
  },
  {
   "cell_type": "code",
   "execution_count": 34,
   "id": "33f05b4b",
   "metadata": {},
   "outputs": [
    {
     "name": "stderr",
     "output_type": "stream",
     "text": [
      "25/09/23 14:16:34 WARN TransportChannelHandler: Exception in connection from /10.12.255.65:49908\n",
      "java.io.IOException: Operation timed out\n",
      "\tat java.base/sun.nio.ch.SocketDispatcher.read0(Native Method)\n",
      "\tat java.base/sun.nio.ch.SocketDispatcher.read(SocketDispatcher.java:47)\n",
      "\tat java.base/sun.nio.ch.IOUtil.readIntoNativeBuffer(IOUtil.java:330)\n",
      "\tat java.base/sun.nio.ch.IOUtil.read(IOUtil.java:284)\n",
      "\tat java.base/sun.nio.ch.IOUtil.read(IOUtil.java:259)\n",
      "\tat java.base/sun.nio.ch.SocketChannelImpl.read(SocketChannelImpl.java:417)\n",
      "\tat io.netty.buffer.PooledByteBuf.setBytes(PooledByteBuf.java:255)\n",
      "\tat io.netty.buffer.AbstractByteBuf.writeBytes(AbstractByteBuf.java:1132)\n",
      "\tat io.netty.channel.socket.nio.NioSocketChannel.doReadBytes(NioSocketChannel.java:356)\n",
      "\tat io.netty.channel.nio.AbstractNioByteChannel$NioByteUnsafe.read(AbstractNioByteChannel.java:151)\n",
      "\tat io.netty.channel.nio.NioEventLoop.processSelectedKey(NioEventLoop.java:796)\n",
      "\tat io.netty.channel.nio.NioEventLoop.processSelectedKeysOptimized(NioEventLoop.java:732)\n",
      "\tat io.netty.channel.nio.NioEventLoop.processSelectedKeys(NioEventLoop.java:658)\n",
      "\tat io.netty.channel.nio.NioEventLoop.run(NioEventLoop.java:562)\n",
      "\tat io.netty.util.concurrent.SingleThreadEventExecutor$4.run(SingleThreadEventExecutor.java:998)\n",
      "\tat io.netty.util.internal.ThreadExecutorMap$2.run(ThreadExecutorMap.java:74)\n",
      "\tat io.netty.util.concurrent.FastThreadLocalRunnable.run(FastThreadLocalRunnable.java:30)\n",
      "\tat java.base/java.lang.Thread.run(Thread.java:840)\n",
      "25/09/23 14:16:34 ERROR TransportResponseHandler: Still have 1 requests outstanding when connection from /10.12.255.65:49908 is closed\n",
      "25/09/23 14:16:34 ERROR OneForOneBlockFetcher: Failed while starting block fetches\n",
      "java.io.IOException: Operation timed out\n",
      "\tat java.base/sun.nio.ch.SocketDispatcher.read0(Native Method)\n",
      "\tat java.base/sun.nio.ch.SocketDispatcher.read(SocketDispatcher.java:47)\n",
      "\tat java.base/sun.nio.ch.IOUtil.readIntoNativeBuffer(IOUtil.java:330)\n",
      "\tat java.base/sun.nio.ch.IOUtil.read(IOUtil.java:284)\n",
      "\tat java.base/sun.nio.ch.IOUtil.read(IOUtil.java:259)\n",
      "\tat java.base/sun.nio.ch.SocketChannelImpl.read(SocketChannelImpl.java:417)\n",
      "\tat io.netty.buffer.PooledByteBuf.setBytes(PooledByteBuf.java:255)\n",
      "\tat io.netty.buffer.AbstractByteBuf.writeBytes(AbstractByteBuf.java:1132)\n",
      "\tat io.netty.channel.socket.nio.NioSocketChannel.doReadBytes(NioSocketChannel.java:356)\n",
      "\tat io.netty.channel.nio.AbstractNioByteChannel$NioByteUnsafe.read(AbstractNioByteChannel.java:151)\n",
      "\tat io.netty.channel.nio.NioEventLoop.processSelectedKey(NioEventLoop.java:796)\n",
      "\tat io.netty.channel.nio.NioEventLoop.processSelectedKeysOptimized(NioEventLoop.java:732)\n",
      "\tat io.netty.channel.nio.NioEventLoop.processSelectedKeys(NioEventLoop.java:658)\n",
      "\tat io.netty.channel.nio.NioEventLoop.run(NioEventLoop.java:562)\n",
      "\tat io.netty.util.concurrent.SingleThreadEventExecutor$4.run(SingleThreadEventExecutor.java:998)\n",
      "\tat io.netty.util.internal.ThreadExecutorMap$2.run(ThreadExecutorMap.java:74)\n",
      "\tat io.netty.util.concurrent.FastThreadLocalRunnable.run(FastThreadLocalRunnable.java:30)\n",
      "\tat java.base/java.lang.Thread.run(Thread.java:840)\n",
      "25/09/23 14:16:39 ERROR RetryingBlockTransferor: Exception while beginning fetch of 1 outstanding blocks (after 1 retries)\n",
      "java.io.IOException: Failed to connect to /10.12.255.65:49908\n",
      "\tat org.apache.spark.network.client.TransportClientFactory.createClient(TransportClientFactory.java:305)\n",
      "\tat org.apache.spark.network.client.TransportClientFactory.createClient(TransportClientFactory.java:225)\n",
      "\tat org.apache.spark.network.netty.NettyBlockTransferService$$anon$2.createAndStart(NettyBlockTransferService.scala:137)\n",
      "\tat org.apache.spark.network.shuffle.RetryingBlockTransferor.transferAllOutstanding(RetryingBlockTransferor.java:181)\n",
      "\tat org.apache.spark.network.shuffle.RetryingBlockTransferor.lambda$initiateRetry$0(RetryingBlockTransferor.java:228)\n",
      "\tat java.base/java.util.concurrent.ThreadPoolExecutor.runWorker(ThreadPoolExecutor.java:1136)\n",
      "\tat java.base/java.util.concurrent.ThreadPoolExecutor$Worker.run(ThreadPoolExecutor.java:635)\n",
      "\tat io.netty.util.concurrent.FastThreadLocalRunnable.run(FastThreadLocalRunnable.java:30)\n",
      "\tat java.base/java.lang.Thread.run(Thread.java:840)\n",
      "Caused by: io.netty.channel.AbstractChannel$AnnotatedSocketException: Network is unreachable: /10.12.255.65:49908\n",
      "Caused by: java.net.SocketException: Network is unreachable\n",
      "\tat java.base/sun.nio.ch.Net.connect0(Native Method)\n",
      "\tat java.base/sun.nio.ch.Net.connect(Net.java:579)\n",
      "\tat java.base/sun.nio.ch.Net.connect(Net.java:586)\n",
      "\tat java.base/sun.nio.ch.SocketChannelImpl.connect(SocketChannelImpl.java:853)\n",
      "\tat io.netty.util.internal.SocketUtils$3.run(SocketUtils.java:91)\n",
      "\tat io.netty.util.internal.SocketUtils$3.run(SocketUtils.java:88)\n",
      "\tat java.base/java.security.AccessController.doPrivileged(AccessController.java:569)\n",
      "\tat io.netty.util.internal.SocketUtils.connect(SocketUtils.java:88)\n",
      "\tat io.netty.channel.socket.nio.NioSocketChannel.doConnect(NioSocketChannel.java:321)\n",
      "\tat io.netty.channel.nio.AbstractNioChannel$AbstractNioUnsafe.connect(AbstractNioChannel.java:250)\n",
      "\tat io.netty.channel.DefaultChannelPipeline$HeadContext.connect(DefaultChannelPipeline.java:1289)\n",
      "\tat io.netty.channel.AbstractChannelHandlerContext.invokeConnect(AbstractChannelHandlerContext.java:655)\n",
      "\tat io.netty.channel.AbstractChannelHandlerContext.connect(AbstractChannelHandlerContext.java:634)\n",
      "\tat io.netty.channel.AbstractChannelHandlerContext.connect(AbstractChannelHandlerContext.java:618)\n",
      "\tat io.netty.channel.DefaultChannelPipeline.connect(DefaultChannelPipeline.java:927)\n",
      "\tat io.netty.channel.AbstractChannel.connect(AbstractChannel.java:264)\n",
      "\tat io.netty.bootstrap.Bootstrap$3.run(Bootstrap.java:264)\n",
      "\tat io.netty.util.concurrent.AbstractEventExecutor.runTask(AbstractEventExecutor.java:173)\n",
      "\tat io.netty.util.concurrent.AbstractEventExecutor.safeExecute(AbstractEventExecutor.java:166)\n",
      "\tat io.netty.util.concurrent.SingleThreadEventExecutor.runAllTasks(SingleThreadEventExecutor.java:472)\n",
      "\tat io.netty.channel.nio.NioEventLoop.run(NioEventLoop.java:569)\n",
      "\tat io.netty.util.concurrent.SingleThreadEventExecutor$4.run(SingleThreadEventExecutor.java:998)\n",
      "\tat io.netty.util.internal.ThreadExecutorMap$2.run(ThreadExecutorMap.java:74)\n",
      "\tat io.netty.util.concurrent.FastThreadLocalRunnable.run(FastThreadLocalRunnable.java:30)\n",
      "\tat java.base/java.lang.Thread.run(Thread.java:840)\n",
      "                                                                                \r"
     ]
    },
    {
     "data": {
      "text/html": [
       "<div>\n",
       "<style scoped>\n",
       "    .dataframe tbody tr th:only-of-type {\n",
       "        vertical-align: middle;\n",
       "    }\n",
       "\n",
       "    .dataframe tbody tr th {\n",
       "        vertical-align: top;\n",
       "    }\n",
       "\n",
       "    .dataframe thead th {\n",
       "        text-align: right;\n",
       "    }\n",
       "</style>\n",
       "<table border=\"1\" class=\"dataframe\">\n",
       "  <thead>\n",
       "    <tr style=\"text-align: right;\">\n",
       "      <th></th>\n",
       "      <th>state</th>\n",
       "      <th>total_revenue</th>\n",
       "      <th>txn_count</th>\n",
       "      <th>avg_c_fraud_prob</th>\n",
       "    </tr>\n",
       "  </thead>\n",
       "  <tbody>\n",
       "    <tr>\n",
       "      <th>0</th>\n",
       "      <td>NT</td>\n",
       "      <td>3.903729e+07</td>\n",
       "      <td>206429</td>\n",
       "      <td>17.621330</td>\n",
       "    </tr>\n",
       "    <tr>\n",
       "      <th>1</th>\n",
       "      <td>ACT</td>\n",
       "      <td>2.462346e+07</td>\n",
       "      <td>133063</td>\n",
       "      <td>16.173674</td>\n",
       "    </tr>\n",
       "    <tr>\n",
       "      <th>2</th>\n",
       "      <td>SA</td>\n",
       "      <td>3.063562e+08</td>\n",
       "      <td>1646462</td>\n",
       "      <td>17.354293</td>\n",
       "    </tr>\n",
       "    <tr>\n",
       "      <th>3</th>\n",
       "      <td>TAS</td>\n",
       "      <td>1.015295e+08</td>\n",
       "      <td>536684</td>\n",
       "      <td>17.667464</td>\n",
       "    </tr>\n",
       "    <tr>\n",
       "      <th>4</th>\n",
       "      <td>WA</td>\n",
       "      <td>4.255546e+08</td>\n",
       "      <td>2294769</td>\n",
       "      <td>17.059223</td>\n",
       "    </tr>\n",
       "  </tbody>\n",
       "</table>\n",
       "</div>"
      ],
      "text/plain": [
       "  state  total_revenue  txn_count  avg_c_fraud_prob\n",
       "0    NT   3.903729e+07     206429         17.621330\n",
       "1   ACT   2.462346e+07     133063         16.173674\n",
       "2    SA   3.063562e+08    1646462         17.354293\n",
       "3   TAS   1.015295e+08     536684         17.667464\n",
       "4    WA   4.255546e+08    2294769         17.059223"
      ]
     },
     "execution_count": 34,
     "metadata": {},
     "output_type": "execute_result"
    }
   ],
   "source": [
    "# Only take the columns we need to avoid additional data interference\n",
    "agg_spark = (\n",
    "    df_final\n",
    "    .filter(F.col(\"state\").isNotNull())\n",
    "    .groupBy(\"state\")\n",
    "    .agg(\n",
    "        F.sum(\"dollar_value\").alias(\"total_revenue\"),\n",
    "        F.count(F.lit(1)).alias(\"txn_count\"),\n",
    "        F.avg(\"c_fraud_prob\").alias(\"avg_c_fraud_prob\")   # Average the probability of consumer fraud \n",
    "    )\n",
    ")\n",
    "\n",
    "# Switch to Pandas\n",
    "agg_pd = agg_spark.toPandas()\n",
    "agg_pd.head()"
   ]
  },
  {
   "cell_type": "code",
   "execution_count": 35,
   "id": "5cfdc206",
   "metadata": {},
   "outputs": [
    {
     "data": {
      "text/html": [
       "<div>\n",
       "<style scoped>\n",
       "    .dataframe tbody tr th:only-of-type {\n",
       "        vertical-align: middle;\n",
       "    }\n",
       "\n",
       "    .dataframe tbody tr th {\n",
       "        vertical-align: top;\n",
       "    }\n",
       "\n",
       "    .dataframe thead th {\n",
       "        text-align: right;\n",
       "    }\n",
       "</style>\n",
       "<table border=\"1\" class=\"dataframe\">\n",
       "  <thead>\n",
       "    <tr style=\"text-align: right;\">\n",
       "      <th></th>\n",
       "      <th>state</th>\n",
       "      <th>geometry</th>\n",
       "    </tr>\n",
       "  </thead>\n",
       "  <tbody>\n",
       "    <tr>\n",
       "      <th>0</th>\n",
       "      <td>NSW</td>\n",
       "      <td>MULTIPOLYGON (((159.0623 -31.50886, 159.06218 ...</td>\n",
       "    </tr>\n",
       "    <tr>\n",
       "      <th>1</th>\n",
       "      <td>VIC</td>\n",
       "      <td>MULTIPOLYGON (((146.29286 -39.15778, 146.29341...</td>\n",
       "    </tr>\n",
       "    <tr>\n",
       "      <th>2</th>\n",
       "      <td>QLD</td>\n",
       "      <td>MULTIPOLYGON (((142.5314 -10.68301, 142.53072 ...</td>\n",
       "    </tr>\n",
       "    <tr>\n",
       "      <th>3</th>\n",
       "      <td>SA</td>\n",
       "      <td>MULTIPOLYGON (((140.66025 -38.06256, 140.66006...</td>\n",
       "    </tr>\n",
       "    <tr>\n",
       "      <th>4</th>\n",
       "      <td>WA</td>\n",
       "      <td>MULTIPOLYGON (((117.86953 -35.19108, 117.86961...</td>\n",
       "    </tr>\n",
       "  </tbody>\n",
       "</table>\n",
       "</div>"
      ],
      "text/plain": [
       "  state                                           geometry\n",
       "0   NSW  MULTIPOLYGON (((159.0623 -31.50886, 159.06218 ...\n",
       "1   VIC  MULTIPOLYGON (((146.29286 -39.15778, 146.29341...\n",
       "2   QLD  MULTIPOLYGON (((142.5314 -10.68301, 142.53072 ...\n",
       "3    SA  MULTIPOLYGON (((140.66025 -38.06256, 140.66006...\n",
       "4    WA  MULTIPOLYGON (((117.86953 -35.19108, 117.86961..."
      ]
     },
     "execution_count": 35,
     "metadata": {},
     "output_type": "execute_result"
    }
   ],
   "source": [
    "# Try to automatically find a column like \"State Name/Abbreviation\"\n",
    "candidates = [c for c in gdf.columns if c.lower() in {\n",
    "    \"state\",\"state_name\",\"statename\",\"ste_name\",\"ste_name16\",\"ste_name21\",\n",
    "    \"state_abbr\",\"abbr\",\"ste_code\",\"ste\",\"jurisdiction\"\n",
    "}]\n",
    "\n",
    "# If the shapefile is the full name of the state, we will convert it to the abbreviation. If it is originally an abbreviation, just use it directly\n",
    "name_to_abbr = {\n",
    "    \"new south wales\":\"NSW\", \"victoria\":\"VIC\", \"queensland\":\"QLD\",\n",
    "    \"south australia\":\"SA\", \"western australia\":\"WA\", \"tasmania\":\"TAS\",\n",
    "    \"northern territory\":\"NT\", \"australian capital territory\":\"ACT\",\n",
    "    # Compatible with common abbreviations/variants\n",
    "    \"nsw\":\"NSW\",\"vic\":\"VIC\",\"qld\":\"QLD\",\"sa\":\"SA\",\"wa\":\"WA\",\"tas\":\"TAS\",\"nt\":\"NT\",\"act\":\"ACT\"\n",
    "}\n",
    "\n",
    "def ensure_state_abbr(row_string:str):\n",
    "    if pd.isna(row_string): \n",
    "        return None\n",
    "    s = str(row_string).strip().lower()\n",
    "    return name_to_abbr.get(s, s.upper())   # If you can't find it, just consider it as an abbreviation\n",
    "\n",
    "if len(candidates) == 0:\n",
    "    raise ValueError(f\"No available state names were found in the shapefile. First, print(gdf.columns) to see which columns can be used for state names/abbreviations\")\n",
    "\n",
    "state_col = candidates[0]  # Use the first candidate column\n",
    "gdf = gdf.copy()\n",
    "gdf[\"state\"] = gdf[state_col].apply(ensure_state_abbr)\n",
    "\n",
    "# Only retain the state boundary \"state\" key\n",
    "gdf = gdf[[\"state\", \"geometry\"]]\n",
    "gdf.head()"
   ]
  },
  {
   "cell_type": "code",
   "execution_count": 36,
   "id": "086a885e",
   "metadata": {},
   "outputs": [
    {
     "data": {
      "image/png": "[encoded data removed]",
      "text/plain": [
       "<Figure size 2520x700 with 6 Axes>"
      ]
     },
     "metadata": {},
     "output_type": "display_data"
    }
   ],
   "source": [
    "# Merge to the gdf\n",
    "gdf_plot = gdf.merge(agg_pd, on=\"state\", how=\"left\")\n",
    "\n",
    "# Unify the display style of the map\n",
    "mpl.rcParams[\"figure.dpi\"] = 140\n",
    "\n",
    "fig, axes = plt.subplots(1, 3, figsize=(18, 5), constrained_layout=True)\n",
    "\n",
    "# Total transaction amount\n",
    "gdf_plot.plot(\n",
    "    column=\"total_revenue\",\n",
    "    ax=axes[0],\n",
    "    cmap=\"Blues\",\n",
    "    legend=True,\n",
    "    legend_kwds={\"label\": \"Total Revenue (AUD)\", \"shrink\": 0.7},\n",
    "    missing_kwds={\"color\":\"lightgrey\",\"hatch\":\"///\",\"label\":\"No data\"}\n",
    ")\n",
    "axes[0].set_title(\"Total Transaction Value by State\")\n",
    "axes[0].axis(\"off\")\n",
    "\n",
    "# Transaction number\n",
    "gdf_plot.plot(\n",
    "    column=\"txn_count\",\n",
    "    ax=axes[1],\n",
    "    cmap=\"Greens\",\n",
    "    legend=True,\n",
    "    legend_kwds={\"label\": \"Transaction Count\", \"shrink\": 0.7},\n",
    "    missing_kwds={\"color\":\"lightgrey\",\"hatch\":\"///\",\"label\":\"No data\"}\n",
    ")\n",
    "axes[1].set_title(\"Transaction Count by State\")\n",
    "axes[1].axis(\"off\")\n",
    "\n",
    "# Average probability of consumer fraud\n",
    "gdf_plot.plot(\n",
    "    column=\"avg_c_fraud_prob\",\n",
    "    ax=axes[2],\n",
    "    cmap=\"OrRd\",\n",
    "    legend=True,\n",
    "    legend_kwds={\"label\": \"Avg Consumer Fraud Probability\", \"shrink\": 0.7},\n",
    "    missing_kwds={\"color\":\"lightgrey\",\"hatch\":\"///\",\"label\":\"No data\"}\n",
    ")\n",
    "axes[2].set_title(\"Average Consumer Fraud Probability by State\")\n",
    "axes[2].axis(\"off\")\n",
    "\n",
    "# The description of \"no data\" in the unified legend (will only be displayed when there is indeed a deficiency)\n",
    "handles, labels = axes[2].get_legend_handles_labels()\n",
    "if \"No data\" in labels:\n",
    "    fig.legend(handles, labels, loc=\"lower center\", ncols=4, frameon=False)\n",
    "\n",
    "plt.show()"
   ]
  },
  {
   "cell_type": "code",
   "execution_count": 37,
   "id": "e78cffd4",
   "metadata": {},
   "outputs": [
    {
     "name": "stderr",
     "output_type": "stream",
     "text": [
      "[Stage 653:==================================================>      (8 + 1) / 9]\r"
     ]
    },
    {
     "name": "stdout",
     "output_type": "stream",
     "text": [
      "Data saved as Parquet at initial_transaction.parquet\n"
     ]
    },
    {
     "name": "stderr",
     "output_type": "stream",
     "text": [
      "                                                                                \r"
     ]
    }
   ],
   "source": [
    "# Save the output\n",
    "output_path = \"initial_transaction.parquet\"\n",
    "\n",
    "df_final.write.mode(\"overwrite\").parquet(output_path)\n",
    "\n",
    "print(f\"Data saved as Parquet at {output_path}\")"
   ]
  },
  {
   "cell_type": "code",
   "execution_count": null,
   "id": "a9c36923",
   "metadata": {},
   "outputs": [
    {
     "name": "stdout",
     "output_type": "stream",
     "text": [
      "root\n",
      " |-- merchant_abn: long (nullable = true)\n",
      " |-- consumer_id: long (nullable = true)\n",
      " |-- state: string (nullable = true)\n",
      " |-- postcode: integer (nullable = true)\n",
      " |-- user_id: long (nullable = true)\n",
      " |-- order_id: string (nullable = true)\n",
      " |-- dollar_value: double (nullable = true)\n",
      " |-- gender: string (nullable = true)\n",
      " |-- order_datetime: date (nullable = true)\n",
      " |-- year_month: string (nullable = true)\n",
      " |-- pop: double (nullable = true)\n",
      " |-- median_income: double (nullable = true)\n",
      " |-- mean_income: double (nullable = true)\n",
      " |-- assault: double (nullable = true)\n",
      " |-- homicide: double (nullable = true)\n",
      " |-- kidnapping: double (nullable = true)\n",
      " |-- sexual assault: double (nullable = true)\n",
      " |-- crime_index: double (nullable = true)\n",
      " |-- m_fraud_prob: double (nullable = true)\n",
      " |-- m_name: string (nullable = true)\n",
      " |-- c_fraud_prob: double (nullable = true)\n",
      " |-- m_category: string (nullable = true)\n",
      " |-- m_take_rate: double (nullable = true)\n",
      "\n",
      "+------------+-----------+-----+--------+-------+--------------------+------------------+------+--------------+----------+-----------------+-------------+-----------+-------+--------+----------+--------------+-----------+------------+--------------------+------------------+----------+-----------+\n",
      "|merchant_abn|consumer_id|state|postcode|user_id|            order_id|      dollar_value|gender|order_datetime|year_month|              pop|median_income|mean_income|assault|homicide|kidnapping|sexual assault|crime_index|m_fraud_prob|              m_name|      c_fraud_prob|m_category|m_take_rate|\n",
      "+------------+-----------+-----+--------+-------+--------------------+------------------+------+--------------+----------+-----------------+-------------+-----------+-------+--------+----------+--------------+-----------+------------+--------------------+------------------+----------+-----------+\n",
      "| 33604812025|        551|  NSW|    2021|   3471|f381a114-18d7-4c7...|219.94202939977228|  Male|    2022-05-25|   2022-05|         131814.5|      73858.0|   132957.5|  852.0|     1.0|       2.6|         152.2|      456.9|        NULL|                NULL|30.335537391618317|     Other|       4.92|\n",
      "| 82065156333|    1491008|  VIC|    3051|  20307|475d6cd8-496e-4b6...| 9.981542904179639|Female|    2021-09-13|   2021-09|         153091.0|      50408.0|    74432.0|    0.0|     1.3|       2.2|          94.1|       19.3|        NULL|Nascetur Ridiculu...|14.239484308761591|     Other|       5.88|\n",
      "| 91848160033|        551|  NSW|    2021|   3471|cc5b1956-05c2-463...| 85.50801974492987|  Male|    2022-07-28|   2022-07|         131814.5|      73858.0|   132957.5|  852.0|     1.0|       2.6|         152.2|      456.9|        NULL|                NULL|30.335537391618317|     Other|       4.92|\n",
      "| 64203420245|     657032|   SA|    5094|  13264|0c377bb7-99a1-4d1...|17.969543059323506|Female|    2022-05-21|   2022-05|95246.66666666667|      52566.0|    58384.0| 1083.8|     1.6|       2.3|          99.7|      562.4|        NULL|  Pede Nonummy Corp.| 11.31345843138055|     Other|       2.86|\n",
      "| 20562405782|        551|  NSW|    2021|   3471|603b9cc0-3bc8-4ac...|30.863855908292166|  Male|    2022-02-06|   2022-02|         131814.5|      73858.0|   132957.5|  852.0|     1.0|       2.6|         152.2|      456.9|        NULL|                NULL|30.335537391618317|     Other|       4.92|\n",
      "| 40279146273|    1491008|  VIC|    3051|  20307|5921c888-ff91-413...|51.149982409672624|Female|    2021-03-29|   2021-03|         153091.0|      50408.0|    74432.0|    0.0|     1.3|       2.2|          94.1|       19.3|        NULL|Pellentesque Habi...|14.239484308761591|     Other|        6.0|\n",
      "| 83893827922|        551|  NSW|    2021|   3471|ee61b3c1-24a1-43a...|3602.7688637576885|  Male|    2021-05-14|   2021-05|         131814.5|      73858.0|   132957.5|  798.9|     1.0|       2.6|         141.8|      428.3|        NULL|                NULL|30.335537391618317|     Other|       4.92|\n",
      "| 80166805919|     657032|   SA|    5094|  13264|1332f441-afd6-4cc...|  121.846119809595|Female|    2021-08-08|   2021-08|95246.66666666667|      52566.0|    58384.0| 1008.2|     1.9|       2.3|          98.9|      524.5|        NULL|   Eu Dui Foundation| 11.31345843138055|     Other|       1.56|\n",
      "| 77698107389|        551|  NSW|    2021|   3471|aaea14f5-48e8-4ef...| 90.16967584866273|  Male|    2021-08-21|   2021-08|         131814.5|      73858.0|   132957.5|  798.9|     1.0|       2.6|         141.8|      428.3|        NULL|                NULL|30.335537391618317|     Other|       4.92|\n",
      "| 14492521225|    1491008|  VIC|    3051|  20307|5f456202-b31d-48d...| 6.266228663912431|Female|    2022-04-03|   2022-04|         153091.0|      50408.0|    74432.0|    0.0|     1.3|       2.7|         100.9|       20.7|        NULL|Praesent Eu Assoc...|14.239484308761591|     Other|        2.5|\n",
      "| 32234779638|        551|  NSW|    2021|   3471|b9423d5c-9083-4e6...| 80.46099153654205|  Male|    2021-07-15|   2021-07|         131814.5|      73858.0|   132957.5|  798.9|     1.0|       2.6|         141.8|      428.3|        NULL|                NULL|30.335537391618317|     Other|       4.92|\n",
      "| 92598420603|     657032|   SA|    5094|  13264|3fb52495-84ab-4d0...|144.71545744476438|Female|    2021-03-07|   2021-03|95246.66666666667|      52566.0|    58384.0| 1008.2|     1.9|       2.3|          98.9|      524.5|        NULL|Non Lobortis Quis...| 11.31345843138055|     Other|       3.44|\n",
      "| 32234779638|        551|  NSW|    2021|   3471|c7bb1b71-56cf-4c3...| 111.4694738689615|  Male|    2021-09-22|   2021-09|         131814.5|      73858.0|   132957.5|  798.9|     1.0|       2.6|         141.8|      428.3|        NULL|                NULL|30.335537391618317|     Other|       4.92|\n",
      "| 67915848101|    1491008|  VIC|    3051|  20307|62380e54-e99d-4ed...|231.19023628246526|Female|    2022-06-07|   2022-06|         153091.0|      50408.0|    74432.0|    0.0|     1.3|       2.7|         100.9|       20.7|        NULL|Aliquet Molestie ...|14.239484308761591|     Other|       2.25|\n",
      "| 32234779638|        551|  NSW|    2021|   3471|90634f84-5825-4e8...|  94.0111506109389|  Male|    2021-03-26|   2021-03|         131814.5|      73858.0|   132957.5|  798.9|     1.0|       2.6|         141.8|      428.3|        NULL|                NULL|30.335537391618317|     Other|       4.92|\n",
      "| 46804135891|     657032|   SA|    5094|  13264|4440fede-e175-460...|40.904639570679265|Female|    2021-03-20|   2021-03|95246.66666666667|      52566.0|    58384.0| 1008.2|     1.9|       2.3|          98.9|      524.5|        NULL|Suspendisse Dui C...| 11.31345843138055|     Other|       2.93|\n",
      "| 32234779638|        551|  NSW|    2021|   3471|c11b97f1-7514-43f...|112.53182597394392|  Male|    2021-05-10|   2021-05|         131814.5|      73858.0|   132957.5|  798.9|     1.0|       2.6|         141.8|      428.3|        NULL|                NULL|30.335537391618317|     Other|       4.92|\n",
      "| 62009586337|    1491008|  VIC|    3051|  20307|839fe3f0-508d-4b2...| 75.76647266372765|Female|    2022-09-14|   2022-09|         153091.0|      50408.0|    74432.0|    0.0|     1.3|       2.7|         100.9|       20.7|        NULL| Aliquet Magna A Ltd|14.239484308761591|     Other|       4.78|\n",
      "| 86083695354|        551|  NSW|    2021|   3471|4b88dd76-a4e6-4cf...| 1053.136029639563|  Male|    2021-09-04|   2021-09|         131814.5|      73858.0|   132957.5|  798.9|     1.0|       2.6|         141.8|      428.3|        NULL|                NULL|30.335537391618317|     Other|       4.92|\n",
      "| 22795471441|     657032|   SA|    5094|  13264|8d6f75f7-bbc7-47f...|30.944510840404988|Female|    2021-08-07|   2021-08|95246.66666666667|      52566.0|    58384.0| 1008.2|     1.9|       2.3|          98.9|      524.5|        NULL|Etiam Gravida Mol...| 11.31345843138055|     Other|       4.78|\n",
      "+------------+-----------+-----+--------+-------+--------------------+------------------+------+--------------+----------+-----------------+-------------+-----------+-------+--------+----------+--------------+-----------+------------+--------------------+------------------+----------+-----------+\n",
      "only showing top 20 rows\n"
     ]
    }
   ],
   "source": [
    "initial_transaction = spark.read.parquet(\"initial_transaction.parquet\")\n",
    "initial_transaction.printSchema()\n"
   ]
  },
  {
   "cell_type": "code",
   "execution_count": 41,
   "id": "ac4a64dc",
   "metadata": {},
   "outputs": [
    {
     "name": "stdout",
     "output_type": "stream",
     "text": [
      "+------------+-----------+-----+--------+-------+--------------------+------------------+------+--------------+----------+-----------------+-------------+-----------+-------+--------+----------+--------------+-----------+------------------+--------------------+------------------+----------+-----------+\n",
      "|merchant_abn|consumer_id|state|postcode|user_id|            order_id|      dollar_value|gender|order_datetime|year_month|              pop|median_income|mean_income|assault|homicide|kidnapping|sexual assault|crime_index|      m_fraud_prob|              m_name|      c_fraud_prob|m_category|m_take_rate|\n",
      "+------------+-----------+-----+--------+-------+--------------------+------------------+------+--------------+----------+-----------------+-------------+-----------+-------+--------+----------+--------------+-----------+------------------+--------------------+------------------+----------+-----------+\n",
      "| 33604812025|        551|  NSW|    2021|   3471|f381a114-18d7-4c7...|219.94202939977228|  Male|    2022-05-25|   2022-05|         131814.5|      73858.0|   132957.5|  852.0|     1.0|       2.6|         152.2|      456.9|              NULL|                NULL|30.335537391618317|     Other|       4.92|\n",
      "| 82065156333|    1491008|  VIC|    3051|  20307|475d6cd8-496e-4b6...| 9.981542904179639|Female|    2021-09-13|   2021-09|         153091.0|      50408.0|    74432.0|    0.0|     1.3|       2.2|          94.1|       19.3|              NULL|Nascetur Ridiculu...|14.239484308761591|     Other|       5.88|\n",
      "| 91848160033|        551|  NSW|    2021|   3471|cc5b1956-05c2-463...| 85.50801974492987|  Male|    2022-07-28|   2022-07|         131814.5|      73858.0|   132957.5|  852.0|     1.0|       2.6|         152.2|      456.9|              NULL|                NULL|30.335537391618317|     Other|       4.92|\n",
      "| 64203420245|     657032|   SA|    5094|  13264|0c377bb7-99a1-4d1...|17.969543059323506|Female|    2022-05-21|   2022-05|95246.66666666667|      52566.0|    58384.0| 1083.8|     1.6|       2.3|          99.7|      562.4|              NULL|  Pede Nonummy Corp.| 11.31345843138055|     Other|       2.86|\n",
      "| 20562405782|        551|  NSW|    2021|   3471|603b9cc0-3bc8-4ac...|30.863855908292166|  Male|    2022-02-06|   2022-02|         131814.5|      73858.0|   132957.5|  852.0|     1.0|       2.6|         152.2|      456.9|              NULL|                NULL|30.335537391618317|     Other|       4.92|\n",
      "| 40279146273|    1491008|  VIC|    3051|  20307|5921c888-ff91-413...|51.149982409672624|Female|    2021-03-29|   2021-03|         153091.0|      50408.0|    74432.0|    0.0|     1.3|       2.2|          94.1|       19.3|              NULL|Pellentesque Habi...|14.239484308761591|     Other|        6.0|\n",
      "| 83893827922|        551|  NSW|    2021|   3471|ee61b3c1-24a1-43a...|3602.7688637576885|  Male|    2021-05-14|   2021-05|         131814.5|      73858.0|   132957.5|  798.9|     1.0|       2.6|         141.8|      428.3|              NULL|                NULL|30.335537391618317|     Other|       4.92|\n",
      "| 80166805919|     657032|   SA|    5094|  13264|1332f441-afd6-4cc...|  121.846119809595|Female|    2021-08-08|   2021-08|95246.66666666667|      52566.0|    58384.0| 1008.2|     1.9|       2.3|          98.9|      524.5|              NULL|   Eu Dui Foundation| 11.31345843138055|     Other|       1.56|\n",
      "| 77698107389|        551|  NSW|    2021|   3471|aaea14f5-48e8-4ef...| 90.16967584866273|  Male|    2021-08-21|   2021-08|         131814.5|      73858.0|   132957.5|  798.9|     1.0|       2.6|         141.8|      428.3|              NULL|                NULL|30.335537391618317|     Other|       4.92|\n",
      "| 14492521225|    1491008|  VIC|    3051|  20307|5f456202-b31d-48d...| 6.266228663912431|Female|    2022-04-03|   2022-04|         153091.0|      50408.0|    74432.0|    0.0|     1.3|       2.7|         100.9|       20.7|              NULL|Praesent Eu Assoc...|14.239484308761591|     Other|        2.5|\n",
      "| 32234779638|        551|  NSW|    2021|   3471|b9423d5c-9083-4e6...| 80.46099153654205|  Male|    2021-07-15|   2021-07|         131814.5|      73858.0|   132957.5|  798.9|     1.0|       2.6|         141.8|      428.3|              NULL|                NULL|30.335537391618317|     Other|       4.92|\n",
      "| 92598420603|     657032|   SA|    5094|  13264|3fb52495-84ab-4d0...|144.71545744476438|Female|    2021-03-07|   2021-03|95246.66666666667|      52566.0|    58384.0| 1008.2|     1.9|       2.3|          98.9|      524.5|              NULL|Non Lobortis Quis...| 11.31345843138055|     Other|       3.44|\n",
      "| 32234779638|        551|  NSW|    2021|   3471|c7bb1b71-56cf-4c3...| 111.4694738689615|  Male|    2021-09-22|   2021-09|         131814.5|      73858.0|   132957.5|  798.9|     1.0|       2.6|         141.8|      428.3|              NULL|                NULL|30.335537391618317|     Other|       4.92|\n",
      "| 67915848101|    1491008|  VIC|    3051|  20307|62380e54-e99d-4ed...|231.19023628246526|Female|    2022-06-07|   2022-06|         153091.0|      50408.0|    74432.0|    0.0|     1.3|       2.7|         100.9|       20.7|              NULL|Aliquet Molestie ...|14.239484308761591|     Other|       2.25|\n",
      "| 32234779638|        551|  NSW|    2021|   3471|90634f84-5825-4e8...|  94.0111506109389|  Male|    2021-03-26|   2021-03|         131814.5|      73858.0|   132957.5|  798.9|     1.0|       2.6|         141.8|      428.3|              NULL|                NULL|30.335537391618317|     Other|       4.92|\n",
      "| 46804135891|     657032|   SA|    5094|  13264|4440fede-e175-460...|40.904639570679265|Female|    2021-03-20|   2021-03|95246.66666666667|      52566.0|    58384.0| 1008.2|     1.9|       2.3|          98.9|      524.5|              NULL|Suspendisse Dui C...| 11.31345843138055|     Other|       2.93|\n",
      "| 32234779638|        551|  NSW|    2021|   3471|c11b97f1-7514-43f...|112.53182597394392|  Male|    2021-05-10|   2021-05|         131814.5|      73858.0|   132957.5|  798.9|     1.0|       2.6|         141.8|      428.3|              NULL|                NULL|30.335537391618317|     Other|       4.92|\n",
      "| 62009586337|    1491008|  VIC|    3051|  20307|839fe3f0-508d-4b2...| 75.76647266372765|Female|    2022-09-14|   2022-09|         153091.0|      50408.0|    74432.0|    0.0|     1.3|       2.7|         100.9|       20.7|              NULL| Aliquet Magna A Ltd|14.239484308761591|     Other|       4.78|\n",
      "| 86083695354|        551|  NSW|    2021|   3471|4b88dd76-a4e6-4cf...| 1053.136029639563|  Male|    2021-09-04|   2021-09|         131814.5|      73858.0|   132957.5|  798.9|     1.0|       2.6|         141.8|      428.3|              NULL|                NULL|30.335537391618317|     Other|       4.92|\n",
      "| 22795471441|     657032|   SA|    5094|  13264|8d6f75f7-bbc7-47f...|30.944510840404988|Female|    2021-08-07|   2021-08|95246.66666666667|      52566.0|    58384.0| 1008.2|     1.9|       2.3|          98.9|      524.5|              NULL|Etiam Gravida Mol...| 11.31345843138055|     Other|       4.78|\n",
      "| 32234779638|        551|  NSW|    2021|   3471|3260eb59-459c-4e0...|33.561037315562785|  Male|    2022-07-19|   2022-07|         131814.5|      73858.0|   132957.5|  852.0|     1.0|       2.6|         152.2|      456.9|              NULL|                NULL|30.335537391618317|     Other|       4.92|\n",
      "| 18645942609|    1491008|  VIC|    3051|  20307|9596ffec-d83c-4a1...|34.050771396292646|Female|    2022-10-25|   2022-10|         153091.0|      50408.0|    74432.0|    0.0|     1.3|       2.7|         100.9|       20.7|              NULL|  Pellentesque A LLP|14.239484308761591|     Other|       4.56|\n",
      "| 42211422632|        551|  NSW|    2021|   3471|c315e576-1e6c-428...|  45.9688986213006|  Male|    2022-03-21|   2022-03|         131814.5|      73858.0|   132957.5|  852.0|     1.0|       2.6|         152.2|      456.9|              NULL|                NULL|30.335537391618317|     Other|       4.92|\n",
      "| 15299889494|     657032|   SA|    5094|  13264|ab105d13-e068-486...| 187.1107560881501|Female|    2022-06-23|   2022-06|95246.66666666667|      52566.0|    58384.0| 1083.8|     1.6|       2.3|          99.7|      562.4|              NULL|  Porttitor Eros Ltd| 11.31345843138055|     Other|       5.01|\n",
      "| 32234779638|        551|  NSW|    2021|   3471|81f91554-50b0-453...|37.350264866283766|  Male|    2021-07-05|   2021-07|         131814.5|      73858.0|   132957.5|  798.9|     1.0|       2.6|         141.8|      428.3|              NULL|                NULL|30.335537391618317|     Other|       4.92|\n",
      "| 64203420245|    1491008|  VIC|    3051|  20307|b08bfedc-99ca-40e...|38.827409080728835|Female|    2021-11-22|   2021-11|         153091.0|      50408.0|    74432.0|    0.0|     1.3|       2.2|          94.1|       19.3|              NULL|  Pede Nonummy Corp.|14.239484308761591|     Other|       2.86|\n",
      "| 29566626791|        551|  NSW|    2021|   3471|e85a079e-277b-479...|10.603513879219523|  Male|    2021-08-29|   2021-08|         131814.5|      73858.0|   132957.5|  798.9|     1.0|       2.6|         141.8|      428.3|              NULL|                NULL|30.335537391618317|     Other|       4.92|\n",
      "| 35016722348|     657032|   SA|    5094|  13264|bd8e6e25-47e8-4a9...| 71.03377536668859|Female|    2021-11-24|   2021-11|95246.66666666667|      52566.0|    58384.0| 1008.2|     1.9|       2.3|          98.9|      524.5|              NULL|            Lacus PC| 11.31345843138055|     Other|       6.09|\n",
      "| 42211422632|        551|  NSW|    2021|   3471|f527feba-6fd2-41c...|121.18980553932941|  Male|    2021-10-04|   2021-10|         131814.5|      73858.0|   132957.5|  798.9|     1.0|       2.6|         141.8|      428.3|              NULL|                NULL|30.335537391618317|     Other|       4.92|\n",
      "| 71946255432|    1491008|  VIC|    3051|  20307|baa2e577-5ab5-4fa...|   44.556171037642|Female|    2021-04-21|   2021-04|         153091.0|      50408.0|    74432.0|    0.0|     1.3|       2.2|          94.1|       19.3|              NULL|      Diam Institute|14.239484308761591|     Other|       2.12|\n",
      "| 32234779638|        551|  NSW|    2021|   3471|607fc622-7788-4da...|156.45325079530602|  Male|    2022-04-07|   2022-04|         131814.5|      73858.0|   132957.5|  852.0|     1.0|       2.6|         152.2|      456.9|              NULL|                NULL|30.335537391618317|     Other|       4.92|\n",
      "| 66667026714|     657032|   SA|    5094|  13264|e2b35518-84f3-437...| 56.57912897661234|Female|    2021-12-30|   2021-12|95246.66666666667|      52566.0|    58384.0| 1008.2|     1.9|       2.3|          98.9|      524.5|              NULL|Sit Amet Risus Fo...| 11.31345843138055|     Other|       1.85|\n",
      "| 30984752802|        551|  NSW|    2021|   3471|92d23635-e480-4c7...| 2301.455135346623|  Male|    2022-06-27|   2022-06|         131814.5|      73858.0|   132957.5|  852.0|     1.0|       2.6|         152.2|      456.9|              NULL|                NULL|30.335537391618317|     Other|       4.92|\n",
      "| 64203420245|    1491008|  VIC|    3051|  20307|eafcd86a-5e93-4a5...|54.175786235047745|Female|    2022-01-13|   2022-01|         153091.0|      50408.0|    74432.0|    0.0|     1.3|       2.7|         100.9|       20.7|              NULL|  Pede Nonummy Corp.|14.239484308761591|     Other|       2.86|\n",
      "| 30984752802|        551|  NSW|    2021|   3471|ea821825-8613-413...|1794.3701764933887|  Male|    2022-01-10|   2022-01|         131814.5|      73858.0|   132957.5|  852.0|     1.0|       2.6|         152.2|      456.9|              NULL|                NULL|30.335537391618317|     Other|       4.92|\n",
      "| 57900494384|     657032|   SA|    5094|  13264|e8804905-6d76-4f8...| 6.641687656870719|Female|    2021-07-02|   2021-07|95246.66666666667|      52566.0|    58384.0| 1008.2|     1.9|       2.3|          98.9|      524.5|              NULL|Porttitor Tellus ...| 11.31345843138055|     Other|       6.39|\n",
      "| 77698107389|        551|  NSW|    2021|   3471|0f0b1326-ae15-472...|  141.139568646472|  Male|    2021-04-14|   2021-04|         131814.5|      73858.0|   132957.5|  798.9|     1.0|       2.6|         141.8|      428.3|              NULL|                NULL|30.335537391618317|     Other|       4.92|\n",
      "| 49891706470|    1491008|  VIC|    3051|  20307|efadfaca-f0fc-48d...|21.300714307138186|Female|    2022-05-24|   2022-05|         153091.0|      50408.0|    74432.0|    0.0|     1.3|       2.7|         100.9|       20.7|              NULL|Non Vestibulum In...|14.239484308761591|     Other|        5.8|\n",
      "| 75342681786|        551|  NSW|    2021|   3471|3f4b9a65-d12b-47f...|12.778616504440759|  Male|    2022-08-07|   2022-08|         131814.5|      73858.0|   132957.5|  852.0|     1.0|       2.6|         152.2|      456.9|              NULL|                NULL|30.335537391618317|     Other|       4.92|\n",
      "| 21439773999|     657032|   SA|    5094|  13264|ec73d9e4-3886-46f...| 75.30587422346919|Female|    2022-05-08|   2022-05|95246.66666666667|      52566.0|    58384.0| 1083.8|     1.6|       2.3|          99.7|      562.4|28.504479048104585|Mauris Non Institute| 11.31345843138055|     Other|        6.1|\n",
      "| 76224940587|        551|  NSW|    2021|   3471|c36c3564-5ed6-407...|37.870219375119085|  Male|    2022-03-17|   2022-03|         131814.5|      73858.0|   132957.5|  852.0|     1.0|       2.6|         152.2|      456.9|              NULL|                NULL|30.335537391618317|     Other|       4.92|\n",
      "| 59658193201|    1491008|  VIC|    3051|  20307|eff1979a-fae6-4b9...|161.55235572070708|Female|    2022-07-15|   2022-07|         153091.0|      50408.0|    74432.0|    0.0|     1.3|       2.7|         100.9|       20.7|              NULL|   Id Ante Institute|14.239484308761591|     Other|       6.16|\n",
      "| 40324168149|        551|  NSW|    2021|   3471|dae69f0f-63c0-456...| 536.0586127112142|  Male|    2022-06-04|   2022-06|         131814.5|      73858.0|   132957.5|  852.0|     1.0|       2.6|         152.2|      456.9|              NULL|                NULL|30.335537391618317|     Other|       4.92|\n",
      "| 64203420245|     657032|   SA|    5094|  13264|3a5f2ad1-c689-450...|11.670876221451444|Female|    2022-04-26|   2022-04|95246.66666666667|      52566.0|    58384.0| 1083.8|     1.6|       2.3|          99.7|      562.4|              NULL|  Pede Nonummy Corp.| 11.31345843138055|     Other|       2.86|\n",
      "| 32234779638|        551|  NSW|    2021|   3471|11130254-58ef-41e...| 64.27276436189537|  Male|    2022-03-31|   2022-03|         131814.5|      73858.0|   132957.5|  852.0|     1.0|       2.6|         152.2|      456.9|              NULL|                NULL|30.335537391618317|     Other|       4.92|\n",
      "| 79645157255|    1491008|  VIC|    3051|  20307|f072019c-6a37-40a...|26.082817206387308|Female|    2021-05-03|   2021-05|         153091.0|      50408.0|    74432.0|    0.0|     1.3|       2.2|          94.1|       19.3|              NULL|Consectetuer Maur...|14.239484308761591|     Other|       6.46|\n",
      "| 32234779638|        551|  NSW|    2021|   3471|1dd01af8-45fe-488...| 38.03686511610269|  Male|    2021-11-20|   2021-11|         131814.5|      73858.0|   132957.5|  798.9|     1.0|       2.6|         141.8|      428.3|              NULL|                NULL|30.335537391618317|     Other|       4.92|\n",
      "| 11566786699|     657032|   SA|    5094|  13264|3a7ecce7-19de-45b...| 63.48057746505146|Female|    2022-06-21|   2022-06|95246.66666666667|      52566.0|    58384.0| 1083.8|     1.6|       2.3|          99.7|      562.4|              NULL|Euismod Et Institute| 11.31345843138055|     Other|       2.62|\n",
      "| 11240426404|        551|  NSW|    2021|   3471|c109f1b0-c41e-4d9...|107.96858587254117|  Male|    2022-08-01|   2022-08|         131814.5|      73858.0|   132957.5|  852.0|     1.0|       2.6|         152.2|      456.9|              NULL|                NULL|30.335537391618317|     Other|       4.92|\n",
      "| 21532935983|    1491008|  VIC|    3051|  20307|fe0311d8-27d7-493...| 83.09729813286569|Female|    2022-04-03|   2022-04|         153091.0|      50408.0|    74432.0|    0.0|     1.3|       2.7|         100.9|       20.7|              NULL|Eleifend Nec Inco...|14.239484308761591|     Other|       5.58|\n",
      "| 80788167198|        551|  NSW|    2021|   3471|dfad4786-7884-47a...| 21.73165409632963|  Male|    2021-12-17|   2021-12|         131814.5|      73858.0|   132957.5|  798.9|     1.0|       2.6|         141.8|      428.3|              NULL|                NULL|30.335537391618317|     Other|       4.92|\n",
      "| 59615752944|     657032|   SA|    5094|  13264|56d466e6-3996-43f...| 488.5694417824516|Female|    2022-03-31|   2022-03|95246.66666666667|      52566.0|    58384.0| 1083.8|     1.6|       2.3|          99.7|      562.4|              NULL|  Mauris Corporation| 11.31345843138055|     Other|       3.86|\n",
      "| 32234779638|        551|  NSW|    2021|   3471|829a2e12-65cb-458...|134.71707037893438|  Male|    2021-10-06|   2021-10|         131814.5|      73858.0|   132957.5|  798.9|     1.0|       2.6|         141.8|      428.3|              NULL|                NULL|30.335537391618317|     Other|       4.92|\n",
      "| 20985347699|    1491008|  VIC|    3051|  20307|02ff4db1-b1ac-442...|2.6310254333474887|Female|    2022-09-07|   2022-09|         153091.0|      50408.0|    74432.0|    0.0|     1.3|       2.7|         100.9|       20.7|              NULL|    Semper Tellus PC|14.239484308761591|     Other|        6.1|\n",
      "| 75342681786|       1175|  NSW|    2299|   3698|c8a03226-a47f-47a...| 31.86736475513714|  Male|    2022-03-31|   2022-03|         179587.0|      57265.0|    72272.0|  852.0|     1.0|       2.6|         152.2|      456.9|              NULL|                NULL| 19.65968404776971|     Other|       4.92|\n",
      "| 39088614710|     657032|   SA|    5094|  13264|5da9ee7c-261d-4d3...|27.964538811096364|Female|    2022-06-25|   2022-06|95246.66666666667|      52566.0|    58384.0| 1083.8|     1.6|       2.3|          99.7|      562.4|              NULL|   Ut Eros Institute| 11.31345843138055|     Other|       5.67|\n",
      "| 55282987193|       1175|  NSW|    2299|   3698|da7eee8c-5505-4a4...|43.240969138427374|  Male|    2021-07-17|   2021-07|         179587.0|      57265.0|    72272.0|  798.9|     1.0|       2.6|         141.8|      428.3|              NULL|                NULL| 19.65968404776971|     Other|       4.92|\n",
      "| 89726005175|    1491008|  VIC|    3051|  20307|090578db-8308-491...|  41.0097854988307|Female|    2022-10-05|   2022-10|         153091.0|      50408.0|    74432.0|    0.0|     1.3|       2.7|         100.9|       20.7|              NULL| Est Nunc Consulting|14.239484308761591|     Other|       6.01|\n",
      "| 32234779638|       1175|  NSW|    2299|   3698|e1381f6b-03e6-41a...|  89.4053260147513|  Male|    2022-03-07|   2022-03|         179587.0|      57265.0|    72272.0|  852.0|     1.0|       2.6|         152.2|      456.9|              NULL|                NULL| 19.65968404776971|     Other|       4.92|\n",
      "| 89726005175|     657032|   SA|    5094|  13264|706bfbd5-b442-4aa...| 40.19813547068894|Female|    2021-09-13|   2021-09|95246.66666666667|      52566.0|    58384.0| 1008.2|     1.9|       2.3|          98.9|      524.5|              NULL| Est Nunc Consulting| 11.31345843138055|     Other|       6.01|\n",
      "| 33604812025|       1175|  NSW|    2299|   3698|66e204d4-ca1c-4e1...|136.10192098358465|  Male|    2022-06-02|   2022-06|         179587.0|      57265.0|    72272.0|  852.0|     1.0|       2.6|         152.2|      456.9|              NULL|                NULL| 19.65968404776971|     Other|       4.92|\n",
      "| 30942453214|    1491008|  VIC|    3051|  20307|298a0374-a262-413...| 260.0513248691065|Female|    2022-10-24|   2022-10|         153091.0|      50408.0|    74432.0|    0.0|     1.3|       2.7|         100.9|       20.7|              NULL|Justo Nec Associates|14.239484308761591|     Other|       6.83|\n",
      "| 47856542678|       1175|  NSW|    2299|   3698|77aa20a7-d60d-434...| 90.62155690398471|  Male|    2021-06-25|   2021-06|         179587.0|      57265.0|    72272.0|  798.9|     1.0|       2.6|         141.8|      428.3|              NULL|                NULL| 19.65968404776971|     Other|       4.92|\n",
      "| 50423424106|     657032|   SA|    5094|  13264|7ea4dbd5-d8d3-49b...| 3.275952617207943|Female|    2021-12-11|   2021-12|95246.66666666667|      52566.0|    58384.0| 1008.2|     1.9|       2.3|          98.9|      524.5|              NULL|Aliquam Adipiscin...| 11.31345843138055|     Other|       1.77|\n",
      "| 17109287252|       1175|  NSW|    2299|   3698|4db23e9b-e2af-40f...|152.25860054426025|  Male|    2022-06-12|   2022-06|         179587.0|      57265.0|    72272.0|  852.0|     1.0|       2.6|         152.2|      456.9|              NULL|                NULL| 19.65968404776971|     Other|       4.92|\n",
      "| 53546629749|    1491008|  VIC|    3051|  20307|4f8f9366-c998-491...| 304.4607656221128|Female|    2022-02-27|   2022-02|         153091.0|      50408.0|    74432.0|    0.0|     1.3|       2.7|         100.9|       20.7|              NULL|  Integer Industries|14.239484308761591|     Other|       2.42|\n",
      "| 29566626791|       1175|  NSW|    2299|   3698|189aa9dd-0a68-4f5...| 54.38584170014075|  Male|    2021-07-20|   2021-07|         179587.0|      57265.0|    72272.0|  798.9|     1.0|       2.6|         141.8|      428.3|              NULL|                NULL| 19.65968404776971|     Other|       4.92|\n",
      "| 25370771356|     657032|   SA|    5094|  13264|817deef9-b1eb-4d1...|218.03931483911066|Female|    2022-03-06|   2022-03|95246.66666666667|      52566.0|    58384.0| 1083.8|     1.6|       2.3|          99.7|      562.4|              NULL|       Eu Tempor LLP| 11.31345843138055|     Other|       6.26|\n",
      "| 32234779638|       1175|  NSW|    2299|   3698|2c4ae5f7-f0f1-487...| 170.5172890022432|  Male|    2021-10-23|   2021-10|         179587.0|      57265.0|    72272.0|  798.9|     1.0|       2.6|         141.8|      428.3|              NULL|                NULL| 19.65968404776971|     Other|       4.92|\n",
      "| 19836429553|    1491008|  VIC|    3051|  20307|6c9b66e4-8c86-489...|152.28111547688047|Female|    2021-12-16|   2021-12|         153091.0|      50408.0|    74432.0|    0.0|     1.3|       2.2|          94.1|       19.3|              NULL|      Ac Feugiat LLP|14.239484308761591|     Other|        4.4|\n",
      "| 23633724513|       1175|  NSW|    2299|   3698|5f022c70-6975-49e...|4556.3430177647515|  Male|    2021-10-16|   2021-10|         179587.0|      57265.0|    72272.0|  798.9|     1.0|       2.6|         141.8|      428.3|              NULL|                NULL| 19.65968404776971|     Other|       4.92|\n",
      "| 48534649627|     657032|   SA|    5094|  13264|89ce268a-f70e-42c...|126.20986148748344|Female|    2022-10-17|   2022-10|95246.66666666667|      52566.0|    58384.0| 1083.8|     1.6|       2.3|          99.7|      562.4|29.005907009831038|Dignissim Maecena...| 11.31345843138055|     Other|       6.64|\n",
      "| 84682880992|       1175|  NSW|    2299|   3698|78d4bfcd-b311-4fb...|130.20009347407915|  Male|    2021-09-20|   2021-09|         179587.0|      57265.0|    72272.0|  798.9|     1.0|       2.6|         141.8|      428.3|              NULL|                NULL| 19.65968404776971|     Other|       4.92|\n",
      "| 49318926537|    1491008|  VIC|    3051|  20307|8578e2ad-3a66-482...|132.74719594539008|Female|    2021-11-22|   2021-11|         153091.0|      50408.0|    74432.0|    0.0|     1.3|       2.2|          94.1|       19.3|              NULL|  Ut Nisi Associates|14.239484308761591|     Other|       1.89|\n",
      "| 32234779638|       1175|  NSW|    2299|   3698|3dc68620-4ff2-433...|143.55574796053045|  Male|    2021-08-17|   2021-08|         179587.0|      57265.0|    72272.0|  798.9|     1.0|       2.6|         141.8|      428.3|              NULL|                NULL| 19.65968404776971|     Other|       4.92|\n",
      "| 48534649627|     657032|   SA|    5094|  13264|89ce268a-f70e-42c...|126.20986148748344|Female|    2022-10-17|   2022-10|95246.66666666667|      52566.0|    58384.0| 1083.8|     1.6|       2.3|          99.7|      562.4| 28.36052168812278|Dignissim Maecena...| 11.31345843138055|     Other|       6.64|\n",
      "| 21328457653|       1175|  NSW|    2299|   3698|d354dc50-008d-4c8...|10.955367233884314|  Male|    2022-04-22|   2022-04|         179587.0|      57265.0|    72272.0|  852.0|     1.0|       2.6|         152.2|      456.9|              NULL|                NULL| 19.65968404776971|     Other|       4.92|\n",
      "| 19933438190|    1491008|  VIC|    3051|  20307|8827191d-cf47-4f8...|23.859059655283037|Female|    2021-08-26|   2021-08|         153091.0|      50408.0|    74432.0|    0.0|     1.3|       2.2|          94.1|       19.3|              NULL| Dui Nec Corporation|14.239484308761591|     Other|       2.22|\n",
      "| 20562405782|       1175|  NSW|    2299|   3698|6b785d18-163b-466...|11.108964275597394|  Male|    2022-05-29|   2022-05|         179587.0|      57265.0|    72272.0|  852.0|     1.0|       2.6|         152.2|      456.9|              NULL|                NULL| 19.65968404776971|     Other|       4.92|\n",
      "| 48534649627|     657032|   SA|    5094|  13264|89ce268a-f70e-42c...|126.20986148748344|Female|    2022-10-17|   2022-10|95246.66666666667|      52566.0|    58384.0| 1083.8|     1.6|       2.3|          99.7|      562.4|28.337370196230054|Dignissim Maecena...| 11.31345843138055|     Other|       6.64|\n",
      "| 29323795999|       1175|  NSW|    2299|   3698|416cf44e-52c3-4a2...|21.478274858152567|  Male|    2021-06-13|   2021-06|         179587.0|      57265.0|    72272.0|  798.9|     1.0|       2.6|         141.8|      428.3|              NULL|                NULL| 19.65968404776971|     Other|       4.92|\n",
      "| 25365595519|    1491008|  VIC|    3051|  20307|a977fbf6-8a62-4d6...|1088.4702454956666|Female|    2021-07-23|   2021-07|         153091.0|      50408.0|    74432.0|    0.0|     1.3|       2.2|          94.1|       19.3|              NULL|     Quis Associates|14.239484308761591|     Other|       5.57|\n",
      "| 44417671872|       1175|  NSW|    2299|   3698|8931684d-f3f2-4c8...|1878.6095702903028|  Male|    2022-05-31|   2022-05|         179587.0|      57265.0|    72272.0|  852.0|     1.0|       2.6|         152.2|      456.9|              NULL|                NULL| 19.65968404776971|     Other|       4.92|\n",
      "| 71094934182|     657032|   SA|    5094|  13264|a4d79a70-6db2-474...| 36.24522657705961|Female|    2022-03-09|   2022-03|95246.66666666667|      52566.0|    58384.0| 1083.8|     1.6|       2.3|          99.7|      562.4|              NULL|Nonummy Ipsum Non...| 11.31345843138055|     Other|       1.86|\n",
      "| 20290993541|       1175|  NSW|    2299|   3698|ee4436ae-92d6-4c4...| 300.8654054400326|  Male|    2022-07-22|   2022-07|         179587.0|      57265.0|    72272.0|  852.0|     1.0|       2.6|         152.2|      456.9|              NULL|                NULL| 19.65968404776971|     Other|       4.92|\n",
      "| 22206721435|    1491008|  VIC|    3051|  20307|bd9a5af8-f0bd-44a...|  95.5634345007234|Female|    2021-03-06|   2021-03|         153091.0|      50408.0|    74432.0|    0.0|     1.3|       2.2|          94.1|       19.3|              NULL|Suspendisse Aliqu...|14.239484308761591|     Other|       4.65|\n",
      "| 79953723663|       1175|  NSW|    2299|   3698|a144cf2f-1b7c-4aa...| 14.31078555375803|  Male|    2022-06-07|   2022-06|         179587.0|      57265.0|    72272.0|  852.0|     1.0|       2.6|         152.2|      456.9|              NULL|                NULL| 19.65968404776971|     Other|       4.92|\n",
      "| 83045786081|     657032|   SA|    5094|  13264|ace9ae2b-b0dc-4e7...| 504.7834462287286|Female|    2021-12-26|   2021-12|95246.66666666667|      52566.0|    58384.0| 1008.2|     1.9|       2.3|          98.9|      524.5|              NULL|Ac Turpis Egestas...| 11.31345843138055|     Other|       1.83|\n",
      "| 47856542678|       1175|  NSW|    2299|   3698|3c0aae62-b36e-43f...|2.5565839575803944|  Male|    2022-08-31|   2022-08|         179587.0|      57265.0|    72272.0|  852.0|     1.0|       2.6|         152.2|      456.9|              NULL|                NULL| 19.65968404776971|     Other|       4.92|\n",
      "| 63465140133|    1491008|  VIC|    3051|  20307|cdaf5e81-7ab0-428...| 26.07256141311548|Female|    2022-06-06|   2022-06|         153091.0|      50408.0|    74432.0|    0.0|     1.3|       2.7|         100.9|       20.7|              NULL|  Vitae Odio Limited|14.239484308761591|     Other|       3.68|\n",
      "| 47856542678|       1175|  NSW|    2299|   3698|a4e6d721-b6b6-401...|12.455000923067361|  Male|    2021-04-04|   2021-04|         179587.0|      57265.0|    72272.0|  798.9|     1.0|       2.6|         141.8|      428.3|              NULL|                NULL| 19.65968404776971|     Other|       4.92|\n",
      "| 64203420245|     657032|   SA|    5094|  13264|d2cafaf0-7074-47f...| 3.312454913717363|Female|    2021-07-17|   2021-07|95246.66666666667|      52566.0|    58384.0| 1008.2|     1.9|       2.3|          98.9|      524.5|              NULL|  Pede Nonummy Corp.| 11.31345843138055|     Other|       2.86|\n",
      "| 79953723663|       1175|  NSW|    2299|   3698|2630bb22-b51b-4b7...| 99.84935175971437|  Male|    2022-01-13|   2022-01|         179587.0|      57265.0|    72272.0|  852.0|     1.0|       2.6|         152.2|      456.9|              NULL|                NULL| 19.65968404776971|     Other|       4.92|\n",
      "| 49278214714|    1491008|  VIC|    3051|  20307|fc11f2ed-8ccf-4bd...| 74.50199003120478|Female|    2022-01-25|   2022-01|         153091.0|      50408.0|    74432.0|    0.0|     1.3|       2.7|         100.9|       20.7|              NULL| Augue Malesuada LLP|14.239484308761591|     Other|       5.99|\n",
      "| 24406529929|       1175|  NSW|    2299|   3698|985fb3f1-ef97-4ac...| 71.26045074001692|  Male|    2021-05-31|   2021-05|         179587.0|      57265.0|    72272.0|  798.9|     1.0|       2.6|         141.8|      428.3|              NULL|                NULL| 19.65968404776971|     Other|       4.92|\n",
      "| 55501929396|     657032|   SA|    5094|  13264|e02e8805-1335-4f2...| 480.5899226346788|Female|    2022-01-29|   2022-01|95246.66666666667|      52566.0|    58384.0| 1083.8|     1.6|       2.3|          99.7|      562.4|              NULL|Mauris Sagittis C...| 11.31345843138055|     Other|        3.5|\n",
      "| 67330176930|       5483|  NSW|    2388|  21178|a50673f8-a09c-49f...| 54.19702575218817|  Male|    2022-05-14|   2022-05|          23689.5|      53127.5|    68585.5|  852.0|     1.0|       2.6|         152.2|      456.9|              NULL|                NULL|14.259827281461934|     Other|       4.92|\n",
      "| 64384611134|    1491008|  VIC|    3051|  20307|02de04b2-bfb2-4de...|23.819405904579863|Female|    2021-06-04|   2021-06|         153091.0|      50408.0|    74432.0|    0.0|     1.3|       2.2|          94.1|       19.3|              NULL|Eget Dictum Place...|14.239484308761591|     Other|       2.59|\n",
      "| 89295426212|       5483|  NSW|    2388|  21178|de878886-7e29-46d...|176.84374996944248|  Male|    2022-10-05|   2022-10|          23689.5|      53127.5|    68585.5|  852.0|     1.0|       2.6|         152.2|      456.9|              NULL|                NULL|14.259827281461934|     Other|       4.92|\n",
      "| 72177236569|     657032|   SA|    5094|  13264|ebf138e2-fd26-4fa...|194.79854297909174|Female|    2021-10-29|   2021-10|95246.66666666667|      52566.0|    58384.0| 1008.2|     1.9|       2.3|          98.9|      524.5|              NULL|Elit Pellentesque...| 11.31345843138055|     Other|       5.53|\n",
      "+------------+-----------+-----+--------+-------+--------------------+------------------+------+--------------+----------+-----------------+-------------+-----------+-------+--------+----------+--------------+-----------+------------------+--------------------+------------------+----------+-----------+\n",
      "only showing top 100 rows\n"
     ]
    }
   ],
   "source": [
    "initial_transaction.show(100)"
   ]
  }
 ],
 "metadata": {
  "kernelspec": {
   "display_name": "base",
   "language": "python",
   "name": "python3"
  },
  "language_info": {
   "codemirror_mode": {
    "name": "ipython",
    "version": 3
   },
   "file_extension": ".py",
   "mimetype": "text/x-python",
   "name": "python",
   "nbconvert_exporter": "python",
   "pygments_lexer": "ipython3",
   "version": "3.11.7"
  }
 },
 "nbformat": 4,
 "nbformat_minor": 5
}
